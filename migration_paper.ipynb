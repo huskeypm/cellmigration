{
  "nbformat": 4,
  "nbformat_minor": 0,
  "metadata": {
    "colab": {
      "provenance": [],
      "include_colab_link": true
    },
    "kernelspec": {
      "name": "python3",
      "display_name": "Python 3"
    },
    "language_info": {
      "name": "python"
    }
  },
  "cells": [
    {
      "cell_type": "markdown",
      "metadata": {
        "id": "view-in-github",
        "colab_type": "text"
      },
      "source": [
        "<a href=\"https://colab.research.google.com/github/huskeypm/cellmigration/blob/main/migration_paper.ipynb\" target=\"_parent\"><img src=\"https://colab.research.google.com/assets/colab-badge.svg\" alt=\"Open In Colab\"/></a>"
      ]
    },
    {
      "cell_type": "markdown",
      "source": [
        "### Notebook for processing particle simulator results\n",
        "(launched from github)\n",
        "\n",
        "* Upload csv files from working directory to DL:\n",
        "e.g.\n",
        "> cp $FAUST:/home/pkekeneshuskey/source/cellmigration/run/231129/test.png.csv ~/DL/\n",
        "\n",
        "or\n",
        "\n",
        "> cp /home/pkekeneshuskey/source/cellmigration/run/231129/test.png.csv ~/DL/\n",
        "\n",
        "* mount google drive to write data (just hit google drive button under Files)\n",
        "\n",
        "\n",
        "* Hop to [section](#myCell) to process\n"
      ],
      "metadata": {
        "id": "TZf5qh69fbAw"
      }
    },
    {
      "cell_type": "code",
      "source": [],
      "metadata": {
        "id": "sd1L7q-i2WPR"
      },
      "execution_count": null,
      "outputs": []
    },
    {
      "cell_type": "code",
      "source": [
        "%load_ext autoreload\n",
        "%autoreload 2"
      ],
      "metadata": {
        "id": "ryoMjP7ukiz2",
        "colab": {
          "base_uri": "https://localhost:8080/"
        },
        "outputId": "7018ac1d-becb-4ff9-bef9-cb8838a6ddac"
      },
      "execution_count": 5,
      "outputs": [
        {
          "output_type": "stream",
          "name": "stdout",
          "text": [
            "The autoreload extension is already loaded. To reload it, use:\n",
            "  %reload_ext autoreload\n"
          ]
        }
      ]
    },
    {
      "cell_type": "code",
      "source": [
        "# mount drive 1st (just for storing output images)\n",
        "from google.colab import drive\n",
        "drive.mount('/content/drive')"
      ],
      "metadata": {
        "id": "BVR_A7Q3YQt_",
        "outputId": "1ac937d3-5b1b-4e70-94f8-2851dcd3c6ee",
        "colab": {
          "base_uri": "https://localhost:8080/"
        }
      },
      "execution_count": 6,
      "outputs": [
        {
          "output_type": "stream",
          "name": "stdout",
          "text": [
            "Drive already mounted at /content/drive; to attempt to forcibly remount, call drive.mount(\"/content/drive\", force_remount=True).\n"
          ]
        }
      ]
    },
    {
      "cell_type": "code",
      "source": [
        "import os\n",
        "outPath='/content/drive/MyDrive/temp/231212/'\n",
        "if os.path.exists(outPath) is False:\n",
        "  raise RuntimeError(\"Be sure to mount google drive\")"
      ],
      "metadata": {
        "id": "ftr8Vr0YfTdl"
      },
      "execution_count": 7,
      "outputs": []
    },
    {
      "cell_type": "code",
      "source": [
        "!git clone https://github.com/huskeypm/cellmigration\n",
        "#!cd /content/cellmigration; git pull\n"
      ],
      "metadata": {
        "id": "Y7jd5WlmsrA-",
        "outputId": "beecaf52-ea48-487d-f95e-bfbad446e2f8",
        "colab": {
          "base_uri": "https://localhost:8080/"
        }
      },
      "execution_count": 23,
      "outputs": [
        {
          "output_type": "stream",
          "name": "stdout",
          "text": [
            "remote: Enumerating objects: 17, done.\u001b[K\n",
            "remote: Counting objects:   7% (1/14)\u001b[K\rremote: Counting objects:  14% (2/14)\u001b[K\rremote: Counting objects:  21% (3/14)\u001b[K\rremote: Counting objects:  28% (4/14)\u001b[K\rremote: Counting objects:  35% (5/14)\u001b[K\rremote: Counting objects:  42% (6/14)\u001b[K\rremote: Counting objects:  50% (7/14)\u001b[K\rremote: Counting objects:  57% (8/14)\u001b[K\rremote: Counting objects:  64% (9/14)\u001b[K\rremote: Counting objects:  71% (10/14)\u001b[K\rremote: Counting objects:  78% (11/14)\u001b[K\rremote: Counting objects:  85% (12/14)\u001b[K\rremote: Counting objects:  92% (13/14)\u001b[K\rremote: Counting objects: 100% (14/14)\u001b[K\rremote: Counting objects: 100% (14/14), done.\u001b[K\n",
            "remote: Compressing objects:  33% (1/3)\u001b[K\rremote: Compressing objects:  66% (2/3)\u001b[K\rremote: Compressing objects: 100% (3/3)\u001b[K\rremote: Compressing objects: 100% (3/3), done.\u001b[K\n",
            "remote: Total 9 (delta 6), reused 9 (delta 6), pack-reused 0\u001b[K\n",
            "Unpacking objects:  11% (1/9)\rUnpacking objects:  22% (2/9)\rUnpacking objects:  33% (3/9)\rUnpacking objects:  44% (4/9)\rUnpacking objects:  55% (5/9)\rUnpacking objects:  66% (6/9)\rUnpacking objects:  77% (7/9)\rUnpacking objects:  88% (8/9)\rUnpacking objects: 100% (9/9)\rUnpacking objects: 100% (9/9), 985 bytes | 246.00 KiB/s, done.\n",
            "From https://github.com/huskeypm/cellmigration\n",
            "   ab2c651..d0b9adf  main       -> origin/main\n",
            "Updating ab2c651..d0b9adf\n",
            "Fast-forward\n",
            " paper/template_full.yaml | 2 \u001b[32m+\u001b[m\u001b[31m-\u001b[m\n",
            " processData.py           | 2 \u001b[32m+\u001b[m\u001b[31m-\u001b[m\n",
            " 2 files changed, 2 insertions(+), 2 deletions(-)\n"
          ]
        }
      ]
    },
    {
      "cell_type": "code",
      "source": [
        "import sys\n",
        "sys.path.append('/content/cellmigration')"
      ],
      "metadata": {
        "id": "2pBkO3uH4w3o"
      },
      "execution_count": 9,
      "outputs": []
    },
    {
      "cell_type": "code",
      "execution_count": 10,
      "metadata": {
        "id": "KCaOfGyHgS1t",
        "colab": {
          "base_uri": "https://localhost:8080/"
        },
        "outputId": "e7b3f2ae-8489-49be-b43d-102c3c34454d"
      },
      "outputs": [
        {
          "output_type": "stream",
          "name": "stderr",
          "text": [
            "/content/cellmigration/processData.py:15: SyntaxWarning: \"is not\" with a literal. Did you mean \"!=\"?\n",
            "  if key is not 'all':\n"
          ]
        }
      ],
      "source": [
        "import pandas as pd\n",
        "import numpy as np\n",
        "import matplotlib.pylab as plt\n",
        "import processData as pdat\n",
        "cases = dict()\n",
        "class empty:pass"
      ]
    },
    {
      "cell_type": "code",
      "source": [],
      "metadata": {
        "id": "doDj_Vzbbriy"
      },
      "execution_count": 10,
      "outputs": []
    },
    {
      "cell_type": "code",
      "source": [],
      "metadata": {
        "id": "0Dj5ZaCjf8q-"
      },
      "execution_count": 10,
      "outputs": []
    },
    {
      "cell_type": "markdown",
      "source": [
        "Partition file according to cases"
      ],
      "metadata": {
        "id": "VwNaAP-0eJUQ"
      }
    },
    {
      "cell_type": "code",
      "source": [],
      "metadata": {
        "id": "pBnnFyYV8MXe",
        "outputId": "288dc91e-d328-417c-88f3-6e1d53862402",
        "colab": {
          "base_uri": "https://localhost:8080/",
          "height": 461
        }
      },
      "execution_count": 15,
      "outputs": [
        {
          "output_type": "execute_result",
          "data": {
            "text/plain": [
              "     Unnamed: 0                                   trajName          tag  \\\n",
              "0             0         crowder_atp_crowderAttr0.050000_00  crowderAttr   \n",
              "1             0         crowder_atp_crowderAttr0.050000_01  crowderAttr   \n",
              "2             0         crowder_atp_crowderAttr0.050000_02  crowderAttr   \n",
              "3             0         crowder_atp_crowderAttr0.050000_03  crowderAttr   \n",
              "4             0         crowder_atp_crowderAttr0.050000_04  crowderAttr   \n",
              "..          ...                                        ...          ...   \n",
              "451           0  nocrowder_nocontainment_xScale0.000000_00       xScale   \n",
              "452           0  nocrowder_nocontainment_xScale0.000000_01       xScale   \n",
              "453           0  nocrowder_nocontainment_xScale0.000000_02       xScale   \n",
              "454           0  nocrowder_nocontainment_xScale0.000000_03       xScale   \n",
              "455           0  nocrowder_nocontainment_xScale0.000000_04       xScale   \n",
              "\n",
              "     condVal         D  flux*A(reservoir)  flux*A(crowd)  Vol Frac  Area Frac  \n",
              "0       0.05 -0.000199      -7.036006e-07  -1.056677e-09  0.434513   0.619325  \n",
              "1       0.05  0.000053      -6.929111e-07  -1.190069e-09  0.434513   0.622488  \n",
              "2       0.05  0.000146      -6.879608e-07  -1.074721e-09  0.434513   0.624003  \n",
              "3       0.05 -0.000032      -6.441627e-07  -9.522912e-10  0.434513   0.619359  \n",
              "4       0.05  0.000027      -6.468736e-07  -1.113374e-09  0.434513   0.622756  \n",
              "..       ...       ...                ...            ...       ...        ...  \n",
              "451     0.00  0.925943      -3.137859e-07   2.741238e-08  0.999997   0.362106  \n",
              "452     0.00  0.806456      -3.978245e-07   4.303394e-08  0.999997   0.407166  \n",
              "453     0.00  1.163383      -2.771831e-07   3.924223e-08  0.999997   0.378041  \n",
              "454     0.00  0.902040      -4.624578e-07   3.308738e-08  0.999997   0.370025  \n",
              "455     0.00  0.965628      -5.137732e-08   3.668838e-08  0.999997   0.358837  \n",
              "\n",
              "[456 rows x 9 columns]"
            ],
            "text/html": [
              "\n",
              "  <div id=\"df-411ad828-102a-4681-943d-5e9b645a9e14\" class=\"colab-df-container\">\n",
              "    <div>\n",
              "<style scoped>\n",
              "    .dataframe tbody tr th:only-of-type {\n",
              "        vertical-align: middle;\n",
              "    }\n",
              "\n",
              "    .dataframe tbody tr th {\n",
              "        vertical-align: top;\n",
              "    }\n",
              "\n",
              "    .dataframe thead th {\n",
              "        text-align: right;\n",
              "    }\n",
              "</style>\n",
              "<table border=\"1\" class=\"dataframe\">\n",
              "  <thead>\n",
              "    <tr style=\"text-align: right;\">\n",
              "      <th></th>\n",
              "      <th>Unnamed: 0</th>\n",
              "      <th>trajName</th>\n",
              "      <th>tag</th>\n",
              "      <th>condVal</th>\n",
              "      <th>D</th>\n",
              "      <th>flux*A(reservoir)</th>\n",
              "      <th>flux*A(crowd)</th>\n",
              "      <th>Vol Frac</th>\n",
              "      <th>Area Frac</th>\n",
              "    </tr>\n",
              "  </thead>\n",
              "  <tbody>\n",
              "    <tr>\n",
              "      <th>0</th>\n",
              "      <td>0</td>\n",
              "      <td>crowder_atp_crowderAttr0.050000_00</td>\n",
              "      <td>crowderAttr</td>\n",
              "      <td>0.05</td>\n",
              "      <td>-0.000199</td>\n",
              "      <td>-7.036006e-07</td>\n",
              "      <td>-1.056677e-09</td>\n",
              "      <td>0.434513</td>\n",
              "      <td>0.619325</td>\n",
              "    </tr>\n",
              "    <tr>\n",
              "      <th>1</th>\n",
              "      <td>0</td>\n",
              "      <td>crowder_atp_crowderAttr0.050000_01</td>\n",
              "      <td>crowderAttr</td>\n",
              "      <td>0.05</td>\n",
              "      <td>0.000053</td>\n",
              "      <td>-6.929111e-07</td>\n",
              "      <td>-1.190069e-09</td>\n",
              "      <td>0.434513</td>\n",
              "      <td>0.622488</td>\n",
              "    </tr>\n",
              "    <tr>\n",
              "      <th>2</th>\n",
              "      <td>0</td>\n",
              "      <td>crowder_atp_crowderAttr0.050000_02</td>\n",
              "      <td>crowderAttr</td>\n",
              "      <td>0.05</td>\n",
              "      <td>0.000146</td>\n",
              "      <td>-6.879608e-07</td>\n",
              "      <td>-1.074721e-09</td>\n",
              "      <td>0.434513</td>\n",
              "      <td>0.624003</td>\n",
              "    </tr>\n",
              "    <tr>\n",
              "      <th>3</th>\n",
              "      <td>0</td>\n",
              "      <td>crowder_atp_crowderAttr0.050000_03</td>\n",
              "      <td>crowderAttr</td>\n",
              "      <td>0.05</td>\n",
              "      <td>-0.000032</td>\n",
              "      <td>-6.441627e-07</td>\n",
              "      <td>-9.522912e-10</td>\n",
              "      <td>0.434513</td>\n",
              "      <td>0.619359</td>\n",
              "    </tr>\n",
              "    <tr>\n",
              "      <th>4</th>\n",
              "      <td>0</td>\n",
              "      <td>crowder_atp_crowderAttr0.050000_04</td>\n",
              "      <td>crowderAttr</td>\n",
              "      <td>0.05</td>\n",
              "      <td>0.000027</td>\n",
              "      <td>-6.468736e-07</td>\n",
              "      <td>-1.113374e-09</td>\n",
              "      <td>0.434513</td>\n",
              "      <td>0.622756</td>\n",
              "    </tr>\n",
              "    <tr>\n",
              "      <th>...</th>\n",
              "      <td>...</td>\n",
              "      <td>...</td>\n",
              "      <td>...</td>\n",
              "      <td>...</td>\n",
              "      <td>...</td>\n",
              "      <td>...</td>\n",
              "      <td>...</td>\n",
              "      <td>...</td>\n",
              "      <td>...</td>\n",
              "    </tr>\n",
              "    <tr>\n",
              "      <th>451</th>\n",
              "      <td>0</td>\n",
              "      <td>nocrowder_nocontainment_xScale0.000000_00</td>\n",
              "      <td>xScale</td>\n",
              "      <td>0.00</td>\n",
              "      <td>0.925943</td>\n",
              "      <td>-3.137859e-07</td>\n",
              "      <td>2.741238e-08</td>\n",
              "      <td>0.999997</td>\n",
              "      <td>0.362106</td>\n",
              "    </tr>\n",
              "    <tr>\n",
              "      <th>452</th>\n",
              "      <td>0</td>\n",
              "      <td>nocrowder_nocontainment_xScale0.000000_01</td>\n",
              "      <td>xScale</td>\n",
              "      <td>0.00</td>\n",
              "      <td>0.806456</td>\n",
              "      <td>-3.978245e-07</td>\n",
              "      <td>4.303394e-08</td>\n",
              "      <td>0.999997</td>\n",
              "      <td>0.407166</td>\n",
              "    </tr>\n",
              "    <tr>\n",
              "      <th>453</th>\n",
              "      <td>0</td>\n",
              "      <td>nocrowder_nocontainment_xScale0.000000_02</td>\n",
              "      <td>xScale</td>\n",
              "      <td>0.00</td>\n",
              "      <td>1.163383</td>\n",
              "      <td>-2.771831e-07</td>\n",
              "      <td>3.924223e-08</td>\n",
              "      <td>0.999997</td>\n",
              "      <td>0.378041</td>\n",
              "    </tr>\n",
              "    <tr>\n",
              "      <th>454</th>\n",
              "      <td>0</td>\n",
              "      <td>nocrowder_nocontainment_xScale0.000000_03</td>\n",
              "      <td>xScale</td>\n",
              "      <td>0.00</td>\n",
              "      <td>0.902040</td>\n",
              "      <td>-4.624578e-07</td>\n",
              "      <td>3.308738e-08</td>\n",
              "      <td>0.999997</td>\n",
              "      <td>0.370025</td>\n",
              "    </tr>\n",
              "    <tr>\n",
              "      <th>455</th>\n",
              "      <td>0</td>\n",
              "      <td>nocrowder_nocontainment_xScale0.000000_04</td>\n",
              "      <td>xScale</td>\n",
              "      <td>0.00</td>\n",
              "      <td>0.965628</td>\n",
              "      <td>-5.137732e-08</td>\n",
              "      <td>3.668838e-08</td>\n",
              "      <td>0.999997</td>\n",
              "      <td>0.358837</td>\n",
              "    </tr>\n",
              "  </tbody>\n",
              "</table>\n",
              "<p>456 rows × 9 columns</p>\n",
              "</div>\n",
              "    <div class=\"colab-df-buttons\">\n",
              "\n",
              "  <div class=\"colab-df-container\">\n",
              "    <button class=\"colab-df-convert\" onclick=\"convertToInteractive('df-411ad828-102a-4681-943d-5e9b645a9e14')\"\n",
              "            title=\"Convert this dataframe to an interactive table.\"\n",
              "            style=\"display:none;\">\n",
              "\n",
              "  <svg xmlns=\"http://www.w3.org/2000/svg\" height=\"24px\" viewBox=\"0 -960 960 960\">\n",
              "    <path d=\"M120-120v-720h720v720H120Zm60-500h600v-160H180v160Zm220 220h160v-160H400v160Zm0 220h160v-160H400v160ZM180-400h160v-160H180v160Zm440 0h160v-160H620v160ZM180-180h160v-160H180v160Zm440 0h160v-160H620v160Z\"/>\n",
              "  </svg>\n",
              "    </button>\n",
              "\n",
              "  <style>\n",
              "    .colab-df-container {\n",
              "      display:flex;\n",
              "      gap: 12px;\n",
              "    }\n",
              "\n",
              "    .colab-df-convert {\n",
              "      background-color: #E8F0FE;\n",
              "      border: none;\n",
              "      border-radius: 50%;\n",
              "      cursor: pointer;\n",
              "      display: none;\n",
              "      fill: #1967D2;\n",
              "      height: 32px;\n",
              "      padding: 0 0 0 0;\n",
              "      width: 32px;\n",
              "    }\n",
              "\n",
              "    .colab-df-convert:hover {\n",
              "      background-color: #E2EBFA;\n",
              "      box-shadow: 0px 1px 2px rgba(60, 64, 67, 0.3), 0px 1px 3px 1px rgba(60, 64, 67, 0.15);\n",
              "      fill: #174EA6;\n",
              "    }\n",
              "\n",
              "    .colab-df-buttons div {\n",
              "      margin-bottom: 4px;\n",
              "    }\n",
              "\n",
              "    [theme=dark] .colab-df-convert {\n",
              "      background-color: #3B4455;\n",
              "      fill: #D2E3FC;\n",
              "    }\n",
              "\n",
              "    [theme=dark] .colab-df-convert:hover {\n",
              "      background-color: #434B5C;\n",
              "      box-shadow: 0px 1px 3px 1px rgba(0, 0, 0, 0.15);\n",
              "      filter: drop-shadow(0px 1px 2px rgba(0, 0, 0, 0.3));\n",
              "      fill: #FFFFFF;\n",
              "    }\n",
              "  </style>\n",
              "\n",
              "    <script>\n",
              "      const buttonEl =\n",
              "        document.querySelector('#df-411ad828-102a-4681-943d-5e9b645a9e14 button.colab-df-convert');\n",
              "      buttonEl.style.display =\n",
              "        google.colab.kernel.accessAllowed ? 'block' : 'none';\n",
              "\n",
              "      async function convertToInteractive(key) {\n",
              "        const element = document.querySelector('#df-411ad828-102a-4681-943d-5e9b645a9e14');\n",
              "        const dataTable =\n",
              "          await google.colab.kernel.invokeFunction('convertToInteractive',\n",
              "                                                    [key], {});\n",
              "        if (!dataTable) return;\n",
              "\n",
              "        const docLinkHtml = 'Like what you see? Visit the ' +\n",
              "          '<a target=\"_blank\" href=https://colab.research.google.com/notebooks/data_table.ipynb>data table notebook</a>'\n",
              "          + ' to learn more about interactive tables.';\n",
              "        element.innerHTML = '';\n",
              "        dataTable['output_type'] = 'display_data';\n",
              "        await google.colab.output.renderOutput(dataTable, element);\n",
              "        const docLink = document.createElement('div');\n",
              "        docLink.innerHTML = docLinkHtml;\n",
              "        element.appendChild(docLink);\n",
              "      }\n",
              "    </script>\n",
              "  </div>\n",
              "\n",
              "\n",
              "<div id=\"df-4b1d3e7b-a4a2-4e95-a6ad-184f2c831f82\">\n",
              "  <button class=\"colab-df-quickchart\" onclick=\"quickchart('df-4b1d3e7b-a4a2-4e95-a6ad-184f2c831f82')\"\n",
              "            title=\"Suggest charts\"\n",
              "            style=\"display:none;\">\n",
              "\n",
              "<svg xmlns=\"http://www.w3.org/2000/svg\" height=\"24px\"viewBox=\"0 0 24 24\"\n",
              "     width=\"24px\">\n",
              "    <g>\n",
              "        <path d=\"M19 3H5c-1.1 0-2 .9-2 2v14c0 1.1.9 2 2 2h14c1.1 0 2-.9 2-2V5c0-1.1-.9-2-2-2zM9 17H7v-7h2v7zm4 0h-2V7h2v10zm4 0h-2v-4h2v4z\"/>\n",
              "    </g>\n",
              "</svg>\n",
              "  </button>\n",
              "\n",
              "<style>\n",
              "  .colab-df-quickchart {\n",
              "      --bg-color: #E8F0FE;\n",
              "      --fill-color: #1967D2;\n",
              "      --hover-bg-color: #E2EBFA;\n",
              "      --hover-fill-color: #174EA6;\n",
              "      --disabled-fill-color: #AAA;\n",
              "      --disabled-bg-color: #DDD;\n",
              "  }\n",
              "\n",
              "  [theme=dark] .colab-df-quickchart {\n",
              "      --bg-color: #3B4455;\n",
              "      --fill-color: #D2E3FC;\n",
              "      --hover-bg-color: #434B5C;\n",
              "      --hover-fill-color: #FFFFFF;\n",
              "      --disabled-bg-color: #3B4455;\n",
              "      --disabled-fill-color: #666;\n",
              "  }\n",
              "\n",
              "  .colab-df-quickchart {\n",
              "    background-color: var(--bg-color);\n",
              "    border: none;\n",
              "    border-radius: 50%;\n",
              "    cursor: pointer;\n",
              "    display: none;\n",
              "    fill: var(--fill-color);\n",
              "    height: 32px;\n",
              "    padding: 0;\n",
              "    width: 32px;\n",
              "  }\n",
              "\n",
              "  .colab-df-quickchart:hover {\n",
              "    background-color: var(--hover-bg-color);\n",
              "    box-shadow: 0 1px 2px rgba(60, 64, 67, 0.3), 0 1px 3px 1px rgba(60, 64, 67, 0.15);\n",
              "    fill: var(--button-hover-fill-color);\n",
              "  }\n",
              "\n",
              "  .colab-df-quickchart-complete:disabled,\n",
              "  .colab-df-quickchart-complete:disabled:hover {\n",
              "    background-color: var(--disabled-bg-color);\n",
              "    fill: var(--disabled-fill-color);\n",
              "    box-shadow: none;\n",
              "  }\n",
              "\n",
              "  .colab-df-spinner {\n",
              "    border: 2px solid var(--fill-color);\n",
              "    border-color: transparent;\n",
              "    border-bottom-color: var(--fill-color);\n",
              "    animation:\n",
              "      spin 1s steps(1) infinite;\n",
              "  }\n",
              "\n",
              "  @keyframes spin {\n",
              "    0% {\n",
              "      border-color: transparent;\n",
              "      border-bottom-color: var(--fill-color);\n",
              "      border-left-color: var(--fill-color);\n",
              "    }\n",
              "    20% {\n",
              "      border-color: transparent;\n",
              "      border-left-color: var(--fill-color);\n",
              "      border-top-color: var(--fill-color);\n",
              "    }\n",
              "    30% {\n",
              "      border-color: transparent;\n",
              "      border-left-color: var(--fill-color);\n",
              "      border-top-color: var(--fill-color);\n",
              "      border-right-color: var(--fill-color);\n",
              "    }\n",
              "    40% {\n",
              "      border-color: transparent;\n",
              "      border-right-color: var(--fill-color);\n",
              "      border-top-color: var(--fill-color);\n",
              "    }\n",
              "    60% {\n",
              "      border-color: transparent;\n",
              "      border-right-color: var(--fill-color);\n",
              "    }\n",
              "    80% {\n",
              "      border-color: transparent;\n",
              "      border-right-color: var(--fill-color);\n",
              "      border-bottom-color: var(--fill-color);\n",
              "    }\n",
              "    90% {\n",
              "      border-color: transparent;\n",
              "      border-bottom-color: var(--fill-color);\n",
              "    }\n",
              "  }\n",
              "</style>\n",
              "\n",
              "  <script>\n",
              "    async function quickchart(key) {\n",
              "      const quickchartButtonEl =\n",
              "        document.querySelector('#' + key + ' button');\n",
              "      quickchartButtonEl.disabled = true;  // To prevent multiple clicks.\n",
              "      quickchartButtonEl.classList.add('colab-df-spinner');\n",
              "      try {\n",
              "        const charts = await google.colab.kernel.invokeFunction(\n",
              "            'suggestCharts', [key], {});\n",
              "      } catch (error) {\n",
              "        console.error('Error during call to suggestCharts:', error);\n",
              "      }\n",
              "      quickchartButtonEl.classList.remove('colab-df-spinner');\n",
              "      quickchartButtonEl.classList.add('colab-df-quickchart-complete');\n",
              "    }\n",
              "    (() => {\n",
              "      let quickchartButtonEl =\n",
              "        document.querySelector('#df-4b1d3e7b-a4a2-4e95-a6ad-184f2c831f82 button');\n",
              "      quickchartButtonEl.style.display =\n",
              "        google.colab.kernel.accessAllowed ? 'block' : 'none';\n",
              "    })();\n",
              "  </script>\n",
              "</div>\n",
              "\n",
              "  <div id=\"id_c6671ce4-4d48-4085-b535-b908b32a56b5\">\n",
              "    <style>\n",
              "      .colab-df-generate {\n",
              "        background-color: #E8F0FE;\n",
              "        border: none;\n",
              "        border-radius: 50%;\n",
              "        cursor: pointer;\n",
              "        display: none;\n",
              "        fill: #1967D2;\n",
              "        height: 32px;\n",
              "        padding: 0 0 0 0;\n",
              "        width: 32px;\n",
              "      }\n",
              "\n",
              "      .colab-df-generate:hover {\n",
              "        background-color: #E2EBFA;\n",
              "        box-shadow: 0px 1px 2px rgba(60, 64, 67, 0.3), 0px 1px 3px 1px rgba(60, 64, 67, 0.15);\n",
              "        fill: #174EA6;\n",
              "      }\n",
              "\n",
              "      [theme=dark] .colab-df-generate {\n",
              "        background-color: #3B4455;\n",
              "        fill: #D2E3FC;\n",
              "      }\n",
              "\n",
              "      [theme=dark] .colab-df-generate:hover {\n",
              "        background-color: #434B5C;\n",
              "        box-shadow: 0px 1px 3px 1px rgba(0, 0, 0, 0.15);\n",
              "        filter: drop-shadow(0px 1px 2px rgba(0, 0, 0, 0.3));\n",
              "        fill: #FFFFFF;\n",
              "      }\n",
              "    </style>\n",
              "    <button class=\"colab-df-generate\" onclick=\"generateWithVariable('df')\"\n",
              "            title=\"Generate code using this dataframe.\"\n",
              "            style=\"display:none;\">\n",
              "\n",
              "  <svg xmlns=\"http://www.w3.org/2000/svg\" height=\"24px\"viewBox=\"0 0 24 24\"\n",
              "       width=\"24px\">\n",
              "    <path d=\"M7,19H8.4L18.45,9,17,7.55,7,17.6ZM5,21V16.75L18.45,3.32a2,2,0,0,1,2.83,0l1.4,1.43a1.91,1.91,0,0,1,.58,1.4,1.91,1.91,0,0,1-.58,1.4L9.25,21ZM18.45,9,17,7.55Zm-12,3A5.31,5.31,0,0,0,4.9,8.1,5.31,5.31,0,0,0,1,6.5,5.31,5.31,0,0,0,4.9,4.9,5.31,5.31,0,0,0,6.5,1,5.31,5.31,0,0,0,8.1,4.9,5.31,5.31,0,0,0,12,6.5,5.46,5.46,0,0,0,6.5,12Z\"/>\n",
              "  </svg>\n",
              "    </button>\n",
              "    <script>\n",
              "      (() => {\n",
              "      const buttonEl =\n",
              "        document.querySelector('#id_c6671ce4-4d48-4085-b535-b908b32a56b5 button.colab-df-generate');\n",
              "      buttonEl.style.display =\n",
              "        google.colab.kernel.accessAllowed ? 'block' : 'none';\n",
              "\n",
              "      buttonEl.onclick = () => {\n",
              "        google.colab.notebook.generateWithVariable('df');\n",
              "      }\n",
              "      })();\n",
              "    </script>\n",
              "  </div>\n",
              "\n",
              "    </div>\n",
              "  </div>\n"
            ]
          },
          "metadata": {},
          "execution_count": 15
        }
      ]
    },
    {
      "cell_type": "code",
      "source": [
        "dataFrameName = outPath+\"all.csv\"\n",
        "\n",
        "df = pd.read_csv(dataFrameName)\n",
        "\n",
        "# get number of cases\n",
        "ex = 'nocrowder_nocontainment_xScale0.000000_'#assuming ends w 00,01,..0X\n",
        "nCases = len(df.query('trajName.str.startswith(\"%s\")'%ex))\n",
        "print(\"We found %d runs per case\"%nCases)"
      ],
      "metadata": {
        "id": "oTIJULZpeEmX",
        "colab": {
          "base_uri": "https://localhost:8080/"
        },
        "outputId": "548e83b7-cdcc-4aea-adbf-31e315ccd490"
      },
      "execution_count": 28,
      "outputs": [
        {
          "output_type": "stream",
          "name": "stdout",
          "text": [
            "We found 5 runs per case\n"
          ]
        }
      ]
    },
    {
      "cell_type": "code",
      "source": [
        "### pull out those without ATP in the title\n",
        "#new_df = df[~df[\"col\"].str.contains(word)]\n",
        "\n",
        "nocrowder_unconstr = df.loc[\n",
        "     df['trajName'].str.contains(\"nocrowder_nocontainment\")  &\n",
        "    ~df['trajName'].str.contains(\"atp\")\n",
        "]\n",
        "\n",
        "\n",
        "nocrowder_noatp = df.loc[\n",
        "     df['trajName'].str.contains(\"nocrowder\")  &\n",
        "    ~df['trajName'].str.contains(\"atp\")\n",
        "]\n",
        "\n",
        "nocrowder_atp = df.loc[\n",
        "     df['trajName'].str.contains(\"nocrowder\")  &\n",
        "     df['trajName'].str.contains(\"atp\")\n",
        "]\n",
        "\n",
        "crowder_noatp = df.loc[\n",
        "     df['trajName'].str.contains(\"^crowder\")  &\n",
        "    ~df['trajName'].str.contains(\"atp\")\n",
        "]\n",
        "#print(crowder_noatp.tail())\n",
        "\n",
        "crowder_atp = df.loc[\n",
        "     df['trajName'].str.contains(\"^crowder\")  &\n",
        "     df['trajName'].str.contains(\"atp\")\n",
        "]\n"
      ],
      "metadata": {
        "id": "sYFmKJvEeIlX"
      },
      "execution_count": 29,
      "outputs": []
    },
    {
      "cell_type": "code",
      "source": [
        "df.loc[\n",
        "     df['trajName'].str.contains(\"crowderAttr\") ]"
      ],
      "metadata": {
        "id": "LFSyleFuYKic",
        "outputId": "e6ecdee8-4cb0-4761-895a-525022b15acf",
        "colab": {
          "base_uri": "https://localhost:8080/",
          "height": 461
        }
      },
      "execution_count": 30,
      "outputs": [
        {
          "output_type": "execute_result",
          "data": {
            "text/plain": [
              "     Unnamed: 0                            trajName          tag  condVal  \\\n",
              "0             0  crowder_atp_crowderAttr0.050000_00  crowderAttr     0.05   \n",
              "1             0  crowder_atp_crowderAttr0.050000_01  crowderAttr     0.05   \n",
              "2             0  crowder_atp_crowderAttr0.050000_02  crowderAttr     0.05   \n",
              "3             0  crowder_atp_crowderAttr0.050000_03  crowderAttr     0.05   \n",
              "4             0  crowder_atp_crowderAttr0.050000_04  crowderAttr     0.05   \n",
              "..          ...                                 ...          ...      ...   \n",
              "114           0      crowder_crowderAttr0.200000_03  crowderAttr     0.20   \n",
              "115           0      crowder_crowderAttr0.200000_04  crowderAttr     0.20   \n",
              "116           0      crowder_crowderAttr2.000000_00  crowderAttr     2.00   \n",
              "117           0      crowder_crowderAttr4.000000_00  crowderAttr     4.00   \n",
              "118           0      crowder_crowderAttr6.000000_00  crowderAttr     6.00   \n",
              "\n",
              "            D  flux*A(reservoir)  flux*A(crowd)  Vol Frac  Area Frac  \n",
              "0   -0.000199      -7.036006e-07  -1.056677e-09  0.434513   0.619325  \n",
              "1    0.000053      -6.929111e-07  -1.190069e-09  0.434513   0.622488  \n",
              "2    0.000146      -6.879608e-07  -1.074721e-09  0.434513   0.624003  \n",
              "3   -0.000032      -6.441627e-07  -9.522912e-10  0.434513   0.619359  \n",
              "4    0.000027      -6.468736e-07  -1.113374e-09  0.434513   0.622756  \n",
              "..        ...                ...            ...       ...        ...  \n",
              "114  0.000074      -5.710474e-07  -1.231778e-09  0.434513   0.587806  \n",
              "115  0.000148      -5.232525e-07  -1.286706e-09  0.434513   0.584584  \n",
              "116 -0.000002      -5.602062e-07  -1.206223e-09  0.434513   0.536959  \n",
              "117  0.000186      -5.778484e-07  -1.089259e-09  0.434513   0.517088  \n",
              "118  0.000180      -5.249239e-07  -1.061556e-09  0.434513   0.513266  \n",
              "\n",
              "[71 rows x 9 columns]"
            ],
            "text/html": [
              "\n",
              "  <div id=\"df-b03f5a2f-8da9-433c-b607-9d98c74ebf39\" class=\"colab-df-container\">\n",
              "    <div>\n",
              "<style scoped>\n",
              "    .dataframe tbody tr th:only-of-type {\n",
              "        vertical-align: middle;\n",
              "    }\n",
              "\n",
              "    .dataframe tbody tr th {\n",
              "        vertical-align: top;\n",
              "    }\n",
              "\n",
              "    .dataframe thead th {\n",
              "        text-align: right;\n",
              "    }\n",
              "</style>\n",
              "<table border=\"1\" class=\"dataframe\">\n",
              "  <thead>\n",
              "    <tr style=\"text-align: right;\">\n",
              "      <th></th>\n",
              "      <th>Unnamed: 0</th>\n",
              "      <th>trajName</th>\n",
              "      <th>tag</th>\n",
              "      <th>condVal</th>\n",
              "      <th>D</th>\n",
              "      <th>flux*A(reservoir)</th>\n",
              "      <th>flux*A(crowd)</th>\n",
              "      <th>Vol Frac</th>\n",
              "      <th>Area Frac</th>\n",
              "    </tr>\n",
              "  </thead>\n",
              "  <tbody>\n",
              "    <tr>\n",
              "      <th>0</th>\n",
              "      <td>0</td>\n",
              "      <td>crowder_atp_crowderAttr0.050000_00</td>\n",
              "      <td>crowderAttr</td>\n",
              "      <td>0.05</td>\n",
              "      <td>-0.000199</td>\n",
              "      <td>-7.036006e-07</td>\n",
              "      <td>-1.056677e-09</td>\n",
              "      <td>0.434513</td>\n",
              "      <td>0.619325</td>\n",
              "    </tr>\n",
              "    <tr>\n",
              "      <th>1</th>\n",
              "      <td>0</td>\n",
              "      <td>crowder_atp_crowderAttr0.050000_01</td>\n",
              "      <td>crowderAttr</td>\n",
              "      <td>0.05</td>\n",
              "      <td>0.000053</td>\n",
              "      <td>-6.929111e-07</td>\n",
              "      <td>-1.190069e-09</td>\n",
              "      <td>0.434513</td>\n",
              "      <td>0.622488</td>\n",
              "    </tr>\n",
              "    <tr>\n",
              "      <th>2</th>\n",
              "      <td>0</td>\n",
              "      <td>crowder_atp_crowderAttr0.050000_02</td>\n",
              "      <td>crowderAttr</td>\n",
              "      <td>0.05</td>\n",
              "      <td>0.000146</td>\n",
              "      <td>-6.879608e-07</td>\n",
              "      <td>-1.074721e-09</td>\n",
              "      <td>0.434513</td>\n",
              "      <td>0.624003</td>\n",
              "    </tr>\n",
              "    <tr>\n",
              "      <th>3</th>\n",
              "      <td>0</td>\n",
              "      <td>crowder_atp_crowderAttr0.050000_03</td>\n",
              "      <td>crowderAttr</td>\n",
              "      <td>0.05</td>\n",
              "      <td>-0.000032</td>\n",
              "      <td>-6.441627e-07</td>\n",
              "      <td>-9.522912e-10</td>\n",
              "      <td>0.434513</td>\n",
              "      <td>0.619359</td>\n",
              "    </tr>\n",
              "    <tr>\n",
              "      <th>4</th>\n",
              "      <td>0</td>\n",
              "      <td>crowder_atp_crowderAttr0.050000_04</td>\n",
              "      <td>crowderAttr</td>\n",
              "      <td>0.05</td>\n",
              "      <td>0.000027</td>\n",
              "      <td>-6.468736e-07</td>\n",
              "      <td>-1.113374e-09</td>\n",
              "      <td>0.434513</td>\n",
              "      <td>0.622756</td>\n",
              "    </tr>\n",
              "    <tr>\n",
              "      <th>...</th>\n",
              "      <td>...</td>\n",
              "      <td>...</td>\n",
              "      <td>...</td>\n",
              "      <td>...</td>\n",
              "      <td>...</td>\n",
              "      <td>...</td>\n",
              "      <td>...</td>\n",
              "      <td>...</td>\n",
              "      <td>...</td>\n",
              "    </tr>\n",
              "    <tr>\n",
              "      <th>114</th>\n",
              "      <td>0</td>\n",
              "      <td>crowder_crowderAttr0.200000_03</td>\n",
              "      <td>crowderAttr</td>\n",
              "      <td>0.20</td>\n",
              "      <td>0.000074</td>\n",
              "      <td>-5.710474e-07</td>\n",
              "      <td>-1.231778e-09</td>\n",
              "      <td>0.434513</td>\n",
              "      <td>0.587806</td>\n",
              "    </tr>\n",
              "    <tr>\n",
              "      <th>115</th>\n",
              "      <td>0</td>\n",
              "      <td>crowder_crowderAttr0.200000_04</td>\n",
              "      <td>crowderAttr</td>\n",
              "      <td>0.20</td>\n",
              "      <td>0.000148</td>\n",
              "      <td>-5.232525e-07</td>\n",
              "      <td>-1.286706e-09</td>\n",
              "      <td>0.434513</td>\n",
              "      <td>0.584584</td>\n",
              "    </tr>\n",
              "    <tr>\n",
              "      <th>116</th>\n",
              "      <td>0</td>\n",
              "      <td>crowder_crowderAttr2.000000_00</td>\n",
              "      <td>crowderAttr</td>\n",
              "      <td>2.00</td>\n",
              "      <td>-0.000002</td>\n",
              "      <td>-5.602062e-07</td>\n",
              "      <td>-1.206223e-09</td>\n",
              "      <td>0.434513</td>\n",
              "      <td>0.536959</td>\n",
              "    </tr>\n",
              "    <tr>\n",
              "      <th>117</th>\n",
              "      <td>0</td>\n",
              "      <td>crowder_crowderAttr4.000000_00</td>\n",
              "      <td>crowderAttr</td>\n",
              "      <td>4.00</td>\n",
              "      <td>0.000186</td>\n",
              "      <td>-5.778484e-07</td>\n",
              "      <td>-1.089259e-09</td>\n",
              "      <td>0.434513</td>\n",
              "      <td>0.517088</td>\n",
              "    </tr>\n",
              "    <tr>\n",
              "      <th>118</th>\n",
              "      <td>0</td>\n",
              "      <td>crowder_crowderAttr6.000000_00</td>\n",
              "      <td>crowderAttr</td>\n",
              "      <td>6.00</td>\n",
              "      <td>0.000180</td>\n",
              "      <td>-5.249239e-07</td>\n",
              "      <td>-1.061556e-09</td>\n",
              "      <td>0.434513</td>\n",
              "      <td>0.513266</td>\n",
              "    </tr>\n",
              "  </tbody>\n",
              "</table>\n",
              "<p>71 rows × 9 columns</p>\n",
              "</div>\n",
              "    <div class=\"colab-df-buttons\">\n",
              "\n",
              "  <div class=\"colab-df-container\">\n",
              "    <button class=\"colab-df-convert\" onclick=\"convertToInteractive('df-b03f5a2f-8da9-433c-b607-9d98c74ebf39')\"\n",
              "            title=\"Convert this dataframe to an interactive table.\"\n",
              "            style=\"display:none;\">\n",
              "\n",
              "  <svg xmlns=\"http://www.w3.org/2000/svg\" height=\"24px\" viewBox=\"0 -960 960 960\">\n",
              "    <path d=\"M120-120v-720h720v720H120Zm60-500h600v-160H180v160Zm220 220h160v-160H400v160Zm0 220h160v-160H400v160ZM180-400h160v-160H180v160Zm440 0h160v-160H620v160ZM180-180h160v-160H180v160Zm440 0h160v-160H620v160Z\"/>\n",
              "  </svg>\n",
              "    </button>\n",
              "\n",
              "  <style>\n",
              "    .colab-df-container {\n",
              "      display:flex;\n",
              "      gap: 12px;\n",
              "    }\n",
              "\n",
              "    .colab-df-convert {\n",
              "      background-color: #E8F0FE;\n",
              "      border: none;\n",
              "      border-radius: 50%;\n",
              "      cursor: pointer;\n",
              "      display: none;\n",
              "      fill: #1967D2;\n",
              "      height: 32px;\n",
              "      padding: 0 0 0 0;\n",
              "      width: 32px;\n",
              "    }\n",
              "\n",
              "    .colab-df-convert:hover {\n",
              "      background-color: #E2EBFA;\n",
              "      box-shadow: 0px 1px 2px rgba(60, 64, 67, 0.3), 0px 1px 3px 1px rgba(60, 64, 67, 0.15);\n",
              "      fill: #174EA6;\n",
              "    }\n",
              "\n",
              "    .colab-df-buttons div {\n",
              "      margin-bottom: 4px;\n",
              "    }\n",
              "\n",
              "    [theme=dark] .colab-df-convert {\n",
              "      background-color: #3B4455;\n",
              "      fill: #D2E3FC;\n",
              "    }\n",
              "\n",
              "    [theme=dark] .colab-df-convert:hover {\n",
              "      background-color: #434B5C;\n",
              "      box-shadow: 0px 1px 3px 1px rgba(0, 0, 0, 0.15);\n",
              "      filter: drop-shadow(0px 1px 2px rgba(0, 0, 0, 0.3));\n",
              "      fill: #FFFFFF;\n",
              "    }\n",
              "  </style>\n",
              "\n",
              "    <script>\n",
              "      const buttonEl =\n",
              "        document.querySelector('#df-b03f5a2f-8da9-433c-b607-9d98c74ebf39 button.colab-df-convert');\n",
              "      buttonEl.style.display =\n",
              "        google.colab.kernel.accessAllowed ? 'block' : 'none';\n",
              "\n",
              "      async function convertToInteractive(key) {\n",
              "        const element = document.querySelector('#df-b03f5a2f-8da9-433c-b607-9d98c74ebf39');\n",
              "        const dataTable =\n",
              "          await google.colab.kernel.invokeFunction('convertToInteractive',\n",
              "                                                    [key], {});\n",
              "        if (!dataTable) return;\n",
              "\n",
              "        const docLinkHtml = 'Like what you see? Visit the ' +\n",
              "          '<a target=\"_blank\" href=https://colab.research.google.com/notebooks/data_table.ipynb>data table notebook</a>'\n",
              "          + ' to learn more about interactive tables.';\n",
              "        element.innerHTML = '';\n",
              "        dataTable['output_type'] = 'display_data';\n",
              "        await google.colab.output.renderOutput(dataTable, element);\n",
              "        const docLink = document.createElement('div');\n",
              "        docLink.innerHTML = docLinkHtml;\n",
              "        element.appendChild(docLink);\n",
              "      }\n",
              "    </script>\n",
              "  </div>\n",
              "\n",
              "\n",
              "<div id=\"df-499adc9e-0a52-448c-a143-873ac6259556\">\n",
              "  <button class=\"colab-df-quickchart\" onclick=\"quickchart('df-499adc9e-0a52-448c-a143-873ac6259556')\"\n",
              "            title=\"Suggest charts\"\n",
              "            style=\"display:none;\">\n",
              "\n",
              "<svg xmlns=\"http://www.w3.org/2000/svg\" height=\"24px\"viewBox=\"0 0 24 24\"\n",
              "     width=\"24px\">\n",
              "    <g>\n",
              "        <path d=\"M19 3H5c-1.1 0-2 .9-2 2v14c0 1.1.9 2 2 2h14c1.1 0 2-.9 2-2V5c0-1.1-.9-2-2-2zM9 17H7v-7h2v7zm4 0h-2V7h2v10zm4 0h-2v-4h2v4z\"/>\n",
              "    </g>\n",
              "</svg>\n",
              "  </button>\n",
              "\n",
              "<style>\n",
              "  .colab-df-quickchart {\n",
              "      --bg-color: #E8F0FE;\n",
              "      --fill-color: #1967D2;\n",
              "      --hover-bg-color: #E2EBFA;\n",
              "      --hover-fill-color: #174EA6;\n",
              "      --disabled-fill-color: #AAA;\n",
              "      --disabled-bg-color: #DDD;\n",
              "  }\n",
              "\n",
              "  [theme=dark] .colab-df-quickchart {\n",
              "      --bg-color: #3B4455;\n",
              "      --fill-color: #D2E3FC;\n",
              "      --hover-bg-color: #434B5C;\n",
              "      --hover-fill-color: #FFFFFF;\n",
              "      --disabled-bg-color: #3B4455;\n",
              "      --disabled-fill-color: #666;\n",
              "  }\n",
              "\n",
              "  .colab-df-quickchart {\n",
              "    background-color: var(--bg-color);\n",
              "    border: none;\n",
              "    border-radius: 50%;\n",
              "    cursor: pointer;\n",
              "    display: none;\n",
              "    fill: var(--fill-color);\n",
              "    height: 32px;\n",
              "    padding: 0;\n",
              "    width: 32px;\n",
              "  }\n",
              "\n",
              "  .colab-df-quickchart:hover {\n",
              "    background-color: var(--hover-bg-color);\n",
              "    box-shadow: 0 1px 2px rgba(60, 64, 67, 0.3), 0 1px 3px 1px rgba(60, 64, 67, 0.15);\n",
              "    fill: var(--button-hover-fill-color);\n",
              "  }\n",
              "\n",
              "  .colab-df-quickchart-complete:disabled,\n",
              "  .colab-df-quickchart-complete:disabled:hover {\n",
              "    background-color: var(--disabled-bg-color);\n",
              "    fill: var(--disabled-fill-color);\n",
              "    box-shadow: none;\n",
              "  }\n",
              "\n",
              "  .colab-df-spinner {\n",
              "    border: 2px solid var(--fill-color);\n",
              "    border-color: transparent;\n",
              "    border-bottom-color: var(--fill-color);\n",
              "    animation:\n",
              "      spin 1s steps(1) infinite;\n",
              "  }\n",
              "\n",
              "  @keyframes spin {\n",
              "    0% {\n",
              "      border-color: transparent;\n",
              "      border-bottom-color: var(--fill-color);\n",
              "      border-left-color: var(--fill-color);\n",
              "    }\n",
              "    20% {\n",
              "      border-color: transparent;\n",
              "      border-left-color: var(--fill-color);\n",
              "      border-top-color: var(--fill-color);\n",
              "    }\n",
              "    30% {\n",
              "      border-color: transparent;\n",
              "      border-left-color: var(--fill-color);\n",
              "      border-top-color: var(--fill-color);\n",
              "      border-right-color: var(--fill-color);\n",
              "    }\n",
              "    40% {\n",
              "      border-color: transparent;\n",
              "      border-right-color: var(--fill-color);\n",
              "      border-top-color: var(--fill-color);\n",
              "    }\n",
              "    60% {\n",
              "      border-color: transparent;\n",
              "      border-right-color: var(--fill-color);\n",
              "    }\n",
              "    80% {\n",
              "      border-color: transparent;\n",
              "      border-right-color: var(--fill-color);\n",
              "      border-bottom-color: var(--fill-color);\n",
              "    }\n",
              "    90% {\n",
              "      border-color: transparent;\n",
              "      border-bottom-color: var(--fill-color);\n",
              "    }\n",
              "  }\n",
              "</style>\n",
              "\n",
              "  <script>\n",
              "    async function quickchart(key) {\n",
              "      const quickchartButtonEl =\n",
              "        document.querySelector('#' + key + ' button');\n",
              "      quickchartButtonEl.disabled = true;  // To prevent multiple clicks.\n",
              "      quickchartButtonEl.classList.add('colab-df-spinner');\n",
              "      try {\n",
              "        const charts = await google.colab.kernel.invokeFunction(\n",
              "            'suggestCharts', [key], {});\n",
              "      } catch (error) {\n",
              "        console.error('Error during call to suggestCharts:', error);\n",
              "      }\n",
              "      quickchartButtonEl.classList.remove('colab-df-spinner');\n",
              "      quickchartButtonEl.classList.add('colab-df-quickchart-complete');\n",
              "    }\n",
              "    (() => {\n",
              "      let quickchartButtonEl =\n",
              "        document.querySelector('#df-499adc9e-0a52-448c-a143-873ac6259556 button');\n",
              "      quickchartButtonEl.style.display =\n",
              "        google.colab.kernel.accessAllowed ? 'block' : 'none';\n",
              "    })();\n",
              "  </script>\n",
              "</div>\n",
              "\n",
              "    </div>\n",
              "  </div>\n"
            ]
          },
          "metadata": {},
          "execution_count": 30
        }
      ]
    },
    {
      "cell_type": "markdown",
      "source": [
        "### Case: no crowders"
      ],
      "metadata": {
        "id": "SrEj1qTqi5hd"
      }
    },
    {
      "cell_type": "code",
      "source": [
        "dataFrameName = \"fig4.csv\"\n",
        "dataFrameName = \"nocrowder.csv\"\n",
        "\n",
        "if False:\n",
        "  df = pd.read_csv(dataFrameName)\n",
        "else:\n",
        "  df = nocrowder_noatp\n"
      ],
      "metadata": {
        "id": "VJR1bm8UiJr4"
      },
      "execution_count": 16,
      "outputs": []
    },
    {
      "cell_type": "markdown",
      "source": [
        "Determine normalization for all cases"
      ],
      "metadata": {
        "id": "UePtFLg-N6_3"
      }
    },
    {
      "cell_type": "code",
      "source": [
        "key = \"nCells\"\n",
        "\n",
        "case = empty()\n",
        "case.conds,case.Ds,case.Dstds,case.JAs, case.JAstds, case.vFs = pdat.ProcessGroup(df,key)\n",
        "\n",
        "# get JA at largest vol frac\n",
        "idx = np.argmax(case.vFs)\n",
        "jNormFactor = 1/case.JAs[ idx ]\n",
        "def hs(vf):\n",
        "  return 2*vf/(3-vf)\n",
        "jNormFactor*=hs( case.vFs[idx] )\n",
        "\n",
        "case.JAs[ idx ]\n",
        "print(jNormFactor)"
      ],
      "metadata": {
        "id": "x1YBXNu9FHkv",
        "colab": {
          "base_uri": "https://localhost:8080/"
        },
        "outputId": "4e47ec6b-1c7c-4834-b855-95ff725cae79"
      },
      "execution_count": 17,
      "outputs": [
        {
          "output_type": "stream",
          "name": "stdout",
          "text": [
            "nCells [30. 40. 50. 60. 70. 80. 90.]\n",
            "-1364282.4406630632\n"
          ]
        }
      ]
    },
    {
      "cell_type": "code",
      "source": [
        "\n",
        "# get all entries with a given key name\n",
        "key = \"nCells\"\n",
        "\n",
        "case = empty()\n",
        "case.conds,case.Ds,case.Dstds,case.JAs, case.JAstds,  case.vFs = pdat.ProcessGroup(df,key)\n",
        "cases[key] = case\n",
        "\n",
        "stds = case.JAstds*-1*jNormFactor / np.sqrt(nCases)\n",
        "pdat.PlotKey(case.conds,case.JAs*jNormFactor,stds,key,mode=\"JA\")\n",
        "plt.ylim([0,1.05])\n"
      ],
      "metadata": {
        "colab": {
          "base_uri": "https://localhost:8080/",
          "height": 484
        },
        "id": "SvookEJjhdpw",
        "outputId": "72d85422-1ff8-43bc-b8cb-9e99fc615a63"
      },
      "execution_count": 18,
      "outputs": [
        {
          "output_type": "stream",
          "name": "stdout",
          "text": [
            "nCells [30. 40. 50. 60. 70. 80. 90.]\n"
          ]
        },
        {
          "output_type": "execute_result",
          "data": {
            "text/plain": [
              "(0.0, 1.05)"
            ]
          },
          "metadata": {},
          "execution_count": 18
        },
        {
          "output_type": "display_data",
          "data": {
            "text/plain": [
              "<Figure size 640x480 with 1 Axes>"
            ],
            "image/png": "[encoded data removed]"
          },
          "metadata": {}
        }
      ]
    },
    {
      "cell_type": "code",
      "source": [
        "provide mean position for uncontains cases"
      ],
      "metadata": {
        "id": "MIOP8STbYt5G",
        "colab": {
          "base_uri": "https://localhost:8080/",
          "height": 141
        },
        "outputId": "ac51796a-d021-4ef9-d183-1c149b73727e"
      },
      "execution_count": 19,
      "outputs": [
        {
          "output_type": "error",
          "ename": "SyntaxError",
          "evalue": "ignored",
          "traceback": [
            "\u001b[0;36m  File \u001b[0;32m\"<ipython-input-19-8ccf519f3b8b>\"\u001b[0;36m, line \u001b[0;32m1\u001b[0m\n\u001b[0;31m    provide mean position for uncontains cases\u001b[0m\n\u001b[0m            ^\u001b[0m\n\u001b[0;31mSyntaxError\u001b[0m\u001b[0;31m:\u001b[0m invalid syntax\n"
          ]
        }
      ]
    },
    {
      "cell_type": "markdown",
      "source": [
        "### Introduce ATP into the equation\n",
        "\n",
        " <a class=\"anchor\" name=\"myCell\"></a>\n",
        "\n"
      ],
      "metadata": {
        "id": "vy0Y9FXEYFmt"
      }
    },
    {
      "cell_type": "code",
      "source": [
        "import pandas as pd\n",
        "if False:\n",
        "  dataFrameName = \"nocrowder.csv\"\n",
        "  df = pd.read_csv(dataFrameName)\n",
        "  dataFrameName = \"nocrowder_atp.csv\"\n",
        "  dfATP = pd.read_csv(dataFrameName)\n",
        "else:\n",
        "  df = nocrowder_noatp\n",
        "  dfATP=nocrowder_atp\n"
      ],
      "metadata": {
        "id": "-AtxxD2KA3uY"
      },
      "execution_count": 20,
      "outputs": []
    },
    {
      "cell_type": "code",
      "source": [
        "dfATP"
      ],
      "metadata": {
        "colab": {
          "base_uri": "https://localhost:8080/",
          "height": 441
        },
        "id": "ddWJEEa7U8mb",
        "outputId": "1086d3bb-d38d-4bfc-d5e3-98f22ca07efe"
      },
      "execution_count": 21,
      "outputs": [
        {
          "output_type": "execute_result",
          "data": {
            "text/plain": [
              "     Unnamed: 0                           trajName       tag  condVal  \\\n",
              "168           0  nocrowder_atp_cellAttr0.050000_00  cellAttr     0.05   \n",
              "169           0  nocrowder_atp_cellAttr0.050000_01  cellAttr     0.05   \n",
              "170           0  nocrowder_atp_cellAttr0.050000_02  cellAttr     0.05   \n",
              "171           0  nocrowder_atp_cellAttr0.050000_03  cellAttr     0.05   \n",
              "172           0  nocrowder_atp_cellAttr0.050000_04  cellAttr     0.05   \n",
              "..          ...                                ...       ...      ...   \n",
              "344           0    nocrowder_atp_yScale7.000000_00    yScale     7.00   \n",
              "345           0    nocrowder_atp_yScale7.000000_01    yScale     7.00   \n",
              "346           0    nocrowder_atp_yScale7.000000_02    yScale     7.00   \n",
              "347           0    nocrowder_atp_yScale7.000000_03    yScale     7.00   \n",
              "348           0    nocrowder_atp_yScale7.000000_04    yScale     7.00   \n",
              "\n",
              "            D  flux*A(reservoir)  flux*A(crowd)  Vol Frac  Area Frac  \n",
              "168  0.000007      -7.605973e-07  -6.016937e-10  0.999997   0.946881  \n",
              "169  0.000039      -7.728295e-07  -5.487167e-10  0.999997   0.945034  \n",
              "170 -0.000097      -8.494892e-07  -5.156508e-10  0.999997   0.936034  \n",
              "171  0.000030      -7.496969e-07  -5.286281e-10  0.999997   0.939259  \n",
              "172 -0.000062      -7.430520e-07  -5.717936e-10  0.999997   0.952409  \n",
              "..        ...                ...            ...       ...        ...  \n",
              "344  0.000039      -7.733884e-07  -5.593184e-10  0.999997   0.943428  \n",
              "345  0.000058      -8.463665e-07  -4.688464e-10  0.999997   0.945156  \n",
              "346  0.000015      -7.766710e-07  -5.782919e-10  0.999997   0.944619  \n",
              "347  0.000161      -7.660951e-07  -5.059465e-10  0.999997   0.950922  \n",
              "348  0.000146      -7.717783e-07  -4.886525e-10  0.999997   0.937759  \n",
              "\n",
              "[181 rows x 9 columns]"
            ],
            "text/html": [
              "\n",
              "  <div id=\"df-3bdb257e-d2d2-45f0-9599-137db7227bb0\" class=\"colab-df-container\">\n",
              "    <div>\n",
              "<style scoped>\n",
              "    .dataframe tbody tr th:only-of-type {\n",
              "        vertical-align: middle;\n",
              "    }\n",
              "\n",
              "    .dataframe tbody tr th {\n",
              "        vertical-align: top;\n",
              "    }\n",
              "\n",
              "    .dataframe thead th {\n",
              "        text-align: right;\n",
              "    }\n",
              "</style>\n",
              "<table border=\"1\" class=\"dataframe\">\n",
              "  <thead>\n",
              "    <tr style=\"text-align: right;\">\n",
              "      <th></th>\n",
              "      <th>Unnamed: 0</th>\n",
              "      <th>trajName</th>\n",
              "      <th>tag</th>\n",
              "      <th>condVal</th>\n",
              "      <th>D</th>\n",
              "      <th>flux*A(reservoir)</th>\n",
              "      <th>flux*A(crowd)</th>\n",
              "      <th>Vol Frac</th>\n",
              "      <th>Area Frac</th>\n",
              "    </tr>\n",
              "  </thead>\n",
              "  <tbody>\n",
              "    <tr>\n",
              "      <th>168</th>\n",
              "      <td>0</td>\n",
              "      <td>nocrowder_atp_cellAttr0.050000_00</td>\n",
              "      <td>cellAttr</td>\n",
              "      <td>0.05</td>\n",
              "      <td>0.000007</td>\n",
              "      <td>-7.605973e-07</td>\n",
              "      <td>-6.016937e-10</td>\n",
              "      <td>0.999997</td>\n",
              "      <td>0.946881</td>\n",
              "    </tr>\n",
              "    <tr>\n",
              "      <th>169</th>\n",
              "      <td>0</td>\n",
              "      <td>nocrowder_atp_cellAttr0.050000_01</td>\n",
              "      <td>cellAttr</td>\n",
              "      <td>0.05</td>\n",
              "      <td>0.000039</td>\n",
              "      <td>-7.728295e-07</td>\n",
              "      <td>-5.487167e-10</td>\n",
              "      <td>0.999997</td>\n",
              "      <td>0.945034</td>\n",
              "    </tr>\n",
              "    <tr>\n",
              "      <th>170</th>\n",
              "      <td>0</td>\n",
              "      <td>nocrowder_atp_cellAttr0.050000_02</td>\n",
              "      <td>cellAttr</td>\n",
              "      <td>0.05</td>\n",
              "      <td>-0.000097</td>\n",
              "      <td>-8.494892e-07</td>\n",
              "      <td>-5.156508e-10</td>\n",
              "      <td>0.999997</td>\n",
              "      <td>0.936034</td>\n",
              "    </tr>\n",
              "    <tr>\n",
              "      <th>171</th>\n",
              "      <td>0</td>\n",
              "      <td>nocrowder_atp_cellAttr0.050000_03</td>\n",
              "      <td>cellAttr</td>\n",
              "      <td>0.05</td>\n",
              "      <td>0.000030</td>\n",
              "      <td>-7.496969e-07</td>\n",
              "      <td>-5.286281e-10</td>\n",
              "      <td>0.999997</td>\n",
              "      <td>0.939259</td>\n",
              "    </tr>\n",
              "    <tr>\n",
              "      <th>172</th>\n",
              "      <td>0</td>\n",
              "      <td>nocrowder_atp_cellAttr0.050000_04</td>\n",
              "      <td>cellAttr</td>\n",
              "      <td>0.05</td>\n",
              "      <td>-0.000062</td>\n",
              "      <td>-7.430520e-07</td>\n",
              "      <td>-5.717936e-10</td>\n",
              "      <td>0.999997</td>\n",
              "      <td>0.952409</td>\n",
              "    </tr>\n",
              "    <tr>\n",
              "      <th>...</th>\n",
              "      <td>...</td>\n",
              "      <td>...</td>\n",
              "      <td>...</td>\n",
              "      <td>...</td>\n",
              "      <td>...</td>\n",
              "      <td>...</td>\n",
              "      <td>...</td>\n",
              "      <td>...</td>\n",
              "      <td>...</td>\n",
              "    </tr>\n",
              "    <tr>\n",
              "      <th>344</th>\n",
              "      <td>0</td>\n",
              "      <td>nocrowder_atp_yScale7.000000_00</td>\n",
              "      <td>yScale</td>\n",
              "      <td>7.00</td>\n",
              "      <td>0.000039</td>\n",
              "      <td>-7.733884e-07</td>\n",
              "      <td>-5.593184e-10</td>\n",
              "      <td>0.999997</td>\n",
              "      <td>0.943428</td>\n",
              "    </tr>\n",
              "    <tr>\n",
              "      <th>345</th>\n",
              "      <td>0</td>\n",
              "      <td>nocrowder_atp_yScale7.000000_01</td>\n",
              "      <td>yScale</td>\n",
              "      <td>7.00</td>\n",
              "      <td>0.000058</td>\n",
              "      <td>-8.463665e-07</td>\n",
              "      <td>-4.688464e-10</td>\n",
              "      <td>0.999997</td>\n",
              "      <td>0.945156</td>\n",
              "    </tr>\n",
              "    <tr>\n",
              "      <th>346</th>\n",
              "      <td>0</td>\n",
              "      <td>nocrowder_atp_yScale7.000000_02</td>\n",
              "      <td>yScale</td>\n",
              "      <td>7.00</td>\n",
              "      <td>0.000015</td>\n",
              "      <td>-7.766710e-07</td>\n",
              "      <td>-5.782919e-10</td>\n",
              "      <td>0.999997</td>\n",
              "      <td>0.944619</td>\n",
              "    </tr>\n",
              "    <tr>\n",
              "      <th>347</th>\n",
              "      <td>0</td>\n",
              "      <td>nocrowder_atp_yScale7.000000_03</td>\n",
              "      <td>yScale</td>\n",
              "      <td>7.00</td>\n",
              "      <td>0.000161</td>\n",
              "      <td>-7.660951e-07</td>\n",
              "      <td>-5.059465e-10</td>\n",
              "      <td>0.999997</td>\n",
              "      <td>0.950922</td>\n",
              "    </tr>\n",
              "    <tr>\n",
              "      <th>348</th>\n",
              "      <td>0</td>\n",
              "      <td>nocrowder_atp_yScale7.000000_04</td>\n",
              "      <td>yScale</td>\n",
              "      <td>7.00</td>\n",
              "      <td>0.000146</td>\n",
              "      <td>-7.717783e-07</td>\n",
              "      <td>-4.886525e-10</td>\n",
              "      <td>0.999997</td>\n",
              "      <td>0.937759</td>\n",
              "    </tr>\n",
              "  </tbody>\n",
              "</table>\n",
              "<p>181 rows × 9 columns</p>\n",
              "</div>\n",
              "    <div class=\"colab-df-buttons\">\n",
              "\n",
              "  <div class=\"colab-df-container\">\n",
              "    <button class=\"colab-df-convert\" onclick=\"convertToInteractive('df-3bdb257e-d2d2-45f0-9599-137db7227bb0')\"\n",
              "            title=\"Convert this dataframe to an interactive table.\"\n",
              "            style=\"display:none;\">\n",
              "\n",
              "  <svg xmlns=\"http://www.w3.org/2000/svg\" height=\"24px\" viewBox=\"0 -960 960 960\">\n",
              "    <path d=\"M120-120v-720h720v720H120Zm60-500h600v-160H180v160Zm220 220h160v-160H400v160Zm0 220h160v-160H400v160ZM180-400h160v-160H180v160Zm440 0h160v-160H620v160ZM180-180h160v-160H180v160Zm440 0h160v-160H620v160Z\"/>\n",
              "  </svg>\n",
              "    </button>\n",
              "\n",
              "  <style>\n",
              "    .colab-df-container {\n",
              "      display:flex;\n",
              "      gap: 12px;\n",
              "    }\n",
              "\n",
              "    .colab-df-convert {\n",
              "      background-color: #E8F0FE;\n",
              "      border: none;\n",
              "      border-radius: 50%;\n",
              "      cursor: pointer;\n",
              "      display: none;\n",
              "      fill: #1967D2;\n",
              "      height: 32px;\n",
              "      padding: 0 0 0 0;\n",
              "      width: 32px;\n",
              "    }\n",
              "\n",
              "    .colab-df-convert:hover {\n",
              "      background-color: #E2EBFA;\n",
              "      box-shadow: 0px 1px 2px rgba(60, 64, 67, 0.3), 0px 1px 3px 1px rgba(60, 64, 67, 0.15);\n",
              "      fill: #174EA6;\n",
              "    }\n",
              "\n",
              "    .colab-df-buttons div {\n",
              "      margin-bottom: 4px;\n",
              "    }\n",
              "\n",
              "    [theme=dark] .colab-df-convert {\n",
              "      background-color: #3B4455;\n",
              "      fill: #D2E3FC;\n",
              "    }\n",
              "\n",
              "    [theme=dark] .colab-df-convert:hover {\n",
              "      background-color: #434B5C;\n",
              "      box-shadow: 0px 1px 3px 1px rgba(0, 0, 0, 0.15);\n",
              "      filter: drop-shadow(0px 1px 2px rgba(0, 0, 0, 0.3));\n",
              "      fill: #FFFFFF;\n",
              "    }\n",
              "  </style>\n",
              "\n",
              "    <script>\n",
              "      const buttonEl =\n",
              "        document.querySelector('#df-3bdb257e-d2d2-45f0-9599-137db7227bb0 button.colab-df-convert');\n",
              "      buttonEl.style.display =\n",
              "        google.colab.kernel.accessAllowed ? 'block' : 'none';\n",
              "\n",
              "      async function convertToInteractive(key) {\n",
              "        const element = document.querySelector('#df-3bdb257e-d2d2-45f0-9599-137db7227bb0');\n",
              "        const dataTable =\n",
              "          await google.colab.kernel.invokeFunction('convertToInteractive',\n",
              "                                                    [key], {});\n",
              "        if (!dataTable) return;\n",
              "\n",
              "        const docLinkHtml = 'Like what you see? Visit the ' +\n",
              "          '<a target=\"_blank\" href=https://colab.research.google.com/notebooks/data_table.ipynb>data table notebook</a>'\n",
              "          + ' to learn more about interactive tables.';\n",
              "        element.innerHTML = '';\n",
              "        dataTable['output_type'] = 'display_data';\n",
              "        await google.colab.output.renderOutput(dataTable, element);\n",
              "        const docLink = document.createElement('div');\n",
              "        docLink.innerHTML = docLinkHtml;\n",
              "        element.appendChild(docLink);\n",
              "      }\n",
              "    </script>\n",
              "  </div>\n",
              "\n",
              "\n",
              "<div id=\"df-e2d29555-0fd5-4d2e-be9e-b1a260ba94fb\">\n",
              "  <button class=\"colab-df-quickchart\" onclick=\"quickchart('df-e2d29555-0fd5-4d2e-be9e-b1a260ba94fb')\"\n",
              "            title=\"Suggest charts\"\n",
              "            style=\"display:none;\">\n",
              "\n",
              "<svg xmlns=\"http://www.w3.org/2000/svg\" height=\"24px\"viewBox=\"0 0 24 24\"\n",
              "     width=\"24px\">\n",
              "    <g>\n",
              "        <path d=\"M19 3H5c-1.1 0-2 .9-2 2v14c0 1.1.9 2 2 2h14c1.1 0 2-.9 2-2V5c0-1.1-.9-2-2-2zM9 17H7v-7h2v7zm4 0h-2V7h2v10zm4 0h-2v-4h2v4z\"/>\n",
              "    </g>\n",
              "</svg>\n",
              "  </button>\n",
              "\n",
              "<style>\n",
              "  .colab-df-quickchart {\n",
              "      --bg-color: #E8F0FE;\n",
              "      --fill-color: #1967D2;\n",
              "      --hover-bg-color: #E2EBFA;\n",
              "      --hover-fill-color: #174EA6;\n",
              "      --disabled-fill-color: #AAA;\n",
              "      --disabled-bg-color: #DDD;\n",
              "  }\n",
              "\n",
              "  [theme=dark] .colab-df-quickchart {\n",
              "      --bg-color: #3B4455;\n",
              "      --fill-color: #D2E3FC;\n",
              "      --hover-bg-color: #434B5C;\n",
              "      --hover-fill-color: #FFFFFF;\n",
              "      --disabled-bg-color: #3B4455;\n",
              "      --disabled-fill-color: #666;\n",
              "  }\n",
              "\n",
              "  .colab-df-quickchart {\n",
              "    background-color: var(--bg-color);\n",
              "    border: none;\n",
              "    border-radius: 50%;\n",
              "    cursor: pointer;\n",
              "    display: none;\n",
              "    fill: var(--fill-color);\n",
              "    height: 32px;\n",
              "    padding: 0;\n",
              "    width: 32px;\n",
              "  }\n",
              "\n",
              "  .colab-df-quickchart:hover {\n",
              "    background-color: var(--hover-bg-color);\n",
              "    box-shadow: 0 1px 2px rgba(60, 64, 67, 0.3), 0 1px 3px 1px rgba(60, 64, 67, 0.15);\n",
              "    fill: var(--button-hover-fill-color);\n",
              "  }\n",
              "\n",
              "  .colab-df-quickchart-complete:disabled,\n",
              "  .colab-df-quickchart-complete:disabled:hover {\n",
              "    background-color: var(--disabled-bg-color);\n",
              "    fill: var(--disabled-fill-color);\n",
              "    box-shadow: none;\n",
              "  }\n",
              "\n",
              "  .colab-df-spinner {\n",
              "    border: 2px solid var(--fill-color);\n",
              "    border-color: transparent;\n",
              "    border-bottom-color: var(--fill-color);\n",
              "    animation:\n",
              "      spin 1s steps(1) infinite;\n",
              "  }\n",
              "\n",
              "  @keyframes spin {\n",
              "    0% {\n",
              "      border-color: transparent;\n",
              "      border-bottom-color: var(--fill-color);\n",
              "      border-left-color: var(--fill-color);\n",
              "    }\n",
              "    20% {\n",
              "      border-color: transparent;\n",
              "      border-left-color: var(--fill-color);\n",
              "      border-top-color: var(--fill-color);\n",
              "    }\n",
              "    30% {\n",
              "      border-color: transparent;\n",
              "      border-left-color: var(--fill-color);\n",
              "      border-top-color: var(--fill-color);\n",
              "      border-right-color: var(--fill-color);\n",
              "    }\n",
              "    40% {\n",
              "      border-color: transparent;\n",
              "      border-right-color: var(--fill-color);\n",
              "      border-top-color: var(--fill-color);\n",
              "    }\n",
              "    60% {\n",
              "      border-color: transparent;\n",
              "      border-right-color: var(--fill-color);\n",
              "    }\n",
              "    80% {\n",
              "      border-color: transparent;\n",
              "      border-right-color: var(--fill-color);\n",
              "      border-bottom-color: var(--fill-color);\n",
              "    }\n",
              "    90% {\n",
              "      border-color: transparent;\n",
              "      border-bottom-color: var(--fill-color);\n",
              "    }\n",
              "  }\n",
              "</style>\n",
              "\n",
              "  <script>\n",
              "    async function quickchart(key) {\n",
              "      const quickchartButtonEl =\n",
              "        document.querySelector('#' + key + ' button');\n",
              "      quickchartButtonEl.disabled = true;  // To prevent multiple clicks.\n",
              "      quickchartButtonEl.classList.add('colab-df-spinner');\n",
              "      try {\n",
              "        const charts = await google.colab.kernel.invokeFunction(\n",
              "            'suggestCharts', [key], {});\n",
              "      } catch (error) {\n",
              "        console.error('Error during call to suggestCharts:', error);\n",
              "      }\n",
              "      quickchartButtonEl.classList.remove('colab-df-spinner');\n",
              "      quickchartButtonEl.classList.add('colab-df-quickchart-complete');\n",
              "    }\n",
              "    (() => {\n",
              "      let quickchartButtonEl =\n",
              "        document.querySelector('#df-e2d29555-0fd5-4d2e-be9e-b1a260ba94fb button');\n",
              "      quickchartButtonEl.style.display =\n",
              "        google.colab.kernel.accessAllowed ? 'block' : 'none';\n",
              "    })();\n",
              "  </script>\n",
              "</div>\n",
              "\n",
              "  <div id=\"id_c7053606-9e30-48ff-8c60-02d5d5576c4c\">\n",
              "    <style>\n",
              "      .colab-df-generate {\n",
              "        background-color: #E8F0FE;\n",
              "        border: none;\n",
              "        border-radius: 50%;\n",
              "        cursor: pointer;\n",
              "        display: none;\n",
              "        fill: #1967D2;\n",
              "        height: 32px;\n",
              "        padding: 0 0 0 0;\n",
              "        width: 32px;\n",
              "      }\n",
              "\n",
              "      .colab-df-generate:hover {\n",
              "        background-color: #E2EBFA;\n",
              "        box-shadow: 0px 1px 2px rgba(60, 64, 67, 0.3), 0px 1px 3px 1px rgba(60, 64, 67, 0.15);\n",
              "        fill: #174EA6;\n",
              "      }\n",
              "\n",
              "      [theme=dark] .colab-df-generate {\n",
              "        background-color: #3B4455;\n",
              "        fill: #D2E3FC;\n",
              "      }\n",
              "\n",
              "      [theme=dark] .colab-df-generate:hover {\n",
              "        background-color: #434B5C;\n",
              "        box-shadow: 0px 1px 3px 1px rgba(0, 0, 0, 0.15);\n",
              "        filter: drop-shadow(0px 1px 2px rgba(0, 0, 0, 0.3));\n",
              "        fill: #FFFFFF;\n",
              "      }\n",
              "    </style>\n",
              "    <button class=\"colab-df-generate\" onclick=\"generateWithVariable('nocrowder_atp')\"\n",
              "            title=\"Generate code using this dataframe.\"\n",
              "            style=\"display:none;\">\n",
              "\n",
              "  <svg xmlns=\"http://www.w3.org/2000/svg\" height=\"24px\"viewBox=\"0 0 24 24\"\n",
              "       width=\"24px\">\n",
              "    <path d=\"M7,19H8.4L18.45,9,17,7.55,7,17.6ZM5,21V16.75L18.45,3.32a2,2,0,0,1,2.83,0l1.4,1.43a1.91,1.91,0,0,1,.58,1.4,1.91,1.91,0,0,1-.58,1.4L9.25,21ZM18.45,9,17,7.55Zm-12,3A5.31,5.31,0,0,0,4.9,8.1,5.31,5.31,0,0,0,1,6.5,5.31,5.31,0,0,0,4.9,4.9,5.31,5.31,0,0,0,6.5,1,5.31,5.31,0,0,0,8.1,4.9,5.31,5.31,0,0,0,12,6.5,5.46,5.46,0,0,0,6.5,12Z\"/>\n",
              "  </svg>\n",
              "    </button>\n",
              "    <script>\n",
              "      (() => {\n",
              "      const buttonEl =\n",
              "        document.querySelector('#id_c7053606-9e30-48ff-8c60-02d5d5576c4c button.colab-df-generate');\n",
              "      buttonEl.style.display =\n",
              "        google.colab.kernel.accessAllowed ? 'block' : 'none';\n",
              "\n",
              "      buttonEl.onclick = () => {\n",
              "        google.colab.notebook.generateWithVariable('nocrowder_atp');\n",
              "      }\n",
              "      })();\n",
              "    </script>\n",
              "  </div>\n",
              "\n",
              "    </div>\n",
              "  </div>\n"
            ]
          },
          "metadata": {},
          "execution_count": 21
        }
      ]
    },
    {
      "cell_type": "code",
      "source": [
        "#if 1: # for right now\n",
        "case = empty()\n",
        "case.conds,case.Ds,case.Dstds, case.JAs,case.JAstds,case.volFracs = pdat.ProcessGroup(nocrowder_unconstr,'all')\n",
        "cases[\"unconstr\"] = case\n",
        "\n",
        "case = empty()\n",
        "case.conds,case.Ds,case.Dstds, case.JAs,case.JAstds,case.volFracs = pdat.ProcessGroup(dfATP,\"xScale\")\n",
        "cases[\"constr\"] = case\n",
        "\n",
        "#dfATP.xScale\n",
        "fig,axl = plt.subplots()\n",
        "case = cases[\"unconstr\"]\n",
        "\n",
        "#axl.plot(case.conds,case.Ds,label='D')\n",
        "#axr.err(case.conds,case.Dstds/np.sqrt(nCases))\n",
        "axl.errorbar(case.conds,case.Ds,\n",
        "            yerr=case.Dstds / np.sqrt(nCases),\n",
        "            fmt='-o',color='blue')\n",
        "axl.set_ylabel(\"D\")\n",
        "axl.set_xlabel(\"[ATP]\")\n",
        "axl.legend(loc=0)\n",
        "axl.set_ylim([0,1.25])\n",
        "\n",
        "# we use negative -1 since negative flux is going across toward right\n",
        "axr = axl.twinx()\n",
        "case = cases[\"constr\"]\n",
        "stds = case.JAstds*-1*jNormFactor\n",
        "#axr.plot(case.conds,case.JAs*jNormFactor,'gray')\n",
        "axr.errorbar(case.conds,case.JAs*jNormFactor,\n",
        "             yerr=stds/ np.sqrt(nCases),\n",
        "             fmt='-o',color='gray')\n",
        "axr.set_ylabel(\"JA*A\")\n",
        "axr.set_ylim([0,1.25])\n",
        "\n",
        "plt.gcf().savefig(outPath+\"fig4_D_vs_ATP.png\",dpi=300)"
      ],
      "metadata": {
        "colab": {
          "base_uri": "https://localhost:8080/",
          "height": 401
        },
        "id": "3Tq_o1Uf1bAW",
        "outputId": "47879fe8-4fce-4da3-d3ee-b3e4730907d8"
      },
      "execution_count": 24,
      "outputs": [
        {
          "output_type": "stream",
          "name": "stderr",
          "text": [
            "/content/cellmigration/processData.py:15: SyntaxWarning: \"is not\" with a literal. Did you mean \"!=\"?\n",
            "  if key is not 'all':\n"
          ]
        },
        {
          "output_type": "error",
          "ename": "TypeError",
          "evalue": "ignored",
          "traceback": [
            "\u001b[0;31m---------------------------------------------------------------------------\u001b[0m",
            "\u001b[0;31mTypeError\u001b[0m                                 Traceback (most recent call last)",
            "\u001b[0;32m<ipython-input-24-430d542bdc04>\u001b[0m in \u001b[0;36m<cell line: 3>\u001b[0;34m()\u001b[0m\n\u001b[1;32m      1\u001b[0m \u001b[0;31m#if 1: # for right now\u001b[0m\u001b[0;34m\u001b[0m\u001b[0;34m\u001b[0m\u001b[0m\n\u001b[1;32m      2\u001b[0m \u001b[0mcase\u001b[0m \u001b[0;34m=\u001b[0m \u001b[0mempty\u001b[0m\u001b[0;34m(\u001b[0m\u001b[0;34m)\u001b[0m\u001b[0;34m\u001b[0m\u001b[0;34m\u001b[0m\u001b[0m\n\u001b[0;32m----> 3\u001b[0;31m \u001b[0mcase\u001b[0m\u001b[0;34m.\u001b[0m\u001b[0mconds\u001b[0m\u001b[0;34m,\u001b[0m\u001b[0mcase\u001b[0m\u001b[0;34m.\u001b[0m\u001b[0mDs\u001b[0m\u001b[0;34m,\u001b[0m\u001b[0mcase\u001b[0m\u001b[0;34m.\u001b[0m\u001b[0mDstds\u001b[0m\u001b[0;34m,\u001b[0m \u001b[0mcase\u001b[0m\u001b[0;34m.\u001b[0m\u001b[0mJAs\u001b[0m\u001b[0;34m,\u001b[0m\u001b[0mcase\u001b[0m\u001b[0;34m.\u001b[0m\u001b[0mJAstds\u001b[0m\u001b[0;34m,\u001b[0m\u001b[0mcase\u001b[0m\u001b[0;34m.\u001b[0m\u001b[0mvolFracs\u001b[0m \u001b[0;34m=\u001b[0m \u001b[0mpdat\u001b[0m\u001b[0;34m.\u001b[0m\u001b[0mProcessGroup\u001b[0m\u001b[0;34m(\u001b[0m\u001b[0mnocrowder_unconstr\u001b[0m\u001b[0;34m,\u001b[0m\u001b[0;34m'all'\u001b[0m\u001b[0;34m)\u001b[0m\u001b[0;34m\u001b[0m\u001b[0;34m\u001b[0m\u001b[0m\n\u001b[0m\u001b[1;32m      4\u001b[0m \u001b[0mcases\u001b[0m\u001b[0;34m[\u001b[0m\u001b[0;34m\"unconstr\"\u001b[0m\u001b[0;34m]\u001b[0m \u001b[0;34m=\u001b[0m \u001b[0mcase\u001b[0m\u001b[0;34m\u001b[0m\u001b[0;34m\u001b[0m\u001b[0m\n\u001b[1;32m      5\u001b[0m \u001b[0;34m\u001b[0m\u001b[0m\n",
            "\u001b[0;32m/content/cellmigration/processData.py\u001b[0m in \u001b[0;36mProcessGroup\u001b[0;34m(df, key)\u001b[0m\n\u001b[1;32m     19\u001b[0m \u001b[0;34m\u001b[0m\u001b[0m\n\u001b[1;32m     20\u001b[0m   \u001b[0;31m# find unique conf Val\u001b[0m\u001b[0;34m\u001b[0m\u001b[0;34m\u001b[0m\u001b[0m\n\u001b[0;32m---> 21\u001b[0;31m   \u001b[0muniqueVals\u001b[0m \u001b[0;34m=\u001b[0m \u001b[0mnp\u001b[0m\u001b[0;34m.\u001b[0m\u001b[0munique\u001b[0m\u001b[0;34m(\u001b[0m \u001b[0msdf\u001b[0m\u001b[0;34m[\u001b[0m\u001b[0;34m'condVal'\u001b[0m\u001b[0;34m]\u001b[0m \u001b[0;34m)\u001b[0m\u001b[0;34m\u001b[0m\u001b[0;34m\u001b[0m\u001b[0m\n\u001b[0m\u001b[1;32m     22\u001b[0m   \u001b[0;32mif\u001b[0m \u001b[0mlen\u001b[0m\u001b[0;34m(\u001b[0m\u001b[0muniqueVals\u001b[0m\u001b[0;34m)\u001b[0m\u001b[0;34m<\u001b[0m\u001b[0;36m1\u001b[0m\u001b[0;34m:\u001b[0m\u001b[0;34m\u001b[0m\u001b[0;34m\u001b[0m\u001b[0m\n\u001b[1;32m     23\u001b[0m     \u001b[0;32mraise\u001b[0m \u001b[0mRuntimeError\u001b[0m\u001b[0;34m(\u001b[0m\u001b[0;34m\"Did not find any values. Sorry bro\"\u001b[0m\u001b[0;34m)\u001b[0m\u001b[0;34m\u001b[0m\u001b[0;34m\u001b[0m\u001b[0m\n",
            "\u001b[0;31mTypeError\u001b[0m: string indices must be integers"
          ]
        }
      ]
    },
    {
      "cell_type": "code",
      "source": [
        "# plotting two sets of data\n",
        "# get all entries with a given key name\n",
        "key = \"nCells\"\n",
        "\n",
        "case = empty()\n",
        "case.conds,case.Ds,case.Dstds, case.JAs,case.JAstds, case.vFs = pdat.ProcessGroup(df,key)\n",
        "cases[key+\"-atp\"] = case\n",
        "\n",
        "\n",
        "case = empty()\n",
        "case.conds,case.Ds,case.Dstds,case.JAs,case.JAstds, case.vFs = pdat.ProcessGroup(dfATP,key)\n",
        "cases[key+\"+atp\"] = case\n",
        "\n",
        "print(\"WARNING: using incorrect stderr\")\n",
        "case = cases[key+\"-atp\"]\n",
        "stds = case.JAstds*-1*jNormFactor / np.sqrt(nCases)\n",
        "pdat.PlotKey(case.conds,case.JAs*jNormFactor,stds,key,normalize=True,mode=\"JA\")\n",
        "\n",
        "case = cases[key+\"+atp\"]\n",
        "stds = case.JAstds*-1*jNormFactor / np.sqrt(nCases)\n",
        "pdat.PlotKey(case.conds,case.JAs*jNormFactor,stds,key,color='r',normalize=True,mode=\"JA\")\n",
        "plt.ylim([0,1.1])\n",
        "plt.gcf().savefig(outPath+\"fig4_nCells.png\",dpi=300)\n"
      ],
      "metadata": {
        "colab": {
          "base_uri": "https://localhost:8080/",
          "height": 570
        },
        "id": "1xvJXyjhASlQ",
        "outputId": "2665fbda-8459-4499-a120-a9579ed87527"
      },
      "execution_count": 25,
      "outputs": [
        {
          "output_type": "stream",
          "name": "stdout",
          "text": [
            "nCells [30. 40. 50. 60. 70. 80. 90.]\n",
            "nCells [30. 40. 50. 60. 70. 80. 90.]\n",
            "WARNING: using incorrect stderr\n",
            "Assuming middle value is reference\n",
            "x(3) = 60.000000\n",
            "Assuming middle value is reference\n",
            "x(3) = 60.000000\n"
          ]
        },
        {
          "output_type": "display_data",
          "data": {
            "text/plain": [
              "<Figure size 640x480 with 1 Axes>"
            ],
            "image/png": "[encoded data removed]"
          },
          "metadata": {}
        }
      ]
    },
    {
      "cell_type": "code",
      "source": [],
      "metadata": {
        "id": "CXo0RCyE_G4_"
      },
      "execution_count": null,
      "outputs": []
    },
    {
      "cell_type": "code",
      "source": [
        "\n",
        "key = \"cellRad\"\n",
        "\n",
        "case = empty()\n",
        "case.conds,case.Ds,case.Dstds,case.JAs,case.JAstds, case.vFs  = pdat.ProcessGroup(df,key)\n",
        "cases[key+\"-atp\"] = case\n",
        "\n",
        "\n",
        "case = empty()\n",
        "case.conds,case.Ds,case.Dstds,case.JAs,case.JAstds, case.vFs  = pdat.ProcessGroup(dfATP,key)\n",
        "cases[key+\"+atp\"] = case\n",
        "\n",
        "\n",
        "case = cases[key+\"-atp\"]\n",
        "stds = case.JAstds*-1*jNormFactor / np.sqrt(nCases)\n",
        "pdat.PlotKey(case.conds,case.JAs*jNormFactor,stds,key,color='k',normalize=True,mode=\"JA\")\n",
        "\n",
        "\n",
        "case = cases[key+\"+atp\"]\n",
        "stds = case.JAstds*-1*jNormFactor / np.sqrt(nCases)\n",
        "pdat.PlotKey(case.conds,case.JAs*jNormFactor,stds,key,color='r',normalize=True,mode=\"JA\")\n",
        "\n",
        "\n",
        "plt.gcf().savefig(outPath+\"fig4_cellRad.png\",dpi=300)"
      ],
      "metadata": {
        "id": "Fgxa_WmOZMBF",
        "colab": {
          "base_uri": "https://localhost:8080/",
          "height": 588
        },
        "outputId": "30b94125-b3c7-4187-e469-e50ec86efe97"
      },
      "execution_count": 26,
      "outputs": [
        {
          "output_type": "stream",
          "name": "stdout",
          "text": [
            "cellRad [2.         2.5198421  3.1748021  4.         5.0396842  6.34960421\n",
            " 8.        ]\n",
            "cellRad [2.         2.5198421  3.1748021  4.         5.0396842  6.34960421\n",
            " 8.        ]\n",
            "Assuming middle value is reference\n",
            "x(3) = 4.000000\n",
            "Assuming middle value is reference\n",
            "x(3) = 4.000000\n"
          ]
        },
        {
          "output_type": "display_data",
          "data": {
            "text/plain": [
              "<Figure size 640x480 with 1 Axes>"
            ],
            "image/png": "[encoded data removed]"
          },
          "metadata": {}
        }
      ]
    },
    {
      "cell_type": "code",
      "source": [
        "key = \"cellAttr\"\n",
        "\n",
        "case = empty()\n",
        "case.conds,case.Ds,case.Dstds,case.JAs,case.JAstds, case.vFs  = pdat.ProcessGroup(df,key)\n",
        "cases[key+\"-atp\"] = case\n",
        "\n",
        "\n",
        "case = empty()\n",
        "case.conds,case.Ds,case.Dstds,case.JAs,case.JAstds, case.vFs  = pdat.ProcessGroup(dfATP,key)\n",
        "cases[key+\"+atp\"] = case\n",
        "\n",
        "\n",
        "case = cases[key+\"-atp\"]\n",
        "stds = case.JAstds*-1*jNormFactor / np.sqrt(nCases)\n",
        "pdat.PlotKey(case.conds,case.JAs*jNormFactor,stds,key,color='k',normalize=True,mode=\"JA\")\n",
        "\n",
        "case = cases[key+\"+atp\"]\n",
        "stds = case.JAstds*-1*jNormFactor / np.sqrt(nCases)\n",
        "pdat.PlotKey(case.conds,case.JAs*jNormFactor,stds,key,color='r',normalize=True,mode=\"JA\")\n",
        "plt.ylim([0.7,1.2])\n",
        "\n",
        "plt.gcf().savefig(outPath+\"fig4_cellAttr.png\",dpi=300)"
      ],
      "metadata": {
        "colab": {
          "base_uri": "https://localhost:8080/",
          "height": 594
        },
        "id": "ruVvHA4FBzKR",
        "outputId": "fef57381-fa14-4c38-cd62-9431b415f593"
      },
      "execution_count": 27,
      "outputs": [
        {
          "output_type": "stream",
          "name": "stdout",
          "text": [
            "cellAttr [0.05       0.06299605 0.07937005 0.1        0.1259921  0.15874011\n",
            " 0.2       ]\n",
            "cellAttr [0.05       0.06299605 0.07937005 0.1        0.1259921  0.15874011\n",
            " 0.2       ]\n",
            "Assuming middle value is reference\n",
            "x(3) = 0.100000\n",
            "Assuming middle value is reference\n",
            "x(3) = 0.100000\n"
          ]
        },
        {
          "output_type": "display_data",
          "data": {
            "text/plain": [
              "<Figure size 640x480 with 1 Axes>"
            ],
            "image/png": "[encoded data removed]"
          },
          "metadata": {}
        }
      ]
    },
    {
      "cell_type": "code",
      "source": [
        "key = \"yScale\"\n",
        "\n",
        "#case = empty()\n",
        "#case.conds,case.Ds,case.Dstds,case.JAs,case.JAstds, case.vFs  = pdat.ProcessGroup(df,key)\n",
        "#cases[key+\"-atp\"] = case\n",
        "\n",
        "\n",
        "case = empty()\n",
        "case.conds,case.Ds,case.Dstds,case.JAs,case.JAstds, case.vFs  = pdat.ProcessGroup(dfATP,key)\n",
        "cases[key+\"+atp\"] = case\n",
        "\n",
        "\n",
        "#case = cases[key+\"-atp\"]\n",
        "#stds = case.JAstds*-1*jNormFactor / np.sqrt(nCases)\n",
        "#pdat.PlotKey(case.conds,case.JAs*jNormFactor,stds,key,color='k',normalize=True,mode=\"JA\")\n",
        "\n",
        "\n",
        "case = cases[key+\"+atp\"]\n",
        "stds = case.JAstds*-1*jNormFactor / np.sqrt(nCases)\n",
        "pdat.PlotKey(case.conds,case.JAs*jNormFactor,stds,key,color='r',#normalize=True,\n",
        "             mode=\"JA\")\n",
        "plt.ylim([0.7,1.2])\n",
        "\n",
        "\n",
        "plt.gcf().savefig(outPath+\"fig4_yScale.png\",dpi=300)"
      ],
      "metadata": {
        "id": "NnGj7eM0NLWZ",
        "outputId": "de972224-c8be-430e-cfc2-dd1b1e7cb8b2",
        "colab": {
          "base_uri": "https://localhost:8080/",
          "height": 472
        }
      },
      "execution_count": 31,
      "outputs": [
        {
          "output_type": "stream",
          "name": "stdout",
          "text": [
            "yScale [0. 1. 2. 3. 4. 5. 6. 7.]\n"
          ]
        },
        {
          "output_type": "display_data",
          "data": {
            "text/plain": [
              "<Figure size 640x480 with 1 Axes>"
            ],
            "image/png": "[encoded data removed]"
          },
          "metadata": {}
        }
      ]
    },
    {
      "cell_type": "markdown",
      "source": [
        "## CROWDERS WITH ATP"
      ],
      "metadata": {
        "id": "i06PclxDyLk3"
      }
    },
    {
      "cell_type": "code",
      "source": [
        "if False:\n",
        "  dataFrameName = \"crowder.csv\"\n",
        "  df = pd.read_csv(dataFrameName)\n",
        "  dataFrameName = \"crowder_atp.csv\"\n",
        "  dfATP = pd.read_csv(dataFrameName)\n",
        "else:\n",
        "  df = crowder_noatp\n",
        "  dfATP = crowder_atp\n",
        "\n"
      ],
      "metadata": {
        "id": "aMR7XnUHDGry"
      },
      "execution_count": 32,
      "outputs": []
    },
    {
      "cell_type": "code",
      "source": [],
      "metadata": {
        "id": "QcmrzPXQkEMn"
      },
      "execution_count": 32,
      "outputs": []
    },
    {
      "cell_type": "code",
      "source": [
        "key = \"nCrowders\"\n",
        "\n",
        "case = empty()\n",
        "case.conds,case.Ds,case.Dstds, case.JAs,case.JAstds, case.vFs  = pdat.ProcessGroup(df,key)\n",
        "cases[key+\"-atp\"] = case\n",
        "\n",
        "\n",
        "case = empty()\n",
        "case.conds,case.Ds,case.Dstds, case.JAs,case.JAstds, case.vFs  = pdat.ProcessGroup(dfATP,key)\n",
        "cases[key+\"+atp\"] = case\n",
        "\n",
        "\n",
        "\n",
        "case = cases[key+\"-atp\"]\n",
        "#PlotKey(case.conds,case.Ds,case.Dstds,key,normalize=False)\n",
        "stds = case.JAstds*-1*jNormFactor / np.sqrt(nCases)\n",
        "pdat.PlotKey(case.conds,case.JAs*jNormFactor,stds,key,color='k',normalize=True,mode=\"JA\")\n",
        "\n",
        "case = cases[key+\"+atp\"]\n",
        "#PlotKey(case.conds,case.Ds,case.Dstds,key,color='r',normalize=False)\n",
        "stds = case.JAstds*-1*jNormFactor / np.sqrt(nCases)\n",
        "pdat.PlotKey(case.conds,case.JAs*jNormFactor,stds,key,color='r',normalize=True,mode=\"JA\")\n",
        "plt.ylim([0.75,1.15])\n",
        "\n",
        "plt.gcf().savefig(outPath+\"fig5_nCrowders.png\",dpi=300)\n"
      ],
      "metadata": {
        "colab": {
          "base_uri": "https://localhost:8080/",
          "height": 559
        },
        "id": "-w1ZJAphyTbH",
        "outputId": "f4666e0b-ea6e-4124-a032-ada4078285f5"
      },
      "execution_count": 33,
      "outputs": [
        {
          "output_type": "stream",
          "name": "stdout",
          "text": [
            "nCrowders [ 1.  4. 18.]\n",
            "nCrowders [ 1.  4. 18.]\n",
            "Assuming middle value is reference\n",
            "x(1) = 4.000000\n",
            "Assuming middle value is reference\n",
            "x(1) = 4.000000\n"
          ]
        },
        {
          "output_type": "display_data",
          "data": {
            "text/plain": [
              "<Figure size 640x480 with 1 Axes>"
            ],
            "image/png": "[encoded data removed]"
          },
          "metadata": {}
        }
      ]
    },
    {
      "cell_type": "code",
      "source": [],
      "metadata": {
        "id": "lLdCqOeKqbN6"
      },
      "execution_count": 33,
      "outputs": []
    },
    {
      "cell_type": "code",
      "source": [
        "key = \"crowderRad\"\n",
        "\n",
        "vfs = np.linspace(0.6,1.,20)\n",
        "hs = 2*vfs/(3-vfs)\n",
        "\n",
        "\n",
        "case = empty()\n",
        "case.conds,case.Ds,case.Dstds,case.JAs,case.JAstds, case.vFs  = pdat.ProcessGroup(df,key)\n",
        "cases[key+\"-atp\"] = case\n",
        "\n",
        "#print('JAs',case.JAs)\n",
        "print('JAs',case.JAs, case.JAs*jNormFactor)\n",
        "print(\"NEED TO ADJUST FOR ACTUAL CALCULTION \")\n",
        "\n",
        "case = empty()\n",
        "case.conds,case.Ds,case.Dstds,case.JAs,case.JAstds, case.vFs  = pdat.ProcessGroup(dfATP,key)\n",
        "cases[key+\"+atp\"] = case\n",
        "print('+ATP JAs',case.JAs*jNormFactor)\n",
        "\n",
        "case = cases[key+\"-atp\"]\n",
        "#pdat.PlotKey(case.conds,case.Ds,stds,key,normalize=False)\n",
        "stds = case.JAstds*-1*jNormFactor / np.sqrt(nCases)\n",
        "pdat.PlotKey(case.conds,case.JAs*jNormFactor,stds,key,normalize=False,mode=\"JA\")\n",
        "\n",
        "case = cases[key+\"+atp\"]\n",
        "#pdat.PlotKey(case.conds,case.Ds,case.Dstds,key,color='r',normalize=False)\n",
        "stds = case.JAstds*-1*jNormFactor / np.sqrt(nCases)\n",
        "pdat.PlotKey(case.conds,case.JAs*jNormFactor,stds,key,color='r',normalize=False,mode=\"JA\")\n",
        "plt.ylim([0.75,1.15])\n",
        "\n",
        "plt.gcf().savefig(outPath+\"fig5_crowderRad.png\",dpi=300)\n",
        "\n",
        "case.vFs\n"
      ],
      "metadata": {
        "colab": {
          "base_uri": "https://localhost:8080/",
          "height": 629
        },
        "id": "JSQN7HNgyaIj",
        "outputId": "9ad01d3b-486d-4c4a-c89b-ba119fd29f62"
      },
      "execution_count": 34,
      "outputs": [
        {
          "output_type": "stream",
          "name": "stdout",
          "text": [
            "crowderRad [ 0.1  1.   3.   5.   7.   9.  10. ]\n",
            "JAs [-6.87921953e-07 -6.49651814e-07 -6.58211763e-07 -6.46795168e-07\n",
            " -6.29291906e-07 -6.00082000e-07 -5.87193874e-07] [0.93851984 0.88630856 0.89798675 0.88241129 0.8585319  0.81868133\n",
            " 0.80109829]\n",
            "NEED TO ADJUST FOR ACTUAL CALCULTION \n",
            "crowderRad [ 0.1  1.   3.   5.   7.   9.  10. ]\n",
            "+ATP JAs [1.05805156 1.03879504 1.02125003 1.0019414  0.95827284 0.92116515\n",
            " 0.88982877]\n"
          ]
        },
        {
          "output_type": "execute_result",
          "data": {
            "text/plain": [
              "array([0.93111187, 0.91784375, 0.8840925 , 0.82520687, 0.74439812,\n",
              "       0.6551025 , 0.60863359])"
            ]
          },
          "metadata": {},
          "execution_count": 34
        },
        {
          "output_type": "display_data",
          "data": {
            "text/plain": [
              "<Figure size 640x480 with 1 Axes>"
            ],
            "image/png": "[encoded data removed]"
          },
          "metadata": {}
        }
      ]
    },
    {
      "cell_type": "code",
      "source": [
        "key = \"crowderAttr\"\n",
        "\n",
        "case = empty()\n",
        "case.conds,case.Ds,case.Dstds,case.JAs,case.JAstds, case.vFs  = pdat.ProcessGroup(df,key)\n",
        "cases[key+\"-atp\"] = case\n",
        "\n",
        "\n",
        "case = empty()\n",
        "case.conds,case.Ds,case.Dstds,case.JAs,case.JAstds, case.vFs  = pdat.ProcessGroup(dfATP,key)\n",
        "cases[key+\"+atp\"] = case\n",
        "\n",
        "\n",
        "case = cases[key+\"-atp\"]\n",
        "stds = case.JAstds*-1*jNormFactor / np.sqrt(nCases)\n",
        "pdat.PlotKey(case.conds,case.JAs*jNormFactor,stds,key)#,normalize=True)\n",
        "\n",
        "case = cases[key+\"+atp\"]\n",
        "stds = case.JAstds*-1*jNormFactor / np.sqrt(nCases)\n",
        "pdat.PlotKey(case.conds,case.JAs*jNormFactor,stds,key,color='r')#,normalize=True)\n",
        "plt.xscale('log')\n",
        "plt.ylim([0.25,1.0])\n",
        "\n",
        "plt.gcf().savefig(outPath+\"fig5_crowderAttr.png\",dpi=300)"
      ],
      "metadata": {
        "colab": {
          "base_uri": "https://localhost:8080/",
          "height": 528
        },
        "id": "ePDQw58s4RgV",
        "outputId": "9bb03037-5c10-4db8-931a-b763bbce3906"
      },
      "execution_count": 38,
      "outputs": [
        {
          "output_type": "stream",
          "name": "stdout",
          "text": [
            "crowderAttr [0.05       0.06299605 0.07937005 0.1        0.1259921  0.15874011\n",
            " 0.2        2.         4.         6.        ]\n",
            "crowderAttr [0.05       0.06299605 0.07937005 0.1        0.1259921  0.15874011\n",
            " 0.2       ]\n"
          ]
        },
        {
          "output_type": "display_data",
          "data": {
            "text/plain": [
              "<Figure size 640x480 with 1 Axes>"
            ],
            "image/png": "[encoded data removed]"
          },
          "metadata": {}
        }
      ]
    },
    {
      "cell_type": "markdown",
      "source": [
        "## Continuum data\n",
        "\n",
        "- Run master on kant (test07-test10)\n",
        "(https://bitbucket.org/huskeypm/diffusion_example_2d/src/master/requests/??????)\n",
        "\n",
        "- See paper notes for more detail on repository\n",
        "\n",
        "<code>\n",
        "../solutions/test07/smol/0001/info.yaml:Deff_membrane: 0.49443361495120397\n",
        "../solutions/test08/smol/0001/info.yaml:Deff_membrane: 0.7730293910002057\n",
        "../solutions/test09/smol/0001/info.yaml:Deff_membrane: 0.7963113880422519\n",
        "../solutions/test10/smol/0001/info.yaml:Deff_membrane: 0.9866307129197737\n",
        "Singularity> grep phi_memb ../solutions/test*/smol/0001/info.yaml\n",
        "../solutions/test07/smol/0001/info.yaml:phi_membrane: 0.6681145173651292\n",
        "../solutions/test08/smol/0001/info.yaml:phi_membrane: 0.8539840575456275\n",
        "../solutions/test09/smol/0001/info.yaml:phi_membrane: 0.8772177500681925\n",
        "../solutions/test10/smol/0001/info.yaml:phi_membrane: 0.9933862126810031\n",
        "</code>"
      ],
      "metadata": {
        "id": "feZ67Eg_GgrJ"
      }
    },
    {
      "cell_type": "code",
      "source": [
        "import matplotlib.pylab as plt\n",
        "import numpy as np\n",
        "phis = np.array([0.4108862126810036, 0.6681145173651292, 0.8539840575456275, 0.8772177500681925, 0.9933862126810031])\n",
        "Ds = np.array([0.403642231410656, 0.49443361495120397, 0.7730293910002057, 0.7963113880422519, 0.9866307129197737])"
      ],
      "metadata": {
        "id": "ZRP8-7O9Gh50"
      },
      "execution_count": null,
      "outputs": []
    },
    {
      "cell_type": "code",
      "source": [
        "case.vFs"
      ],
      "metadata": {
        "id": "ESGK3st7Kzp1",
        "outputId": "06422400-4dc6-469d-cef8-afabaf576615",
        "colab": {
          "base_uri": "https://localhost:8080/"
        }
      },
      "execution_count": null,
      "outputs": [
        {
          "output_type": "execute_result",
          "data": {
            "text/plain": [
              "array([0.62158625, 0.61652266, 0.60976562, 0.60415313, 0.60019062,\n",
              "       0.59618688, 0.59063875])"
            ]
          },
          "metadata": {},
          "execution_count": 25
        }
      ]
    },
    {
      "cell_type": "code",
      "source": [
        "daMax=1.10\n",
        "\n",
        "key=\"crowderRad\"\n",
        "# particle\n",
        "plt.figure()\n",
        "case = cases[key+\"-atp\"]\n",
        "stds = case.JAstds*-1*jNormFactor / np.sqrt(nCases)\n",
        "pdat.PlotKey(case.vFs,case.JAs*jNormFactor,stds,key,normalize=False, mode=\"JA\",altName=\"phi\")\n",
        "\n",
        "case = cases[key+\"+atp\"]\n",
        "stds = case.JAstds*-1*jNormFactor / np.sqrt(nCases)\n",
        "pdat.PlotKey(case.vFs,case.JAs*jNormFactor,stds,key,color='r',normalize=False,mode=\"JA\",altName=\"phi\")\n",
        "plt.ylim([0,daMax])\n",
        "\n",
        "# continuum\n",
        "#fig,axl = plt.subplots(1)\n",
        "axr = plt.twinx()\n",
        "axr.scatter(phis,Ds,edgecolor='k', facecolor='w',label=\"Continuum simulations\")\n",
        "\n",
        "# analytic\n",
        "axr.plot(phis,2*phis/(3-phis),'k',label=\"Hashin-Shtrikman bound\")\n",
        "axr.legend(loc=0)\n",
        "axr.set_xlabel(\"Free volume(area) fraction, $\\phi$\")\n",
        "axr.set_ylabel(\"Diffusion: $D(\\phi)/D(\\phi=1)$\")\n",
        "axr.set_ylim([0,daMax])\n",
        "\n",
        "plt.gcf().savefig(outPath+\"fig7_DvsPhi.png\",dpi=300)\n"
      ],
      "metadata": {
        "colab": {
          "base_uri": "https://localhost:8080/",
          "height": 449
        },
        "id": "K5gQPtARQb97",
        "outputId": "d4fc28af-43dd-4359-cd0a-5db0e433746c"
      },
      "execution_count": null,
      "outputs": [
        {
          "output_type": "display_data",
          "data": {
            "text/plain": [
              "<Figure size 640x480 with 2 Axes>"
            ],
            "image/png": "[encoded data removed]"
          },
          "metadata": {}
        }
      ]
    },
    {
      "cell_type": "markdown",
      "source": [
        "Widths\n",
        "\n",
        "Created test11-13\n",
        "<code>\n",
        "$ grep totflux_A_pore ../solutions/test11/smol/0001//info.yaml\n",
        "totflux_A_pore: 0.05925859045541587\n",
        "$ grep totflux_A_pore ../solutions/test12/smol/0001/info.yaml\n",
        "totflux_A_pore: 0.07531812128985557\n",
        "$ grep totflux_A_pore ../solutions/test13/smol/0001/info.yaml\n",
        "totflux_A_pore: 0.0876739876632738\n",
        "</code>\n",
        "\n",
        "5, 7, and 9 pore widths; assuming it's 11 high\n",
        "\n",
        "///// reservoir on right (negative, positive); negative in channel\n",
        " 0.11386163913859533 #(both particle and potential are negative?, so why is flux increased?)\n",
        " 0.06720684392605135  \n",
        " 0.07531812128985557\n",
        "0.08490851205509801\n",
        "\n",
        "conc higher on left in model\n"
      ],
      "metadata": {
        "id": "L84YBKcisOhK"
      }
    },
    {
      "cell_type": "code",
      "source": [
        "widths=[5,7,9]\n",
        "fluxes = np.array([0.059,0.075,0.088])\n",
        "max=11 # include this in widths next time\n",
        "print(\"WARNING: use actual value\")\n",
        "maxFlux = fluxes[2]*max/widths[2]\n",
        "\n",
        "import matplotlib.pylab as plt\n",
        "import numpy as np\n",
        "plt.scatter(widths,fluxes/maxFlux, edgecolor='k', facecolor='w',label=\"sim\")\n",
        "validwidths = np.array([5,7,9,max])\n",
        "plt.plot(validwidths,validwidths/max,'k',label='analytic')\n",
        "plt.ylabel(\"nFlux\")\n",
        "plt.xlabel(\"Widths\")\n",
        "plt.title(\"flux vs channel width\")\n",
        "plt.legend(loc=0)\n",
        "\n",
        "\n",
        "plt.gcf().savefig(outPath+\"fig7_JvsW.png\",dpi=300)\n"
      ],
      "metadata": {
        "id": "NRQboauEQevo",
        "colab": {
          "base_uri": "https://localhost:8080/",
          "height": 489
        },
        "outputId": "0360728c-c51b-4373-a92a-f9ac2b468eb2"
      },
      "execution_count": null,
      "outputs": [
        {
          "output_type": "stream",
          "name": "stdout",
          "text": [
            "WARNING: use actual value\n"
          ]
        },
        {
          "output_type": "display_data",
          "data": {
            "text/plain": [
              "<Figure size 640x480 with 1 Axes>"
            ],
            "image/png": "[encoded data removed]"
          },
          "metadata": {}
        }
      ]
    },
    {
      "cell_type": "code",
      "source": [
        "maxFlux"
      ],
      "metadata": {
        "colab": {
          "base_uri": "https://localhost:8080/"
        },
        "id": "2ZNkcb1ftFEu",
        "outputId": "4b8127cf-0391-4e9d-8bed-2287700ff8ac"
      },
      "execution_count": null,
      "outputs": [
        {
          "output_type": "execute_result",
          "data": {
            "text/plain": [
              "1.0755555555555556"
            ]
          },
          "metadata": {},
          "execution_count": 2
        }
      ]
    },
    {
      "cell_type": "code",
      "source": [
        "ATTEMPTING TO GET POTENTIALS IMPOSED"
      ],
      "metadata": {
        "id": "gcxHigtftFly"
      },
      "execution_count": null,
      "outputs": []
    }
  ]
}