{
  "nbformat": 4,
  "nbformat_minor": 0,
  "metadata": {
    "colab": {
      "provenance": [],
      "toc_visible": true,
      "gpuType": "T4",
      "authorship_tag": "ABX9TyOEIw/Jzz2uzv/JjMQoJYtI",
      "include_colab_link": true
    },
    "kernelspec": {
      "name": "python3",
      "display_name": "Python 3"
    },
    "language_info": {
      "name": "python"
    },
    "accelerator": "GPU"
  },
  "cells": [
    {
      "cell_type": "markdown",
      "metadata": {
        "id": "view-in-github",
        "colab_type": "text"
      },
      "source": [
        "<a href=\"https://colab.research.google.com/github/huskeypm/cellmigration/blob/main/conda_openmm_pytraj.ipynb\" target=\"_parent\"><img src=\"https://colab.research.google.com/assets/colab-badge.svg\" alt=\"Open In Colab\"/></a>"
      ]
    },
    {
      "cell_type": "markdown",
      "source": [
        "# brownian example\n",
        "This notebook demonstrates the cell simulator using google colab.\n",
        "\n",
        "A recentish copy can be found in ./examples"
      ],
      "metadata": {
        "id": "cOvJfGBCPJ_V"
      }
    },
    {
      "cell_type": "markdown",
      "source": [
        "## Setup\n",
        "Enable cuda runtime first before starting session"
      ],
      "metadata": {
        "id": "XjBGFRFwHX9X"
      }
    },
    {
      "cell_type": "code",
      "source": [
        "!pip install -q condacolab\n",
        "import condacolab\n",
        "condacolab.install()"
      ],
      "metadata": {
        "colab": {
          "base_uri": "https://localhost:8080/"
        },
        "id": "TIOo8DQzEF9l",
        "outputId": "67c4c730-33a1-4f4b-9740-1fe97482c372"
      },
      "execution_count": 5,
      "outputs": [
        {
          "output_type": "stream",
          "name": "stdout",
          "text": [
            "⏬ Downloading https://github.com/conda-forge/miniforge/releases/download/23.1.0-1/Mambaforge-23.1.0-1-Linux-x86_64.sh...\n",
            "📦 Installing...\n",
            "📌 Adjusting configuration...\n",
            "🩹 Patching environment...\n",
            "⏲ Done in 0:00:13\n",
            "🔁 Restarting kernel...\n"
          ]
        }
      ]
    },
    {
      "cell_type": "code",
      "execution_count": null,
      "metadata": {
        "id": "_Jo7Z0JBD78l"
      },
      "outputs": [],
      "source": [
        "!conda install -c conda-forge openmm ambertools=23"
      ]
    },
    {
      "cell_type": "markdown",
      "source": [
        "Check that installation was successful"
      ],
      "metadata": {
        "id": "N1aRlczIPXQS"
      }
    },
    {
      "cell_type": "code",
      "source": [
        "import openmm\n",
        "import pytraj\n"
      ],
      "metadata": {
        "id": "eoOK9cAgD_jP"
      },
      "execution_count": 2,
      "outputs": []
    },
    {
      "cell_type": "markdown",
      "source": [
        "Check that cuda is available (otherwise check at beginning the appropriate session was established)"
      ],
      "metadata": {
        "id": "vrgnn1GqIEJd"
      }
    },
    {
      "cell_type": "code",
      "source": [
        "import openmm as mm\n",
        "\n",
        "platform = mm.Platform.getPlatformByName('CUDA')\n",
        "properties = {'Precision': 'double'}"
      ],
      "metadata": {
        "id": "WRFCpVcRH82U"
      },
      "execution_count": 32,
      "outputs": []
    },
    {
      "cell_type": "code",
      "source": [
        "import matplotlib.pylab as plt\n",
        "import numpy as np\n"
      ],
      "metadata": {
        "id": "v8UYzHtzO0Jk"
      },
      "execution_count": 37,
      "outputs": []
    },
    {
      "cell_type": "markdown",
      "source": [
        "CHeck out the cellmigration repo"
      ],
      "metadata": {
        "id": "ipKkWBnuIOCT"
      }
    },
    {
      "cell_type": "code",
      "source": [
        "!git clone https://github.com/huskeypm/cellmigration.git"
      ],
      "metadata": {
        "colab": {
          "base_uri": "https://localhost:8080/"
        },
        "id": "ytuLD5xxFSk8",
        "outputId": "5a42e2bd-ea96-471b-c80c-0412eee9bc57"
      },
      "execution_count": 5,
      "outputs": [
        {
          "output_type": "stream",
          "name": "stdout",
          "text": [
            "Cloning into 'cellmigration'...\n",
            "remote: Enumerating objects: 501, done.\u001b[K\n",
            "remote: Counting objects: 100% (501/501), done.\u001b[K\n",
            "remote: Compressing objects: 100% (290/290), done.\u001b[K\n",
            "remote: Total 501 (delta 326), reused 370 (delta 204), pack-reused 0\u001b[K\n",
            "Receiving objects: 100% (501/501), 9.51 MiB | 26.90 MiB/s, done.\n",
            "Resolving deltas: 100% (326/326), done.\n"
          ]
        }
      ]
    },
    {
      "cell_type": "code",
      "source": [
        "cd cellmigration/"
      ],
      "metadata": {
        "colab": {
          "base_uri": "https://localhost:8080/"
        },
        "id": "HihsbydcFQsO",
        "outputId": "afc4878a-8e59-4572-cd01-da483a916de7"
      },
      "execution_count": 7,
      "outputs": [
        {
          "output_type": "stream",
          "name": "stdout",
          "text": [
            "/content/cellmigration\n"
          ]
        }
      ]
    },
    {
      "cell_type": "markdown",
      "source": [
        "Import model. Note, the version will likely keep incrementing higher, so check back for updates"
      ],
      "metadata": {
        "id": "8bBp7EttPfG6"
      }
    },
    {
      "cell_type": "code",
      "source": [
        "import brownian_v4 as b4"
      ],
      "metadata": {
        "colab": {
          "base_uri": "https://localhost:8080/"
        },
        "id": "hDP9yGeUGuuI",
        "outputId": "9546fe8d-48b0-4a94-cfc4-e50cb405b428"
      },
      "execution_count": 8,
      "outputs": [
        {
          "output_type": "stream",
          "name": "stdout",
          "text": [
            "Linux\n"
          ]
        }
      ]
    },
    {
      "cell_type": "markdown",
      "source": [
        "## Simulate\n",
        "\n",
        "Execute the simulator using a user-written yaml file. For more instructions on this, check out the readme in the repo\n",
        "\n",
        "https://github.com/huskeypm/cellmigration/blob/main/tests/README.md\n",
        "\n"
      ],
      "metadata": {
        "id": "6hilMiCqPmfS"
      }
    },
    {
      "cell_type": "code",
      "source": [
        "dummy = b4.runBD(display=None, yamlFile=\"tests/effrad.yaml\")"
      ],
      "metadata": {
        "colab": {
          "base_uri": "https://localhost:8080/"
        },
        "id": "1bgtIoEVG6BY",
        "outputId": "5cff349a-db0e-4c44-9576-39e956f8f502"
      },
      "execution_count": 38,
      "outputs": [
        {
          "output_type": "stream",
          "name": "stdout",
          "text": [
            "Adding nCells= 20\n",
            "Adding cellRad= 10\n",
            "Adding cellAttr= 1.0\n",
            "Adding domainXDim= 140\n",
            "Adding domainYDim= 100\n",
            "Adding nCrowders= 9\n",
            "Adding crowderRad= 25\n",
            "Adding crowderDim= 100\n",
            "Adding crowderAttr= 1.0\n",
            "Adding effectiveRad= 10\n",
            "Adding nUpdates= 1000\n",
            "Adding friction= 100\n",
            "Adding containmentPotential= square\n",
            "Adding xPotential= False\n",
            "Adding xScale= 0.1\n",
            "Adding yPotential= False\n",
            "Adding outName= crowder\n",
            "None\n",
            "WARNING: adding random noise, since there's a weird bug with particles placed at origin 0,0,0\n",
            "TODO try removing\n",
            "ADD ME\n",
            "adding square containment potential\n",
            "100.0 * z^2+ 0.0 * exp(-(y - -50.0)/25.)+ 0.0 * (x - -70.0)^1   +10*(max(0, -70.0-x) + max(0, x-70.0) + max(0, -50.0-y) + max(0, y-50.0));\n",
            "Minimizing system\n",
            "If stalls, there's probably a big clash somewhere\n",
            "Running dynamics\n",
            "(1/10)...\n",
            "(2/10)...\n",
            "(3/10)...\n",
            "(4/10)...\n",
            "(5/10)...\n",
            "(6/10)...\n",
            "(7/10)...\n",
            "(8/10)...\n",
            "(9/10)...\n",
            "(10/10)...\n",
            "Time(s):  4\n"
          ]
        }
      ]
    },
    {
      "cell_type": "markdown",
      "source": [
        "## Analyze\n",
        "\n",
        "Firstly, you can visualize the results in vmd, by downloading the vmd visualizer from https://www.ks.uiuc.edu/Development/Download/download.cgi?PackageName=VMD\n",
        "\n",
        "You will also see a crowder.pdb and crowder.dcd dataset in ./cellmigration/ - download these and open with vmd"
      ],
      "metadata": {
        "id": "8dRhsQrpMrxU"
      }
    },
    {
      "cell_type": "code",
      "source": [],
      "metadata": {
        "id": "UhcaWJ6ZG7qS"
      },
      "execution_count": 18,
      "outputs": []
    },
    {
      "cell_type": "markdown",
      "source": [
        "We could also analyze data inside the notebook.\n",
        "\n",
        "Load libraries for analyzing data"
      ],
      "metadata": {
        "id": "T63V12gkLTAa"
      }
    },
    {
      "cell_type": "code",
      "source": [
        "import brown_util as bu\n",
        "import pytraj as pt"
      ],
      "metadata": {
        "id": "oN4udghHLQGe"
      },
      "execution_count": 28,
      "outputs": []
    },
    {
      "cell_type": "code",
      "source": [
        "traj = bu.LoadTraj(outputData)"
      ],
      "metadata": {
        "colab": {
          "base_uri": "https://localhost:8080/"
        },
        "id": "TVGp-Rg4HEmT",
        "outputId": "42521bf7-0ce8-40e1-adf5-05d08f3dac62"
      },
      "execution_count": 19,
      "outputs": [
        {
          "output_type": "stream",
          "name": "stdout",
          "text": [
            "Loaded crowder.dcd\n"
          ]
        }
      ]
    },
    {
      "cell_type": "markdown",
      "source": [
        "### Plot 2D trajectories\n",
        "\n",
        "store the x and y coordinates of all particles with the mask @RC (the moving particles)"
      ],
      "metadata": {
        "id": "lw05Ets8N6RS"
      }
    },
    {
      "cell_type": "code",
      "source": [
        "mask = \"@RC\"\n",
        "indices = pt.select_atoms(traj.top, mask)\n",
        "xs = traj.xyz[0:,indices,0]\n",
        "ys = traj.xyz[0:,indices,1]\n",
        "\n"
      ],
      "metadata": {
        "colab": {
          "base_uri": "https://localhost:8080/"
        },
        "id": "wgAUK77ENgZV",
        "outputId": "3bd9e7c4-eb44-4244-bbce-29db0a637c1c"
      },
      "execution_count": 35,
      "outputs": [
        {
          "output_type": "stream",
          "name": "stdout",
          "text": [
            "(1000, 20)\n"
          ]
        }
      ]
    },
    {
      "cell_type": "markdown",
      "source": [
        "Plot their trajectories"
      ],
      "metadata": {
        "id": "VSK5L-27N2_I"
      }
    },
    {
      "cell_type": "code",
      "source": [
        "nCells = np.shape(xs)[1]\n",
        "\n",
        "plotCells = int(nCells/2) # just plotting five for now\n",
        "for i in range(plotCells):\n",
        "  plt.plot(xs[:,i],ys[:,i],label=\"cell %d\"%i)\n",
        "\n",
        "plt.legend(loc=0)"
      ],
      "metadata": {
        "colab": {
          "base_uri": "https://localhost:8080/",
          "height": 448
        },
        "id": "-KJDIGvLN3Uw",
        "outputId": "778043ab-eaae-43d4-9156-4aa78f7e2c99"
      },
      "execution_count": 36,
      "outputs": [
        {
          "output_type": "execute_result",
          "data": {
            "text/plain": [
              "<matplotlib.legend.Legend at 0x798927bea260>"
            ]
          },
          "metadata": {},
          "execution_count": 36
        },
        {
          "output_type": "display_data",
          "data": {
            "text/plain": [
              "<Figure size 640x480 with 1 Axes>"
            ],
            "image/png": "[encoded data removed]"
          },
          "metadata": {}
        }
      ]
    },
    {
      "cell_type": "markdown",
      "source": [
        "### compute the diffusion coefficient"
      ],
      "metadata": {
        "id": "794Eq4BVL9Qi"
      }
    },
    {
      "cell_type": "code",
      "source": [
        "Di=bu.CalcD(traj,mask='@RC') # ,display=True) # this will be fixed momentarily"
      ],
      "metadata": {
        "id": "WGmXE1EvLYhF"
      },
      "execution_count": 25,
      "outputs": []
    },
    {
      "cell_type": "code",
      "source": [
        "print(\"Diff coefficient is \",Di)"
      ],
      "metadata": {
        "colab": {
          "base_uri": "https://localhost:8080/"
        },
        "id": "7RYyb2K_Lq89",
        "outputId": "829f1b03-70f2-40bb-a842-346230e125dd"
      },
      "execution_count": 27,
      "outputs": [
        {
          "output_type": "stream",
          "name": "stdout",
          "text": [
            "Diff coefficient is  0.1522897194882481\n"
          ]
        }
      ]
    },
    {
      "cell_type": "markdown",
      "source": [
        "### plot histogram of particle positions.\n",
        "These are the areas (top) and relative energies (bottom) of the regions that the particles sampled"
      ],
      "metadata": {
        "id": "dWwtD9hRL1lZ"
      }
    },
    {
      "cell_type": "code",
      "source": [
        "  dummy = bu.CalcProbDist(traj,mask='@RC',display=True)"
      ],
      "metadata": {
        "colab": {
          "base_uri": "https://localhost:8080/",
          "height": 862
        },
        "id": "7wdJlA1ILrcn",
        "outputId": "deb00dfa-ac54-442f-c358-b14963de79cf"
      },
      "execution_count": 23,
      "outputs": [
        {
          "output_type": "display_data",
          "data": {
            "text/plain": [
              "<Figure size 640x480 with 2 Axes>"
            ],
            "image/png": "[encoded data removed]"
          },
          "metadata": {}
        },
        {
          "output_type": "display_data",
          "data": {
            "text/plain": [
              "<Figure size 640x480 with 2 Axes>"
            ],
            "image/png": "[encoded data removed]"
          },
          "metadata": {}
        }
      ]
    },
    {
      "cell_type": "markdown",
      "source": [
        "## More tips\n",
        "- See the README.md files for more tips on configuring simulations using yaml files\n",
        "- Use pytraj documention to perform additional analyses (https://amber-md.github.io/pytraj/latest/index.html)"
      ],
      "metadata": {
        "id": "0oAAvZYrVkYm"
      }
    },
    {
      "cell_type": "code",
      "source": [],
      "metadata": {
        "id": "NSbMhURwViIA"
      },
      "execution_count": null,
      "outputs": []
    }
  ]
}