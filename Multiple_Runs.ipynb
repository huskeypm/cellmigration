{
 "cells": [
  {
   "cell_type": "markdown",
   "metadata": {},
   "source": [
    "Notebook will be adapted to review drift for chemo taxis "
   ]
  },
  {
   "cell_type": "code",
   "execution_count": 1,
   "metadata": {},
   "outputs": [],
   "source": [
    "%load_ext autoreload\n",
    "%autoreload 2\n",
    "\n",
    "import matplotlib.pylab as plt\n",
    "import numpy as np\n",
    "import brown_util as bu"
   ]
  },
  {
   "cell_type": "code",
   "execution_count": 6,
   "metadata": {},
   "outputs": [
    {
     "name": "stdout",
     "output_type": "stream",
     "text": [
      "2570.3045701136007\n"
     ]
    }
   ],
   "source": [
    "# insert and load the names of the pkl files that you made using the yamlFile to change the parameters\n",
    "# calculate the mean square displacements for each pkl file\n",
    "# plot the simulated trajectories of the particles\n",
    "\n",
    "\n",
    "#listofTrajectories= [\"crowder_EK_1_crowders.pkl\",\"crowder_EK_4_crowders.pkl\",\"crowder_EK_9_crowders.pkl\",\"crowder_EK_16_crowders.pkl\",\"crowder_EK_25_crowders.pkl\",\"crowder_EK_36_crowders.pkl\",\"crowder_EK_49_crowders.pkl\"]\n",
    "listofTrajectories= [\"expt_cellRad0.100000_00.pkl\"]\n",
    "path=\"/home/pkh-lab-shared/migration/231004/\"\n",
    "for trajectory in listofTrajectories:\n",
    "    ts,xs,ys, nUpdates, nParticles = bu.LoadPKLData(path+trajectory)\n",
    "    msds= bu.meanSquareDisplacements(xs, ys, nUpdates)\n",
    "    print(msds[-1])\n"
   ]
  },
  {
   "cell_type": "code",
   "execution_count": 7,
   "metadata": {},
   "outputs": [
    {
     "data": {
      "text/plain": [
       "(21, 320)"
      ]
     },
     "execution_count": 7,
     "metadata": {},
     "output_type": "execute_result"
    }
   ],
   "source": []
  },
  {
   "cell_type": "markdown",
   "metadata": {},
   "source": [
    "Computing drift in x direction"
   ]
  },
  {
   "cell_type": "code",
   "execution_count": 15,
   "metadata": {},
   "outputs": [],
   "source": [
    "dx = xs[:,-1]\n"
   ]
  },
  {
   "cell_type": "code",
   "execution_count": 18,
   "metadata": {},
   "outputs": [
    {
     "data": {
      "text/plain": [
       "(array([1., 0., 1., 3., 7., 3., 1., 3., 0., 2.]),\n",
       " array([-158.35162354, -127.83858032,  -97.32553711,  -66.8124939 ,\n",
       "         -36.29945068,   -5.78640747,   24.72663574,   55.23967896,\n",
       "          85.75272217,  116.26576538,  146.77880859]),\n",
       " <a list of 10 Patch objects>)"
      ]
     },
     "execution_count": 18,
     "metadata": {},
     "output_type": "execute_result"
    },
    {
     "data": {
      "image/png": "[encoded data removed]",
      "text/plain": [
       "<Figure size 432x288 with 1 Axes>"
      ]
     },
     "metadata": {
      "needs_background": "light"
     },
     "output_type": "display_data"
    }
   ],
   "source": [
    "plt.hist(dx)"
   ]
  },
  {
   "cell_type": "code",
   "execution_count": null,
   "metadata": {},
   "outputs": [],
   "source": []
  }
 ],
 "metadata": {
  "kernelspec": {
   "display_name": "Python 3",
   "language": "python",
   "name": "python3"
  },
  "language_info": {
   "codemirror_mode": {
    "name": "ipython",
    "version": 3
   },
   "file_extension": ".py",
   "mimetype": "text/x-python",
   "name": "python",
   "nbconvert_exporter": "python",
   "pygments_lexer": "ipython3",
   "version": "3.8.3"
  }
 },
 "nbformat": 4,
 "nbformat_minor": 5
}
