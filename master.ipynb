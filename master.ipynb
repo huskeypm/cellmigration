{
  "cells": [
    {
      "cell_type": "markdown",
      "metadata": {
        "id": "view-in-github",
        "colab_type": "text"
      },
      "source": [
        "<a href=\"https://colab.research.google.com/github/huskeypm/cellmigration/blob/main/master.ipynb\" target=\"_parent\"><img src=\"https://colab.research.google.com/assets/colab-badge.svg\" alt=\"Open In Colab\"/></a>"
      ]
    },
    {
      "cell_type": "markdown",
      "metadata": {
        "id": "Cd3hIYm7j95e"
      },
      "source": [
        "# master\n",
        "Workhorse for generating and executing jobs in support of migration paper.\n",
        "\n",
        "Once the csv files are made from the postprocessing, use the colab notebook to plot:\n",
        "\n",
        "\n",
        "NEEDS TO RUN ON KANT FOR THE TIME BEING\n"
      ]
    },
    {
      "cell_type": "code",
      "execution_count": 1,
      "metadata": {
        "id": "t-dl66Y8j95f"
      },
      "outputs": [],
      "source": [
        "%load_ext autoreload\n",
        "%autoreload 2"
      ]
    },
    {
      "cell_type": "code",
      "source": [
        "#!git clone https://github.com/huskeypm/cellmigration\n",
        "!cd cellmigration; git pull"
      ],
      "metadata": {
        "colab": {
          "base_uri": "https://localhost:8080/"
        },
        "id": "UlsR7HREkE2b",
        "outputId": "31baef54-82ea-44b8-ae87-02ba5e4153d7"
      },
      "execution_count": 22,
      "outputs": [
        {
          "output_type": "stream",
          "name": "stdout",
          "text": [
            "remote: Enumerating objects: 18, done.\u001b[K\n",
            "remote: Counting objects:   5% (1/18)\u001b[K\rremote: Counting objects:  11% (2/18)\u001b[K\rremote: Counting objects:  16% (3/18)\u001b[K\rremote: Counting objects:  22% (4/18)\u001b[K\rremote: Counting objects:  27% (5/18)\u001b[K\rremote: Counting objects:  33% (6/18)\u001b[K\rremote: Counting objects:  38% (7/18)\u001b[K\rremote: Counting objects:  44% (8/18)\u001b[K\rremote: Counting objects:  50% (9/18)\u001b[K\rremote: Counting objects:  55% (10/18)\u001b[K\rremote: Counting objects:  61% (11/18)\u001b[K\rremote: Counting objects:  66% (12/18)\u001b[K\rremote: Counting objects:  72% (13/18)\u001b[K\rremote: Counting objects:  77% (14/18)\u001b[K\rremote: Counting objects:  83% (15/18)\u001b[K\rremote: Counting objects:  88% (16/18)\u001b[K\rremote: Counting objects:  94% (17/18)\u001b[K\rremote: Counting objects: 100% (18/18)\u001b[K\rremote: Counting objects: 100% (18/18), done.\u001b[K\n",
            "remote: Compressing objects:  25% (1/4)\u001b[K\rremote: Compressing objects:  50% (2/4)\u001b[K\rremote: Compressing objects:  75% (3/4)\u001b[K\rremote: Compressing objects: 100% (4/4)\u001b[K\rremote: Compressing objects: 100% (4/4), done.\u001b[K\n",
            "remote: Total 12 (delta 8), reused 12 (delta 8), pack-reused 0\u001b[K\n",
            "Unpacking objects:   8% (1/12)\rUnpacking objects:  16% (2/12)\rUnpacking objects:  25% (3/12)\rUnpacking objects:  33% (4/12)\rUnpacking objects:  41% (5/12)\rUnpacking objects:  50% (6/12)\rUnpacking objects:  58% (7/12)\rUnpacking objects:  66% (8/12)\rUnpacking objects:  75% (9/12)\rUnpacking objects:  83% (10/12)\rUnpacking objects:  91% (11/12)\rUnpacking objects: 100% (12/12)\rUnpacking objects: 100% (12/12), 1.97 KiB | 336.00 KiB/s, done.\n",
            "From https://github.com/huskeypm/cellmigration\n",
            "   510b5a8..d257e4c  main       -> origin/main\n",
            "Updating 510b5a8..d257e4c\n",
            "Fast-forward\n",
            " batchProcess.py          |   61 \u001b[32m+\u001b[m\u001b[31m-\u001b[m\n",
            " brown_util.py            |   26 \u001b[32m+\u001b[m\u001b[31m-\u001b[m\n",
            " master.ipynb             | 4927 \u001b[31m------------------------------------------------------------------\u001b[m\n",
            " paper/template_full.yaml |   44 \u001b[32m+\u001b[m\u001b[31m-\u001b[m\n",
            " paper/writeInputs.py     |    5 \u001b[32m+\u001b[m\u001b[31m-\u001b[m\n",
            " 5 files changed, 82 insertions(+), 4981 deletions(-)\n",
            " delete mode 100644 master.ipynb\n"
          ]
        }
      ]
    },
    {
      "cell_type": "code",
      "source": [
        "import sys\n",
        "sys.path.append(\"/content/cellmigration/\")"
      ],
      "metadata": {
        "id": "809Tt7izkLmx"
      },
      "execution_count": 23,
      "outputs": []
    },
    {
      "cell_type": "code",
      "source": [
        "ls /content/cellmigration/"
      ],
      "metadata": {
        "colab": {
          "base_uri": "https://localhost:8080/"
        },
        "id": "vRU0z1lGkYYO",
        "outputId": "ab62a9b6-b6ec-4aca-8c59-4839a99f2fe5"
      },
      "execution_count": 24,
      "outputs": [
        {
          "output_type": "stream",
          "name": "stdout",
          "text": [
            "batchProcess.py  brown_wnonbond.py          histo.ipynb            pdb.py          \u001b[0m\u001b[01;34mtests\u001b[0m/\n",
            "brownian_v2.py   calculator.py              lattice.py             processYaml.py  update.py\n",
            "\u001b[01;32mbrownian_v3.py\u001b[0m*  concentration.py           LICENSE                README_1.md\n",
            "\u001b[01;32mbrownian_v4.py\u001b[0m*  conda_openmm_pytraj.ipynb  migration_paper.ipynb  README.md\n",
            "\u001b[01;32mbrownian_v5.py\u001b[0m*  config.bash                \u001b[01;34mpaper\u001b[0m/                 \u001b[01;34mrun\u001b[0m/\n",
            "brown_util.py    \u001b[01;34mexpt_analysis\u001b[0m/             \u001b[01;32mparameters.py\u001b[0m*         states.py\n"
          ]
        }
      ]
    },
    {
      "cell_type": "code",
      "execution_count": 31,
      "metadata": {
        "scrolled": true,
        "colab": {
          "base_uri": "https://localhost:8080/"
        },
        "id": "nLCebyg8j95g",
        "outputId": "6f27aaca-072c-4904-df98-fdf1604b59b1"
      },
      "outputs": [
        {
          "output_type": "stream",
          "name": "stdout",
          "text": [
            "ADJ PATH LATER\n",
            "$EXEC \n"
          ]
        }
      ],
      "source": [
        "import yaml\n",
        "import sys\n",
        "\n",
        "sys.path.append('/content/cellmigration/paper/')\n",
        "import writeInputs as wi\n",
        "#import batchProcess as bp\n",
        "#outDir = \"/home/pkh-lab-shared/migration/231110/\"\n",
        "outDir = \"/home/pkekeneshuskey/data/231208/\"\n",
        "outDir = \"./\"\n",
        "# FOR LOCAL\n",
        "cmd = \"python3 brownian_v3.py -yamlFile \" # if local\n",
        "\n",
        "# FOR FAUST/W\n",
        "cmd='$EXEC ' # if remote host\n",
        "\n",
        "wi.params = wi.Params(\n",
        "    cmd=cmd,\n",
        "    path=outDir\n",
        ")\n",
        "#wi.params.cmd = cmd\n",
        "#wi.params.path=outDir\n",
        "\n",
        "print(\"ADJ PATH LATER\")\n",
        "#bp.path=outDir\n",
        "print(wi.params.cmd)\n",
        "\n",
        "varIter = 7 # keys\n",
        "varRuns = 5 # replicates per run"
      ]
    },
    {
      "cell_type": "markdown",
      "metadata": {
        "id": "zK56qkX8j95g"
      },
      "source": [
        "The idea of the reference file is to have a complete system that toggled - for instance, we have a case that is tuned for ATP application, but we can set the ATP concentration to zero to emulate a ATP-free condition. Also want values that are intermediate, so when we vary them by 50%-200%, we get reasonable numbers"
      ]
    },
    {
      "cell_type": "code",
      "execution_count": 26,
      "metadata": {
        "id": "xPv_JtxQj95g"
      },
      "outputs": [],
      "source": [
        "referenceFile=\"cellmigration/paper/template_full.yaml\"\n",
        "with open(referenceFile, 'r') as file:\n",
        "     daVars = yaml.safe_load(file)"
      ]
    },
    {
      "cell_type": "markdown",
      "metadata": {
        "id": "nGKnK-LGj95g"
      },
      "source": [
        "## crowder free case\n",
        "### No ATP\n",
        "Can copy/paste into file to run\n"
      ]
    },
    {
      "cell_type": "code",
      "execution_count": 36,
      "metadata": {
        "id": "LV9Pd5H_j95h"
      },
      "outputs": [],
      "source": [
        "nocrowders = daVars.copy()\n",
        "nocrowders['nCrowders']=1\n",
        "nocrowders['crowderRad']=0.1\n",
        "nocrowders['outName']='nocrowder'\n",
        "keys=['nCells','cellRad','cellAttr']"
      ]
    },
    {
      "cell_type": "code",
      "source": [
        "nocrowders"
      ],
      "metadata": {
        "colab": {
          "base_uri": "https://localhost:8080/"
        },
        "id": "3SBEDGHVk0A_",
        "outputId": "ce3a9c3b-15c5-4aa1-fd99-512c7ff48f48"
      },
      "execution_count": 37,
      "outputs": [
        {
          "output_type": "execute_result",
          "data": {
            "text/plain": [
              "{'nCells': 60,\n",
              " 'cellAttr': 0.1,\n",
              " 'cellRad': 4,\n",
              " 'friction': 25,\n",
              " 'crowderAttr': 0.1,\n",
              " 'nCrowders': 1,\n",
              " 'crowderRad': 0.1,\n",
              " 'states': False,\n",
              " 'tag': 'nCells',\n",
              " 'xPotential': False,\n",
              " 'xScale': 5.0,\n",
              " 'yPotential': False,\n",
              " 'yScale': 20,\n",
              " 'containmentPotential': 'square',\n",
              " 'crowderXDim': 50,\n",
              " 'crowderYDim': 100,\n",
              " 'absorbingBoundary': True,\n",
              " 'absorbingMargin': 10.0,\n",
              " 'domainXDim': 175,\n",
              " 'domainYDim': 100,\n",
              " 'nUpdates': 2500000,\n",
              " 'outName': 'nocrowder'}"
            ]
          },
          "metadata": {},
          "execution_count": 37
        }
      ]
    },
    {
      "cell_type": "code",
      "execution_count": 38,
      "metadata": {
        "colab": {
          "base_uri": "https://localhost:8080/"
        },
        "id": "caQdxYxYj95h",
        "outputId": "d39e83b4-56b5-41f7-ec05-390c7cf2eaf3"
      },
      "outputs": [
        {
          "output_type": "stream",
          "name": "stdout",
          "text": [
            "Generate  nCells\n",
            "nCells [ 30.          37.7976315   47.62203156  60.          75.59526299\n",
            "  95.24406312 120.        ]\n",
            "Wrote nocrowder_nCells.bash\n",
            "Generate  cellRad\n",
            "cellRad [2.         2.5198421  3.1748021  4.         5.0396842  6.34960421\n",
            " 8.        ]\n",
            "Wrote nocrowder_cellRad.bash\n",
            "Generate  cellAttr\n",
            "cellAttr [0.05       0.06299605 0.07937005 0.1        0.1259921  0.15874011\n",
            " 0.2       ]\n",
            "Wrote nocrowder_cellAttr.bash\n"
          ]
        }
      ],
      "source": [
        "\n",
        "####### cellAttr ----> particleAttr\n",
        "for daKey in keys:\n",
        "    print(\"Generate \",daKey)\n",
        "    writeFile = nocrowders['outName']+\"_\"+daKey+\".bash\"\n",
        "    wi.WriteIterativeYaml(nocrowders,daKey,varIter=varIter, varRuns=varRuns,\n",
        "                         writeFile=writeFile)\n",
        ""
      ]
    },
    {
      "cell_type": "code",
      "execution_count": null,
      "metadata": {
        "id": "3zGl80-6j95h"
      },
      "outputs": [],
      "source": [
        "bp.processYamls(nocrowders['outName'],yamlNamePrefix=nocrowders['outName'],prefixOptions=keys,\n",
        "               display=False)"
      ]
    },
    {
      "cell_type": "markdown",
      "metadata": {
        "id": "RdeHpAqfj95h"
      },
      "source": [
        "### + ATP\n",
        "\n"
      ]
    },
    {
      "cell_type": "code",
      "execution_count": 45,
      "metadata": {
        "colab": {
          "base_uri": "https://localhost:8080/"
        },
        "id": "unA80tJYj95h",
        "outputId": "bd16f57c-1734-460a-fba0-74c093b43266"
      },
      "outputs": [
        {
          "output_type": "stream",
          "name": "stdout",
          "text": [
            "./\n"
          ]
        }
      ],
      "source": [
        "nocrowdersatp = daVars.copy()\n",
        "nocrowdersatp['nCrowders']=1\n",
        "nocrowdersatp['crowderRad']=0.1\n",
        "nocrowdersatp['outName']='nocrowder_atp'\n",
        "nocrowdersatp['xPotential']=True\n",
        "keys=['nCells','cellRad','cellAttr','xScale','yScale']\n",
        "print(wi.params.path)"
      ]
    },
    {
      "cell_type": "code",
      "execution_count": 46,
      "metadata": {
        "colab": {
          "base_uri": "https://localhost:8080/"
        },
        "id": "-6n8O9evj95h",
        "outputId": "58a5e5c2-5734-4fb5-83f7-fff310d97e7b"
      },
      "outputs": [
        {
          "output_type": "stream",
          "name": "stdout",
          "text": [
            "Generate  nCells\n",
            "nCells [ 30.          37.7976315   47.62203156  60.          75.59526299\n",
            "  95.24406312 120.        ]\n",
            "Wrote nocrowder_atp_nCells.bash\n",
            "Generate  cellRad\n",
            "cellRad [2.         2.5198421  3.1748021  4.         5.0396842  6.34960421\n",
            " 8.        ]\n",
            "Wrote nocrowder_atp_cellRad.bash\n",
            "Generate  cellAttr\n",
            "cellAttr [0.05       0.06299605 0.07937005 0.1        0.1259921  0.15874011\n",
            " 0.2       ]\n",
            "Wrote nocrowder_atp_cellAttr.bash\n",
            "Generate  xScale\n",
            "xScale [ 2.5         3.14980262  3.96850263  5.          6.29960525  7.93700526\n",
            " 10.        ]\n",
            "Wrote nocrowder_atp_xScale.bash\n",
            "Generate  yScale\n",
            "yScale [10.         12.5992105  15.87401052 20.         25.198421   31.74802104\n",
            " 40.        ]\n",
            "Wrote nocrowder_atp_yScale.bash\n"
          ]
        }
      ],
      "source": [
        "\n",
        "\n",
        "for daKey in keys:\n",
        "    print(\"Generate \",daKey)\n",
        "    writeFile = nocrowdersatp['outName']+\"_\"+daKey+\".bash\"\n",
        "    wi.WriteIterativeYaml(nocrowdersatp,daKey,varIter=varIter, varRuns=varRuns,\n",
        "                         writeFile=writeFile)\n",
        "\n",
        ""
      ]
    },
    {
      "cell_type": "code",
      "execution_count": null,
      "metadata": {
        "id": "aLUe3QMHj95h",
        "outputId": "286b6d72-d822-42c0-e504-8b529ba1abbc"
      },
      "outputs": [
        {
          "ename": "NameError",
          "evalue": "name 'nocrowdersatp' is not defined",
          "output_type": "error",
          "traceback": [
            "\u001b[0;31m---------------------------------------------------------------------------\u001b[0m",
            "\u001b[0;31mNameError\u001b[0m                                 Traceback (most recent call last)",
            "\u001b[0;32m<ipython-input-6-9d3193a1c218>\u001b[0m in \u001b[0;36m<module>\u001b[0;34m()\u001b[0m\n\u001b[0;32m----> 1\u001b[0;31m bp.processYamls(nocrowdersatp['outName'],\n\u001b[0m\u001b[1;32m      2\u001b[0m                 \u001b[0myamlNamePrefix\u001b[0m\u001b[0;34m=\u001b[0m\u001b[0mnocrowdersatp\u001b[0m\u001b[0;34m[\u001b[0m\u001b[0;34m'outName'\u001b[0m\u001b[0;34m]\u001b[0m\u001b[0;34m,\u001b[0m\u001b[0mprefixOptions\u001b[0m\u001b[0;34m=\u001b[0m\u001b[0mkeys\u001b[0m\u001b[0;34m,\u001b[0m\u001b[0;34m\u001b[0m\u001b[0;34m\u001b[0m\u001b[0m\n\u001b[1;32m      3\u001b[0m                 \u001b[0mdisplay\u001b[0m\u001b[0;34m=\u001b[0m\u001b[0;32mFalse\u001b[0m\u001b[0;34m\u001b[0m\u001b[0;34m\u001b[0m\u001b[0m\n\u001b[1;32m      4\u001b[0m                )\n",
            "\u001b[0;31mNameError\u001b[0m: name 'nocrowdersatp' is not defined"
          ]
        }
      ],
      "source": [
        "bp.processYamls(nocrowdersatp['outName'],\n",
        "                yamlNamePrefix=nocrowdersatp['outName'],prefixOptions=keys,\n",
        "                display=False\n",
        "               )"
      ]
    },
    {
      "cell_type": "markdown",
      "metadata": {
        "id": "8cZXE3hTj95i"
      },
      "source": [
        "## crowder  case\n",
        "### No ATP"
      ]
    },
    {
      "cell_type": "code",
      "execution_count": 47,
      "metadata": {
        "colab": {
          "base_uri": "https://localhost:8080/"
        },
        "id": "85iH6QKQj95i",
        "outputId": "b6c5b95d-e5fa-40d1-b402-218209318e66"
      },
      "outputs": [
        {
          "output_type": "stream",
          "name": "stdout",
          "text": [
            "./\n"
          ]
        }
      ],
      "source": [
        "crowders = daVars.copy()\n",
        "crowders['outName']='crowder'\n",
        "keys=['nCrowders','crowderRad','crowderAttr']\n",
        "print(wi.params.path)"
      ]
    },
    {
      "cell_type": "code",
      "execution_count": 48,
      "metadata": {
        "colab": {
          "base_uri": "https://localhost:8080/"
        },
        "id": "PHlUaA1xj95i",
        "outputId": "4b680655-71c4-4fa6-e3f2-afefd9dc65ad"
      },
      "outputs": [
        {
          "output_type": "stream",
          "name": "stdout",
          "text": [
            "Generate  nCrowders\n",
            "nCrowders [ 9.         11.33928945 14.28660947 18.         22.6785789  28.57321894\n",
            " 36.        ]\n",
            "Wrote crowder_nCrowders.bash\n",
            "Generate  crowderRad\n",
            "crowderRad [ 5.          6.29960525  7.93700526 10.         12.5992105  15.87401052\n",
            " 20.        ]\n",
            "Wrote crowder_crowderRad.bash\n",
            "Generate  crowderAttr\n",
            "crowderAttr [0.05       0.06299605 0.07937005 0.1        0.1259921  0.15874011\n",
            " 0.2       ]\n",
            "Wrote crowder_crowderAttr.bash\n"
          ]
        }
      ],
      "source": [
        "for daKey in keys:\n",
        "    print(\"Generate \",daKey)\n",
        "    writeFile = crowders['outName']+\"_\"+daKey+\".bash\"\n",
        "    if daKey == 'nCrowders':\n",
        "      varItersList = [1,4,9,16,18]\n",
        "    elif daKey == 'crowderRad':\n",
        "      varItersList = [0.1,1,3,5,7,9,10]\n",
        "    wi.WriteIterativeYaml(crowders,daKey,varIter=varIter, varRuns=varRuns,\n",
        "                         writeFile=writeFile)"
      ]
    },
    {
      "cell_type": "code",
      "execution_count": null,
      "metadata": {
        "id": "fhhZydTdj95i",
        "outputId": "43e7d255-d5c6-4d73-b92e-a9eca1f3ce7e"
      },
      "outputs": [
        {
          "name": "stdout",
          "output_type": "stream",
          "text": [
            "Loaded /home/pkh-lab-shared/migration/231110/crowder_nCrowders9.000000_00.dcd\n"
          ]
        }
      ],
      "source": []
    },
    {
      "cell_type": "code",
      "execution_count": null,
      "metadata": {
        "id": "VEV6h6Q0j95i"
      },
      "outputs": [],
      "source": [
        "bp.processYamls(crowders['outName'],yamlNamePrefix=crowders['outName'],prefixOptions=keys)"
      ]
    },
    {
      "cell_type": "markdown",
      "metadata": {
        "id": "5EjsW503j95i"
      },
      "source": [
        "### +ATP"
      ]
    },
    {
      "cell_type": "code",
      "execution_count": 50,
      "metadata": {
        "colab": {
          "base_uri": "https://localhost:8080/"
        },
        "id": "UVi0u-LVj95i",
        "outputId": "44fc2fd1-ebcd-4e89-eaff-9683edf9b1fb"
      },
      "outputs": [
        {
          "output_type": "stream",
          "name": "stdout",
          "text": [
            "./\n"
          ]
        }
      ],
      "source": [
        "crowdersatp = daVars.copy()\n",
        "crowdersatp['outName']='crowder_atp'\n",
        "crowdersatp['xPotential']=True\n",
        "keys=['nCrowders','crowderRad','crowderAttr']\n",
        "print(wi.params.path)"
      ]
    },
    {
      "cell_type": "code",
      "execution_count": 51,
      "metadata": {
        "colab": {
          "base_uri": "https://localhost:8080/"
        },
        "id": "t5CEPNbGj95i",
        "outputId": "fe1b3b8f-0691-44c3-df25-8472d257d0ab"
      },
      "outputs": [
        {
          "output_type": "stream",
          "name": "stdout",
          "text": [
            "Generate  nCrowders\n",
            "nCrowders [ 9.         11.33928945 14.28660947 18.         22.6785789  28.57321894\n",
            " 36.        ]\n",
            "Wrote crowder_atp_nCrowders.bash\n",
            "Generate  crowderRad\n",
            "crowderRad [ 5.          6.29960525  7.93700526 10.         12.5992105  15.87401052\n",
            " 20.        ]\n",
            "Wrote crowder_atp_crowderRad.bash\n",
            "Generate  crowderAttr\n",
            "crowderAttr [0.05       0.06299605 0.07937005 0.1        0.1259921  0.15874011\n",
            " 0.2       ]\n",
            "Wrote crowder_atp_crowderAttr.bash\n"
          ]
        }
      ],
      "source": [
        "for daKey in keys:\n",
        "    print(\"Generate \",daKey)\n",
        "    writeFile = crowdersatp['outName']+\"_\"+daKey+\".bash\"\n",
        "    if daKey == 'nCrowders':\n",
        "      varItersList = [1,4,9,16,18]\n",
        "    elif daKey == 'crowderRad':\n",
        "      varItersList = [0.1,1,3,5,7,9,10]\n",
        "    wi.WriteIterativeYaml(crowdersatp,daKey,varIter=varIter, varRuns=varRuns,\n",
        "                         writeFile=writeFile)"
      ]
    },
    {
      "cell_type": "code",
      "execution_count": null,
      "metadata": {
        "id": "6ykopKvIj95i",
        "outputId": "6e341073-b7bc-4252-e6d4-794a72f35ea6"
      },
      "outputs": [
        {
          "name": "stdout",
          "output_type": "stream",
          "text": [
            "/home/pkh-lab-shared/migration/231110/crowder_atp_nCrowders4.500000_00.yaml\n",
            "/home/pkh-lab-shared/migration/231110//crowder_atp_nCrowders4.500000_00\n",
            "nCrowders 4.5\n",
            "Loaded /home/pkh-lab-shared/migration/231110//crowder_atp_nCrowders4.500000_00.dcd\n",
            "Di 0.021116 J -0.001001\n",
            "/home/pkh-lab-shared/migration/231110//crowder_atp_nCrowders4.500000_01\n",
            "nCrowders 4.5\n",
            "Loaded /home/pkh-lab-shared/migration/231110//crowder_atp_nCrowders4.500000_01.dcd\n",
            "Di 0.016905 J 0.001001\n",
            "/home/pkh-lab-shared/migration/231110//crowder_atp_nCrowders4.500000_02\n",
            "nCrowders 4.5\n",
            "Loaded /home/pkh-lab-shared/migration/231110//crowder_atp_nCrowders4.500000_02.dcd\n",
            "Di 0.013919 J -0.001001\n",
            "/home/pkh-lab-shared/migration/231110//crowder_atp_nCrowders4.500000_03\n",
            "nCrowders 4.5\n",
            "Loaded /home/pkh-lab-shared/migration/231110//crowder_atp_nCrowders4.500000_03.dcd\n"
          ]
        },
        {
          "name": "stderr",
          "output_type": "stream",
          "text": [
            "./paper/batchProcess.py:65: RuntimeWarning: divide by zero encountered in log\n"
          ]
        },
        {
          "name": "stdout",
          "output_type": "stream",
          "text": [
            "Di 0.017418 J 0.001001\n",
            "/home/pkh-lab-shared/migration/231110//crowder_atp_nCrowders4.500000_04\n",
            "nCrowders 4.5\n",
            "Loaded /home/pkh-lab-shared/migration/231110//crowder_atp_nCrowders4.500000_04.dcd\n",
            "Di 0.019076 J -0.003003\n",
            "/home/pkh-lab-shared/migration/231110//crowder_atp_nCrowders5.669645_00\n",
            "nCrowders 5.669644724526929\n",
            "Loaded /home/pkh-lab-shared/migration/231110//crowder_atp_nCrowders5.669645_00.dcd\n",
            "Di 0.017065 J 0.001001\n",
            "/home/pkh-lab-shared/migration/231110//crowder_atp_nCrowders5.669645_01\n",
            "nCrowders 5.669644724526929\n",
            "Loaded /home/pkh-lab-shared/migration/231110//crowder_atp_nCrowders5.669645_01.dcd\n",
            "Di 0.015231 J 0.000000\n",
            "/home/pkh-lab-shared/migration/231110//crowder_atp_nCrowders5.669645_02\n",
            "nCrowders 5.669644724526929\n",
            "Loaded /home/pkh-lab-shared/migration/231110//crowder_atp_nCrowders5.669645_02.dcd\n",
            "Di 0.017023 J 0.000000\n",
            "/home/pkh-lab-shared/migration/231110//crowder_atp_nCrowders5.669645_03\n",
            "nCrowders 5.669644724526929\n",
            "Loaded /home/pkh-lab-shared/migration/231110//crowder_atp_nCrowders5.669645_03.dcd\n",
            "Di 0.012878 J 0.000000\n",
            "/home/pkh-lab-shared/migration/231110//crowder_atp_nCrowders5.669645_04\n",
            "nCrowders 5.669644724526929\n",
            "Loaded /home/pkh-lab-shared/migration/231110//crowder_atp_nCrowders5.669645_04.dcd\n",
            "Di 0.015352 J 0.001001\n",
            "/home/pkh-lab-shared/migration/231110//crowder_atp_nCrowders7.143305_00\n",
            "nCrowders 7.143304733856898\n",
            "Loaded /home/pkh-lab-shared/migration/231110//crowder_atp_nCrowders7.143305_00.dcd\n",
            "Di 0.014425 J 0.000000\n",
            "/home/pkh-lab-shared/migration/231110//crowder_atp_nCrowders7.143305_01\n",
            "nCrowders 7.143304733856898\n",
            "Loaded /home/pkh-lab-shared/migration/231110//crowder_atp_nCrowders7.143305_01.dcd\n",
            "Di 0.016530 J 0.001001\n",
            "/home/pkh-lab-shared/migration/231110//crowder_atp_nCrowders7.143305_02\n",
            "nCrowders 7.143304733856898\n",
            "Loaded /home/pkh-lab-shared/migration/231110//crowder_atp_nCrowders7.143305_02.dcd\n",
            "Di 0.013405 J 0.000000\n",
            "/home/pkh-lab-shared/migration/231110//crowder_atp_nCrowders7.143305_03\n",
            "nCrowders 7.143304733856898\n",
            "Loaded /home/pkh-lab-shared/migration/231110//crowder_atp_nCrowders7.143305_03.dcd\n",
            "Di 0.019562 J 0.000000\n",
            "/home/pkh-lab-shared/migration/231110//crowder_atp_nCrowders7.143305_04\n",
            "nCrowders 7.143304733856898\n",
            "Loaded /home/pkh-lab-shared/migration/231110//crowder_atp_nCrowders7.143305_04.dcd\n",
            "Di 0.014390 J 0.000000\n",
            "/home/pkh-lab-shared/migration/231110//crowder_atp_nCrowders9.000000_00\n",
            "nCrowders 9.0\n",
            "Loaded /home/pkh-lab-shared/migration/231110//crowder_atp_nCrowders9.000000_00.dcd\n",
            "Di 0.017752 J -0.001001\n",
            "/home/pkh-lab-shared/migration/231110//crowder_atp_nCrowders9.000000_01\n",
            "nCrowders 9.0\n",
            "Loaded /home/pkh-lab-shared/migration/231110//crowder_atp_nCrowders9.000000_01.dcd\n",
            "Di 0.019042 J 0.000000\n",
            "/home/pkh-lab-shared/migration/231110//crowder_atp_nCrowders9.000000_02\n",
            "nCrowders 9.0\n",
            "Loaded /home/pkh-lab-shared/migration/231110//crowder_atp_nCrowders9.000000_02.dcd\n",
            "Di 0.016307 J 0.000000\n",
            "/home/pkh-lab-shared/migration/231110//crowder_atp_nCrowders9.000000_03\n",
            "nCrowders 9.0\n",
            "Loaded /home/pkh-lab-shared/migration/231110//crowder_atp_nCrowders9.000000_03.dcd\n",
            "Di 0.019716 J 0.000000\n",
            "/home/pkh-lab-shared/migration/231110//crowder_atp_nCrowders9.000000_04\n",
            "nCrowders 9.0\n",
            "Loaded /home/pkh-lab-shared/migration/231110//crowder_atp_nCrowders9.000000_04.dcd\n",
            "Di 0.018668 J 0.000000\n",
            "/home/pkh-lab-shared/migration/231110//crowder_atp_nCrowders11.339289_00\n",
            "nCrowders 11.339289449053858\n",
            "Loaded /home/pkh-lab-shared/migration/231110//crowder_atp_nCrowders11.339289_00.dcd\n",
            "Di 0.018991 J 0.000000\n",
            "/home/pkh-lab-shared/migration/231110//crowder_atp_nCrowders11.339289_01\n",
            "nCrowders 11.339289449053858\n",
            "Loaded /home/pkh-lab-shared/migration/231110//crowder_atp_nCrowders11.339289_01.dcd\n",
            "Di 0.017508 J 0.000000\n",
            "/home/pkh-lab-shared/migration/231110//crowder_atp_nCrowders11.339289_02\n",
            "nCrowders 11.339289449053858\n",
            "Loaded /home/pkh-lab-shared/migration/231110//crowder_atp_nCrowders11.339289_02.dcd\n",
            "Di 0.020757 J 0.001001\n",
            "/home/pkh-lab-shared/migration/231110//crowder_atp_nCrowders11.339289_03\n",
            "nCrowders 11.339289449053858\n",
            "Loaded /home/pkh-lab-shared/migration/231110//crowder_atp_nCrowders11.339289_03.dcd\n",
            "Di 0.017172 J 0.000000\n",
            "/home/pkh-lab-shared/migration/231110//crowder_atp_nCrowders11.339289_04\n",
            "nCrowders 11.339289449053858\n",
            "Loaded /home/pkh-lab-shared/migration/231110//crowder_atp_nCrowders11.339289_04.dcd\n",
            "Di 0.015805 J -0.001001\n",
            "/home/pkh-lab-shared/migration/231110//crowder_atp_nCrowders14.286609_00\n",
            "nCrowders 14.286609467713795\n",
            "Loaded /home/pkh-lab-shared/migration/231110//crowder_atp_nCrowders14.286609_00.dcd\n",
            "Di 0.014755 J 0.000000\n",
            "/home/pkh-lab-shared/migration/231110//crowder_atp_nCrowders14.286609_01\n",
            "nCrowders 14.286609467713795\n",
            "Loaded /home/pkh-lab-shared/migration/231110//crowder_atp_nCrowders14.286609_01.dcd\n",
            "Di 0.021317 J -0.001001\n",
            "/home/pkh-lab-shared/migration/231110//crowder_atp_nCrowders14.286609_02\n",
            "nCrowders 14.286609467713795\n",
            "Loaded /home/pkh-lab-shared/migration/231110//crowder_atp_nCrowders14.286609_02.dcd\n",
            "Di 0.015631 J -0.001001\n",
            "/home/pkh-lab-shared/migration/231110//crowder_atp_nCrowders14.286609_03\n",
            "nCrowders 14.286609467713795\n",
            "Loaded /home/pkh-lab-shared/migration/231110//crowder_atp_nCrowders14.286609_03.dcd\n",
            "Di 0.013138 J 0.001001\n",
            "/home/pkh-lab-shared/migration/231110//crowder_atp_nCrowders14.286609_04\n",
            "nCrowders 14.286609467713795\n",
            "Loaded /home/pkh-lab-shared/migration/231110//crowder_atp_nCrowders14.286609_04.dcd\n",
            "Di 0.015045 J 0.001001\n",
            "/home/pkh-lab-shared/migration/231110//crowder_atp_nCrowders18.000000_00\n",
            "nCrowders 18.0\n",
            "Loaded /home/pkh-lab-shared/migration/231110//crowder_atp_nCrowders18.000000_00.dcd\n",
            "Di 0.008938 J 0.001001\n",
            "/home/pkh-lab-shared/migration/231110//crowder_atp_nCrowders18.000000_01\n",
            "nCrowders 18.0\n",
            "Loaded /home/pkh-lab-shared/migration/231110//crowder_atp_nCrowders18.000000_01.dcd\n",
            "Di 0.011299 J -0.001001\n",
            "/home/pkh-lab-shared/migration/231110//crowder_atp_nCrowders18.000000_02\n",
            "nCrowders 18.0\n",
            "Loaded /home/pkh-lab-shared/migration/231110//crowder_atp_nCrowders18.000000_02.dcd\n",
            "Di 0.012334 J 0.000000\n",
            "/home/pkh-lab-shared/migration/231110//crowder_atp_nCrowders18.000000_03\n",
            "nCrowders 18.0\n",
            "Loaded /home/pkh-lab-shared/migration/231110//crowder_atp_nCrowders18.000000_03.dcd\n",
            "Di 0.013137 J -0.001001\n",
            "/home/pkh-lab-shared/migration/231110//crowder_atp_nCrowders18.000000_04\n",
            "nCrowders 18.0\n",
            "Loaded /home/pkh-lab-shared/migration/231110//crowder_atp_nCrowders18.000000_04.dcd\n",
            "Di 0.010435 J 0.000000\n",
            "/home/pkh-lab-shared/migration/231110//crowder_atp_crowderRad7.500000_00\n",
            "crowderRad 7.5\n",
            "Loaded /home/pkh-lab-shared/migration/231110//crowder_atp_crowderRad7.500000_00.dcd\n",
            "Di 0.021388 J 0.000000\n",
            "/home/pkh-lab-shared/migration/231110//crowder_atp_crowderRad7.500000_01\n",
            "crowderRad 7.5\n",
            "Loaded /home/pkh-lab-shared/migration/231110//crowder_atp_crowderRad7.500000_01.dcd\n",
            "Di 0.012150 J 0.000000\n",
            "/home/pkh-lab-shared/migration/231110//crowder_atp_crowderRad7.500000_02\n",
            "crowderRad 7.5\n",
            "Loaded /home/pkh-lab-shared/migration/231110//crowder_atp_crowderRad7.500000_02.dcd\n",
            "Di 0.017120 J 0.002002\n",
            "/home/pkh-lab-shared/migration/231110//crowder_atp_crowderRad7.500000_03\n",
            "crowderRad 7.5\n",
            "Loaded /home/pkh-lab-shared/migration/231110//crowder_atp_crowderRad7.500000_03.dcd\n",
            "Di 0.015691 J 0.001001\n",
            "/home/pkh-lab-shared/migration/231110//crowder_atp_crowderRad7.500000_04\n",
            "crowderRad 7.5\n",
            "Loaded /home/pkh-lab-shared/migration/231110//crowder_atp_crowderRad7.500000_04.dcd\n",
            "Di 0.015994 J -0.001001\n",
            "/home/pkh-lab-shared/migration/231110//crowder_atp_crowderRad9.449408_00\n",
            "crowderRad 9.449407874211548\n",
            "Loaded /home/pkh-lab-shared/migration/231110//crowder_atp_crowderRad9.449408_00.dcd\n",
            "Di 0.016635 J 0.000000\n",
            "/home/pkh-lab-shared/migration/231110//crowder_atp_crowderRad9.449408_01\n",
            "crowderRad 9.449407874211548\n",
            "Loaded /home/pkh-lab-shared/migration/231110//crowder_atp_crowderRad9.449408_01.dcd\n",
            "Di 0.015542 J 0.000000\n",
            "/home/pkh-lab-shared/migration/231110//crowder_atp_crowderRad9.449408_02\n",
            "crowderRad 9.449407874211548\n",
            "Loaded /home/pkh-lab-shared/migration/231110//crowder_atp_crowderRad9.449408_02.dcd\n",
            "Di 0.022581 J -0.001001\n",
            "/home/pkh-lab-shared/migration/231110//crowder_atp_crowderRad9.449408_03\n",
            "crowderRad 9.449407874211548\n",
            "Loaded /home/pkh-lab-shared/migration/231110//crowder_atp_crowderRad9.449408_03.dcd\n",
            "Di 0.014613 J -0.001001\n",
            "/home/pkh-lab-shared/migration/231110//crowder_atp_crowderRad9.449408_04\n",
            "crowderRad 9.449407874211548\n",
            "Loaded /home/pkh-lab-shared/migration/231110//crowder_atp_crowderRad9.449408_04.dcd\n",
            "Di 0.021247 J -0.001001\n",
            "/home/pkh-lab-shared/migration/231110//crowder_atp_crowderRad11.905508_00\n",
            "crowderRad 11.905507889761495\n",
            "Loaded /home/pkh-lab-shared/migration/231110//crowder_atp_crowderRad11.905508_00.dcd\n",
            "Di 0.023000 J -0.001001\n"
          ]
        },
        {
          "name": "stdout",
          "output_type": "stream",
          "text": [
            "/home/pkh-lab-shared/migration/231110//crowder_atp_crowderRad11.905508_01\n",
            "crowderRad 11.905507889761495\n",
            "Loaded /home/pkh-lab-shared/migration/231110//crowder_atp_crowderRad11.905508_01.dcd\n",
            "Di 0.013515 J 0.000000\n",
            "/home/pkh-lab-shared/migration/231110//crowder_atp_crowderRad11.905508_02\n",
            "crowderRad 11.905507889761495\n",
            "Loaded /home/pkh-lab-shared/migration/231110//crowder_atp_crowderRad11.905508_02.dcd\n",
            "Di 0.018482 J 0.000000\n",
            "/home/pkh-lab-shared/migration/231110//crowder_atp_crowderRad11.905508_03\n",
            "crowderRad 11.905507889761495\n",
            "Loaded /home/pkh-lab-shared/migration/231110//crowder_atp_crowderRad11.905508_03.dcd\n",
            "Di 0.014122 J 0.000000\n",
            "/home/pkh-lab-shared/migration/231110//crowder_atp_crowderRad11.905508_04\n",
            "crowderRad 11.905507889761495\n",
            "Loaded /home/pkh-lab-shared/migration/231110//crowder_atp_crowderRad11.905508_04.dcd\n",
            "Di 0.023730 J -0.002002\n",
            "/home/pkh-lab-shared/migration/231110//crowder_atp_crowderRad15.000000_00\n",
            "crowderRad 15.0\n",
            "Loaded /home/pkh-lab-shared/migration/231110//crowder_atp_crowderRad15.000000_00.dcd\n",
            "Di 0.012465 J 0.000000\n",
            "/home/pkh-lab-shared/migration/231110//crowder_atp_crowderRad15.000000_01\n",
            "crowderRad 15.0\n",
            "Loaded /home/pkh-lab-shared/migration/231110//crowder_atp_crowderRad15.000000_01.dcd\n",
            "Di 0.018838 J 0.001001\n",
            "/home/pkh-lab-shared/migration/231110//crowder_atp_crowderRad15.000000_02\n",
            "crowderRad 15.0\n",
            "Loaded /home/pkh-lab-shared/migration/231110//crowder_atp_crowderRad15.000000_02.dcd\n",
            "Di 0.015603 J 0.000000\n",
            "/home/pkh-lab-shared/migration/231110//crowder_atp_crowderRad15.000000_03\n",
            "crowderRad 15.0\n",
            "Loaded /home/pkh-lab-shared/migration/231110//crowder_atp_crowderRad15.000000_03.dcd\n",
            "Di 0.017566 J 0.000000\n",
            "/home/pkh-lab-shared/migration/231110//crowder_atp_crowderRad15.000000_04\n",
            "crowderRad 15.0\n",
            "Loaded /home/pkh-lab-shared/migration/231110//crowder_atp_crowderRad15.000000_04.dcd\n",
            "Di 0.020325 J 0.000000\n",
            "/home/pkh-lab-shared/migration/231110//crowder_atp_crowderRad18.898816_00\n",
            "crowderRad 18.898815748423097\n",
            "Loaded /home/pkh-lab-shared/migration/231110//crowder_atp_crowderRad18.898816_00.dcd\n",
            "Di 0.011110 J 0.000000\n",
            "/home/pkh-lab-shared/migration/231110//crowder_atp_crowderRad18.898816_01\n",
            "crowderRad 18.898815748423097\n",
            "Loaded /home/pkh-lab-shared/migration/231110//crowder_atp_crowderRad18.898816_01.dcd\n",
            "Di 0.014023 J 0.001001\n",
            "/home/pkh-lab-shared/migration/231110//crowder_atp_crowderRad18.898816_02\n",
            "crowderRad 18.898815748423097\n",
            "Loaded /home/pkh-lab-shared/migration/231110//crowder_atp_crowderRad18.898816_02.dcd\n",
            "Di 0.014895 J -0.001001\n",
            "/home/pkh-lab-shared/migration/231110//crowder_atp_crowderRad18.898816_03\n",
            "crowderRad 18.898815748423097\n",
            "Loaded /home/pkh-lab-shared/migration/231110//crowder_atp_crowderRad18.898816_03.dcd\n",
            "Di 0.020684 J 0.000000\n",
            "/home/pkh-lab-shared/migration/231110//crowder_atp_crowderRad18.898816_04\n",
            "crowderRad 18.898815748423097\n",
            "Loaded /home/pkh-lab-shared/migration/231110//crowder_atp_crowderRad18.898816_04.dcd\n",
            "Di 0.023671 J 0.000000\n",
            "/home/pkh-lab-shared/migration/231110//crowder_atp_crowderRad23.811016_00\n",
            "crowderRad 23.81101577952299\n",
            "Loaded /home/pkh-lab-shared/migration/231110//crowder_atp_crowderRad23.811016_00.dcd\n",
            "Di 0.015427 J 0.000000\n",
            "/home/pkh-lab-shared/migration/231110//crowder_atp_crowderRad23.811016_01\n",
            "crowderRad 23.81101577952299\n",
            "Loaded /home/pkh-lab-shared/migration/231110//crowder_atp_crowderRad23.811016_01.dcd\n",
            "Di 0.012938 J 0.000000\n",
            "/home/pkh-lab-shared/migration/231110//crowder_atp_crowderRad23.811016_02\n",
            "crowderRad 23.81101577952299\n",
            "Loaded /home/pkh-lab-shared/migration/231110//crowder_atp_crowderRad23.811016_02.dcd\n",
            "Di 0.016787 J 0.000000\n",
            "/home/pkh-lab-shared/migration/231110//crowder_atp_crowderRad23.811016_03\n",
            "crowderRad 23.81101577952299\n",
            "Loaded /home/pkh-lab-shared/migration/231110//crowder_atp_crowderRad23.811016_03.dcd\n",
            "Di 0.016616 J 0.000000\n",
            "/home/pkh-lab-shared/migration/231110//crowder_atp_crowderRad23.811016_04\n",
            "crowderRad 23.81101577952299\n",
            "Loaded /home/pkh-lab-shared/migration/231110//crowder_atp_crowderRad23.811016_04.dcd\n",
            "Di 0.017305 J 0.001001\n",
            "/home/pkh-lab-shared/migration/231110//crowder_atp_crowderRad30.000000_00\n",
            "crowderRad 30.0\n",
            "Loaded /home/pkh-lab-shared/migration/231110//crowder_atp_crowderRad30.000000_00.dcd\n",
            "Di 0.017875 J 0.000000\n",
            "/home/pkh-lab-shared/migration/231110//crowder_atp_crowderRad30.000000_01\n",
            "crowderRad 30.0\n",
            "Loaded /home/pkh-lab-shared/migration/231110//crowder_atp_crowderRad30.000000_01.dcd\n",
            "Di 0.016966 J 0.000000\n",
            "/home/pkh-lab-shared/migration/231110//crowder_atp_crowderRad30.000000_02\n",
            "crowderRad 30.0\n",
            "Loaded /home/pkh-lab-shared/migration/231110//crowder_atp_crowderRad30.000000_02.dcd\n",
            "Di 0.015406 J 0.000000\n",
            "/home/pkh-lab-shared/migration/231110//crowder_atp_crowderRad30.000000_03\n",
            "crowderRad 30.0\n",
            "Loaded /home/pkh-lab-shared/migration/231110//crowder_atp_crowderRad30.000000_03.dcd\n",
            "Di 0.019019 J -0.002002\n",
            "/home/pkh-lab-shared/migration/231110//crowder_atp_crowderRad30.000000_04\n",
            "crowderRad 30.0\n",
            "Loaded /home/pkh-lab-shared/migration/231110//crowder_atp_crowderRad30.000000_04.dcd\n",
            "Di 0.015221 J -0.001001\n",
            "/home/pkh-lab-shared/migration/231110//crowder_atp_crowderAttr0.500000_00\n",
            "crowderAttr 0.5\n",
            "Loaded /home/pkh-lab-shared/migration/231110//crowder_atp_crowderAttr0.500000_00.dcd\n",
            "Di 0.009629 J 0.000000\n",
            "/home/pkh-lab-shared/migration/231110//crowder_atp_crowderAttr0.500000_01\n",
            "crowderAttr 0.5\n",
            "Loaded /home/pkh-lab-shared/migration/231110//crowder_atp_crowderAttr0.500000_01.dcd\n",
            "Di 0.015339 J 0.000000\n",
            "/home/pkh-lab-shared/migration/231110//crowder_atp_crowderAttr0.500000_02\n",
            "crowderAttr 0.5\n",
            "Loaded /home/pkh-lab-shared/migration/231110//crowder_atp_crowderAttr0.500000_02.dcd\n",
            "Di 0.014298 J -0.001001\n",
            "/home/pkh-lab-shared/migration/231110//crowder_atp_crowderAttr0.500000_03\n",
            "crowderAttr 0.5\n",
            "Loaded /home/pkh-lab-shared/migration/231110//crowder_atp_crowderAttr0.500000_03.dcd\n",
            "Di 0.019287 J 0.002002\n",
            "/home/pkh-lab-shared/migration/231110//crowder_atp_crowderAttr0.500000_04\n",
            "crowderAttr 0.5\n",
            "Loaded /home/pkh-lab-shared/migration/231110//crowder_atp_crowderAttr0.500000_04.dcd\n",
            "Di 0.009152 J 0.001001\n",
            "/home/pkh-lab-shared/migration/231110//crowder_atp_crowderAttr0.629961_00\n",
            "crowderAttr 0.6299605249474366\n",
            "Loaded /home/pkh-lab-shared/migration/231110//crowder_atp_crowderAttr0.629961_00.dcd\n",
            "Di 0.017961 J -0.001001\n",
            "/home/pkh-lab-shared/migration/231110//crowder_atp_crowderAttr0.629961_01\n",
            "crowderAttr 0.6299605249474366\n",
            "Loaded /home/pkh-lab-shared/migration/231110//crowder_atp_crowderAttr0.629961_01.dcd\n",
            "Di 0.018661 J 0.002002\n",
            "/home/pkh-lab-shared/migration/231110//crowder_atp_crowderAttr0.629961_02\n",
            "crowderAttr 0.6299605249474366\n",
            "Loaded /home/pkh-lab-shared/migration/231110//crowder_atp_crowderAttr0.629961_02.dcd\n",
            "Di 0.017896 J 0.001001\n",
            "/home/pkh-lab-shared/migration/231110//crowder_atp_crowderAttr0.629961_03\n",
            "crowderAttr 0.6299605249474366\n",
            "Loaded /home/pkh-lab-shared/migration/231110//crowder_atp_crowderAttr0.629961_03.dcd\n",
            "Di 0.017306 J 0.001001\n",
            "/home/pkh-lab-shared/migration/231110//crowder_atp_crowderAttr0.629961_04\n",
            "crowderAttr 0.6299605249474366\n",
            "Loaded /home/pkh-lab-shared/migration/231110//crowder_atp_crowderAttr0.629961_04.dcd\n",
            "Di 0.022497 J -0.002002\n",
            "/home/pkh-lab-shared/migration/231110//crowder_atp_crowderAttr0.793701_00\n",
            "crowderAttr 0.7937005259840997\n",
            "Loaded /home/pkh-lab-shared/migration/231110//crowder_atp_crowderAttr0.793701_00.dcd\n",
            "Di 0.018024 J 0.000000\n",
            "/home/pkh-lab-shared/migration/231110//crowder_atp_crowderAttr0.793701_01\n",
            "crowderAttr 0.7937005259840997\n",
            "Loaded /home/pkh-lab-shared/migration/231110//crowder_atp_crowderAttr0.793701_01.dcd\n",
            "Di 0.010643 J 0.000000\n",
            "/home/pkh-lab-shared/migration/231110//crowder_atp_crowderAttr0.793701_02\n",
            "crowderAttr 0.7937005259840997\n",
            "Loaded /home/pkh-lab-shared/migration/231110//crowder_atp_crowderAttr0.793701_02.dcd\n",
            "Di 0.017874 J 0.000000\n",
            "/home/pkh-lab-shared/migration/231110//crowder_atp_crowderAttr0.793701_03\n",
            "crowderAttr 0.7937005259840997\n",
            "Loaded /home/pkh-lab-shared/migration/231110//crowder_atp_crowderAttr0.793701_03.dcd\n",
            "Di 0.012381 J 0.000000\n",
            "/home/pkh-lab-shared/migration/231110//crowder_atp_crowderAttr0.793701_04\n",
            "crowderAttr 0.7937005259840997\n",
            "Loaded /home/pkh-lab-shared/migration/231110//crowder_atp_crowderAttr0.793701_04.dcd\n",
            "Di 0.023186 J 0.001001\n",
            "/home/pkh-lab-shared/migration/231110//crowder_atp_crowderAttr1.000000_00\n",
            "crowderAttr 1.0\n",
            "Loaded /home/pkh-lab-shared/migration/231110//crowder_atp_crowderAttr1.000000_00.dcd\n",
            "Di 0.015012 J 0.000000\n",
            "/home/pkh-lab-shared/migration/231110//crowder_atp_crowderAttr1.000000_01\n",
            "crowderAttr 1.0\n",
            "Loaded /home/pkh-lab-shared/migration/231110//crowder_atp_crowderAttr1.000000_01.dcd\n",
            "Di 0.015148 J 0.001001\n",
            "/home/pkh-lab-shared/migration/231110//crowder_atp_crowderAttr1.000000_02\n",
            "crowderAttr 1.0\n",
            "Loaded /home/pkh-lab-shared/migration/231110//crowder_atp_crowderAttr1.000000_02.dcd\n",
            "Di 0.012947 J -0.001001\n"
          ]
        },
        {
          "name": "stdout",
          "output_type": "stream",
          "text": [
            "/home/pkh-lab-shared/migration/231110//crowder_atp_crowderAttr1.000000_03\n",
            "crowderAttr 1.0\n",
            "Loaded /home/pkh-lab-shared/migration/231110//crowder_atp_crowderAttr1.000000_03.dcd\n",
            "Di 0.016157 J -0.001001\n",
            "/home/pkh-lab-shared/migration/231110//crowder_atp_crowderAttr1.000000_04\n",
            "crowderAttr 1.0\n",
            "Loaded /home/pkh-lab-shared/migration/231110//crowder_atp_crowderAttr1.000000_04.dcd\n",
            "Di 0.019997 J -0.001001\n",
            "/home/pkh-lab-shared/migration/231110//crowder_atp_crowderAttr1.259921_00\n",
            "crowderAttr 1.2599210498948732\n",
            "Loaded /home/pkh-lab-shared/migration/231110//crowder_atp_crowderAttr1.259921_00.dcd\n",
            "Di 0.010710 J 0.000000\n",
            "/home/pkh-lab-shared/migration/231110//crowder_atp_crowderAttr1.259921_01\n",
            "crowderAttr 1.2599210498948732\n",
            "Loaded /home/pkh-lab-shared/migration/231110//crowder_atp_crowderAttr1.259921_01.dcd\n",
            "Di 0.017527 J 0.000000\n",
            "/home/pkh-lab-shared/migration/231110//crowder_atp_crowderAttr1.259921_02\n",
            "crowderAttr 1.2599210498948732\n",
            "Loaded /home/pkh-lab-shared/migration/231110//crowder_atp_crowderAttr1.259921_02.dcd\n",
            "Di 0.020852 J 0.000000\n",
            "/home/pkh-lab-shared/migration/231110//crowder_atp_crowderAttr1.259921_03\n",
            "crowderAttr 1.2599210498948732\n",
            "Loaded /home/pkh-lab-shared/migration/231110//crowder_atp_crowderAttr1.259921_03.dcd\n",
            "Di 0.015610 J 0.000000\n",
            "/home/pkh-lab-shared/migration/231110//crowder_atp_crowderAttr1.259921_04\n",
            "crowderAttr 1.2599210498948732\n",
            "Loaded /home/pkh-lab-shared/migration/231110//crowder_atp_crowderAttr1.259921_04.dcd\n",
            "Di 0.013360 J 0.000000\n",
            "/home/pkh-lab-shared/migration/231110//crowder_atp_crowderAttr1.587401_00\n",
            "crowderAttr 1.5874010519681994\n",
            "Loaded /home/pkh-lab-shared/migration/231110//crowder_atp_crowderAttr1.587401_00.dcd\n",
            "Di 0.015995 J 0.000000\n",
            "/home/pkh-lab-shared/migration/231110//crowder_atp_crowderAttr1.587401_01\n",
            "crowderAttr 1.5874010519681994\n",
            "Loaded /home/pkh-lab-shared/migration/231110//crowder_atp_crowderAttr1.587401_01.dcd\n",
            "Di 0.016022 J 0.001001\n",
            "/home/pkh-lab-shared/migration/231110//crowder_atp_crowderAttr1.587401_02\n",
            "crowderAttr 1.5874010519681994\n",
            "Loaded /home/pkh-lab-shared/migration/231110//crowder_atp_crowderAttr1.587401_02.dcd\n",
            "Di 0.010478 J -0.001001\n",
            "/home/pkh-lab-shared/migration/231110//crowder_atp_crowderAttr1.587401_03\n",
            "crowderAttr 1.5874010519681994\n",
            "Loaded /home/pkh-lab-shared/migration/231110//crowder_atp_crowderAttr1.587401_03.dcd\n",
            "Di 0.018516 J 0.000000\n",
            "/home/pkh-lab-shared/migration/231110//crowder_atp_crowderAttr1.587401_04\n",
            "crowderAttr 1.5874010519681994\n",
            "Loaded /home/pkh-lab-shared/migration/231110//crowder_atp_crowderAttr1.587401_04.dcd\n",
            "Di 0.011010 J 0.000000\n",
            "/home/pkh-lab-shared/migration/231110//crowder_atp_crowderAttr2.000000_00\n",
            "crowderAttr 2.0\n",
            "Loaded /home/pkh-lab-shared/migration/231110//crowder_atp_crowderAttr2.000000_00.dcd\n",
            "Di 0.016199 J 0.000000\n",
            "/home/pkh-lab-shared/migration/231110//crowder_atp_crowderAttr2.000000_01\n",
            "crowderAttr 2.0\n",
            "Loaded /home/pkh-lab-shared/migration/231110//crowder_atp_crowderAttr2.000000_01.dcd\n",
            "Di 0.015004 J 0.000000\n",
            "/home/pkh-lab-shared/migration/231110//crowder_atp_crowderAttr2.000000_02\n",
            "crowderAttr 2.0\n",
            "Loaded /home/pkh-lab-shared/migration/231110//crowder_atp_crowderAttr2.000000_02.dcd\n",
            "Di 0.014588 J 0.001001\n",
            "/home/pkh-lab-shared/migration/231110//crowder_atp_crowderAttr2.000000_03\n",
            "crowderAttr 2.0\n",
            "Loaded /home/pkh-lab-shared/migration/231110//crowder_atp_crowderAttr2.000000_03.dcd\n",
            "Di 0.018983 J 0.000000\n",
            "/home/pkh-lab-shared/migration/231110//crowder_atp_crowderAttr2.000000_04\n",
            "crowderAttr 2.0\n",
            "Loaded /home/pkh-lab-shared/migration/231110//crowder_atp_crowderAttr2.000000_04.dcd\n",
            "Di 0.013693 J 0.000000\n",
            "                                              trajName          tag  condVal  \\\n",
            "0    /home/pkh-lab-shared/migration/231110//crowder...    nCrowders      4.5   \n",
            "1    /home/pkh-lab-shared/migration/231110//crowder...    nCrowders      4.5   \n",
            "2    /home/pkh-lab-shared/migration/231110//crowder...    nCrowders      4.5   \n",
            "3    /home/pkh-lab-shared/migration/231110//crowder...    nCrowders      4.5   \n",
            "4    /home/pkh-lab-shared/migration/231110//crowder...    nCrowders      4.5   \n",
            "..                                                 ...          ...      ...   \n",
            "100  /home/pkh-lab-shared/migration/231110//crowder...  crowderAttr      2.0   \n",
            "101  /home/pkh-lab-shared/migration/231110//crowder...  crowderAttr      2.0   \n",
            "102  /home/pkh-lab-shared/migration/231110//crowder...  crowderAttr      2.0   \n",
            "103  /home/pkh-lab-shared/migration/231110//crowder...  crowderAttr      2.0   \n",
            "104  /home/pkh-lab-shared/migration/231110//crowder...  crowderAttr      2.0   \n",
            "\n",
            "            D    flux*A  Vol Frac  \n",
            "0    0.021116 -0.001001  0.681914  \n",
            "1    0.016905  0.001001  0.681914  \n",
            "2    0.013919 -0.001001  0.681914  \n",
            "3    0.017418  0.001001  0.681914  \n",
            "4    0.019076 -0.003003  0.681914  \n",
            "..        ...       ...       ...  \n",
            "100  0.016199  0.000000  0.363827  \n",
            "101  0.015004  0.000000  0.363827  \n",
            "102  0.014588  0.001001  0.363827  \n",
            "103  0.018983  0.000000  0.363827  \n",
            "104  0.013693  0.000000  0.363827  \n",
            "\n",
            "[105 rows x 6 columns]\n",
            "printed /home/pkh-lab-shared/migration/231110/crowder_atp.csv\n"
          ]
        }
      ],
      "source": [
        "bp.processYamls(crowdersatp['outName'],yamlNamePrefix=crowdersatp['outName'],prefixOptions=keys)"
      ]
    },
    {
      "cell_type": "markdown",
      "metadata": {
        "id": "W_B2XCl3j95i"
      },
      "source": [
        "## Other testing"
      ]
    },
    {
      "cell_type": "code",
      "execution_count": null,
      "metadata": {
        "id": "3LiAQqU8j95i"
      },
      "outputs": [],
      "source": []
    }
  ],
  "metadata": {
    "kernelspec": {
      "display_name": "Python 3",
      "language": "python",
      "name": "python3"
    },
    "language_info": {
      "codemirror_mode": {
        "name": "ipython",
        "version": 3
      },
      "file_extension": ".py",
      "mimetype": "text/x-python",
      "name": "python",
      "nbconvert_exporter": "python",
      "pygments_lexer": "ipython3",
      "version": "3.8.3"
    },
    "colab": {
      "provenance": [],
      "include_colab_link": true
    }
  },
  "nbformat": 4,
  "nbformat_minor": 0
}