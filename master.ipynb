{
  "cells": [
    {
      "cell_type": "markdown",
      "metadata": {
        "id": "view-in-github",
        "colab_type": "text"
      },
      "source": [
        "<a href=\"https://colab.research.google.com/github/huskeypm/cellmigration/blob/main/master.ipynb\" target=\"_parent\"><img src=\"https://colab.research.google.com/assets/colab-badge.svg\" alt=\"Open In Colab\"/></a>"
      ]
    },
    {
      "cell_type": "markdown",
      "metadata": {
        "id": "Cd3hIYm7j95e"
      },
      "source": [
        "# master\n",
        "Workhorse for generating and executing jobs in support of migration paper.\n",
        "\n",
        "\n",
        "\n",
        "\n"
      ]
    },
    {
      "cell_type": "code",
      "execution_count": 1,
      "metadata": {
        "id": "t-dl66Y8j95f"
      },
      "outputs": [],
      "source": [
        "%load_ext autoreload\n",
        "%autoreload 2"
      ]
    },
    {
      "cell_type": "code",
      "source": [
        "!git clone https://github.com/huskeypm/cellmigration\n",
        "#!cd cellmigration; git pull"
      ],
      "metadata": {
        "colab": {
          "base_uri": "https://localhost:8080/"
        },
        "id": "UlsR7HREkE2b",
        "outputId": "5dd9f5bb-07fd-476c-88a0-8826c93d6e42"
      },
      "execution_count": 2,
      "outputs": [
        {
          "output_type": "stream",
          "name": "stdout",
          "text": [
            "Cloning into 'cellmigration'...\n",
            "remote: Enumerating objects: 766, done.\u001b[K\n",
            "remote: Counting objects: 100% (256/256), done.\u001b[K\n",
            "remote: Compressing objects: 100% (185/185), done.\u001b[K\n",
            "remote: Total 766 (delta 154), reused 134 (delta 71), pack-reused 510\u001b[K\n",
            "Receiving objects: 100% (766/766), 11.31 MiB | 17.08 MiB/s, done.\n",
            "Resolving deltas: 100% (491/491), done.\n"
          ]
        }
      ]
    },
    {
      "cell_type": "code",
      "source": [
        "import sys\n",
        "sys.path.append(\"/content/cellmigration/\")\n",
        "\n",
        "\n",
        "from google.colab import drive\n",
        "gDrive='/content/drive/'\n",
        "drive.mount(gDrive)\n",
        "gDrive += \"MyDrive/temp/231212\"\n",
        "\n",
        "\n"
      ],
      "metadata": {
        "id": "809Tt7izkLmx",
        "outputId": "369eeb0e-22ef-4be8-ffbd-579b79c1a2fb",
        "colab": {
          "base_uri": "https://localhost:8080/"
        }
      },
      "execution_count": 3,
      "outputs": [
        {
          "output_type": "stream",
          "name": "stdout",
          "text": [
            "Mounted at /content/drive/\n"
          ]
        }
      ]
    },
    {
      "cell_type": "code",
      "source": [],
      "metadata": {
        "id": "vRU0z1lGkYYO"
      },
      "execution_count": null,
      "outputs": []
    },
    {
      "cell_type": "code",
      "execution_count": 4,
      "metadata": {
        "scrolled": true,
        "colab": {
          "base_uri": "https://localhost:8080/"
        },
        "id": "nLCebyg8j95g",
        "outputId": "4fc31ad6-c36a-4494-b350-367699864734"
      },
      "outputs": [
        {
          "output_type": "stream",
          "name": "stdout",
          "text": [
            "$EXEC \n",
            "/content/drive/MyDrive/temp/231212\n"
          ]
        }
      ],
      "source": [
        "import yaml\n",
        "import sys\n",
        "\n",
        "sys.path.append('/content/cellmigration/paper/')\n",
        "import writeInputs as wi\n",
        "#import batchProcess as bp\n",
        "#outDir = \"/home/pkh-lab-shared/migration/231110/\"\n",
        "outDir = \"/home/pkekeneshuskey/data/231212/\"\n",
        "outDir = gDrive\n",
        "# FOR LOCAL\n",
        "cmd = \"python3 brownian_v3.py -yamlFile \" # if local\n",
        "\n",
        "# FOR FAUST/W\n",
        "cmd='$EXEC ' # if remote host\n",
        "\n",
        "wi.params = wi.Params(\n",
        "    cmd=cmd,\n",
        "    path=outDir\n",
        ")\n",
        "\n",
        "print(wi.params.cmd)\n",
        "print(wi.params.path)\n",
        "\n",
        "varIter = 7 # keys\n",
        "varRuns = 5 # replicates per run\n",
        "\n"
      ]
    },
    {
      "cell_type": "markdown",
      "metadata": {
        "id": "zK56qkX8j95g"
      },
      "source": [
        "The idea of the reference file is to have a complete system that toggled - for instance, we have a case that is tuned for ATP application, but we can set the ATP concentration to zero to emulate a ATP-free condition. Also want values that are intermediate, so when we vary them by 50%-200%, we get reasonable numbers"
      ]
    },
    {
      "cell_type": "code",
      "execution_count": 5,
      "metadata": {
        "id": "xPv_JtxQj95g"
      },
      "outputs": [],
      "source": [
        "referenceFile=\"cellmigration/paper/template_full.yaml\"\n",
        "with open(referenceFile, 'r') as file:\n",
        "     daVars = yaml.safe_load(file)"
      ]
    },
    {
      "cell_type": "markdown",
      "metadata": {
        "id": "nGKnK-LGj95g"
      },
      "source": [
        "## crowder free case\n",
        "### No ATP\n",
        "Can copy/paste into file to run\n"
      ]
    },
    {
      "cell_type": "code",
      "execution_count": 9,
      "metadata": {
        "id": "LV9Pd5H_j95h"
      },
      "outputs": [],
      "source": [
        "nocrowders = daVars.copy()\n",
        "nocrowders['nCrowders']=1\n",
        "nocrowders['crowderRad']=0.1\n",
        "nocrowders['outName']='nocrowder'\n",
        "keys=['nCells','cellRad','cellAttr']\n",
        "keys=['cellAttr']\n",
        "\n",
        "#nocrowders"
      ]
    },
    {
      "cell_type": "code",
      "source": [
        "nocrowders_nocontainment = nocrowders.copy()\n",
        "nocrowders_nocontainment['containmentPotential']=False\n",
        "nocrowders_nocontainment['nUpdates']=10000\n",
        "nocrowders_nocontainment['absorbingBoundary']=False\n",
        "nocrowders_nocontainment['xPotential']=True\n",
        "nocrowders_nocontainment['outName']= 'nocrowder_nocontainment'\n",
        "key=['xScale']\n",
        "varItersList = [0] # only one conc. makes sense ,1.,2.,3.,4.,5.,6.,7.]\n",
        "\n",
        "daKey = key[0]\n",
        "print(\"Generate \",daKey)\n",
        "writeFile = nocrowders_nocontainment['outName']+\"_\"+daKey+\".bash\"\n",
        "wi.WriteIterativeYaml(nocrowders_nocontainment,daKey,varIter=varItersList, varRuns=varRuns,\n",
        "                      writeFile=writeFile)"
      ],
      "metadata": {
        "colab": {
          "base_uri": "https://localhost:8080/"
        },
        "id": "3SBEDGHVk0A_",
        "outputId": "d444a8e1-cdc6-4d53-f5fe-542fd012b5ea"
      },
      "execution_count": 10,
      "outputs": [
        {
          "output_type": "stream",
          "name": "stdout",
          "text": [
            "Generate  xScale\n",
            "Wrote nocrowder_nocontainment_xScale.bash\n"
          ]
        }
      ]
    },
    {
      "cell_type": "code",
      "execution_count": 11,
      "metadata": {
        "colab": {
          "base_uri": "https://localhost:8080/"
        },
        "id": "caQdxYxYj95h",
        "outputId": "32c1bcf7-22c4-47c5-facc-739b278d05c5"
      },
      "outputs": [
        {
          "output_type": "stream",
          "name": "stdout",
          "text": [
            "Generate  cellAttr\n",
            "Wrote nocrowder_cellAttr.bash\n"
          ]
        }
      ],
      "source": [
        "\n",
        "####### cellAttr ----> particleAttr\n",
        "for daKey in keys:\n",
        "    print(\"Generate \",daKey)\n",
        "    if \"nCells\" in daKey:\n",
        "      varItersList = [30,40,50,60,70,80,90]\n",
        "    elif \"cellAttr\" in daKey:\n",
        "      varItersList = [0.5, 0.75 , 1.0, 2.5, 5.0]\n",
        "    else:\n",
        "      varItersList = varIter\n",
        "    writeFile = nocrowders['outName']+\"_\"+daKey+\".bash\"\n",
        "    wi.WriteIterativeYaml(nocrowders,daKey,varIter=varItersList, varRuns=varRuns,\n",
        "                         writeFile=writeFile)\n"
      ]
    },
    {
      "cell_type": "code",
      "execution_count": null,
      "metadata": {
        "id": "3zGl80-6j95h"
      },
      "outputs": [],
      "source": [
        "# generally too slow to run in notebook\n",
        "#bp.processYamls(nocrowders['outName'],yamlNamePrefix=nocrowders['outName'],prefixOptions=keys,\n",
        "#               display=False)"
      ]
    },
    {
      "cell_type": "markdown",
      "metadata": {
        "id": "RdeHpAqfj95h"
      },
      "source": [
        "### + ATP\n",
        "\n"
      ]
    },
    {
      "cell_type": "code",
      "execution_count": 17,
      "metadata": {
        "colab": {
          "base_uri": "https://localhost:8080/"
        },
        "id": "unA80tJYj95h",
        "outputId": "7d3889d3-06a7-484a-a232-5036b5ad884d"
      },
      "outputs": [
        {
          "output_type": "stream",
          "name": "stdout",
          "text": [
            "/content/drive/MyDrive/temp/231212\n"
          ]
        }
      ],
      "source": [
        "nocrowdersatp = daVars.copy()\n",
        "nocrowdersatp['nCrowders']=1\n",
        "nocrowdersatp['crowderRad']=0.1\n",
        "nocrowdersatp['outName']='nocrowder_atp'\n",
        "nocrowdersatp['xPotential']=True\n",
        "nocrowdersatp['yPotential']=True  # default yScale should be 0\n",
        "keys=['nCells','cellRad','cellAttr','xScale','yScale']\n",
        "keys=['cellAttr','xScale','yScale']\n",
        "print(wi.params.path)"
      ]
    },
    {
      "cell_type": "code",
      "execution_count": 18,
      "metadata": {
        "colab": {
          "base_uri": "https://localhost:8080/"
        },
        "id": "-6n8O9evj95h",
        "outputId": "200e8ae0-c4f8-4035-b2bf-3358ad97b10d"
      },
      "outputs": [
        {
          "output_type": "stream",
          "name": "stdout",
          "text": [
            "Generate  cellAttr\n",
            "Wrote nocrowder_atp_cellAttr.bash\n",
            "Generate  xScale\n",
            "Wrote nocrowder_atp_xScale.bash\n",
            "Generate  yScale\n",
            "Wrote nocrowder_atp_yScale.bash\n"
          ]
        }
      ],
      "source": [
        "\n",
        "\n",
        "for daKey in keys:\n",
        "    print(\"Generate \",daKey)\n",
        "    if \"nCells\" in daKey:\n",
        "      varItersList = [30,40,50,60,70,80,90]\n",
        "    elif \"cellAttr\" in daKey:\n",
        "      varItersList = [0.5, 0.75 , 1.0, 2.5, 5.0]\n",
        "    elif \"xScale\" in daKey:\n",
        "      #varItersList = [0,1.,2.,3.,4.,5.,6.,7.]\n",
        "      varItersList = [ 10.,25.,50.,75.,100.]\n",
        "    elif \"yScale\" in daKey:\n",
        "      #varItersList = [0,1.,2.,3.,4.,5.,6.,7.]\n",
        "      varItersList = [-5, 10.,25.,50.,75.,100.]\n",
        "    else:\n",
        "      varItersList = varIter\n",
        "    writeFile = nocrowdersatp['outName']+\"_\"+daKey+\".bash\"\n",
        "    wi.WriteIterativeYaml(nocrowdersatp,daKey,varIter=varItersList, varRuns=varRuns,\n",
        "                         writeFile=writeFile)\n",
        "\n"
      ]
    },
    {
      "cell_type": "code",
      "execution_count": null,
      "metadata": {
        "id": "aLUe3QMHj95h"
      },
      "outputs": [],
      "source": [
        "#bp.processYamls(nocrowdersatp['outName'],\n",
        "#                yamlNamePrefix=nocrowdersatp['outName'],prefixOptions=keys,\n",
        "#                display=False\n",
        "#               )"
      ]
    },
    {
      "cell_type": "markdown",
      "metadata": {
        "id": "8cZXE3hTj95i"
      },
      "source": [
        "## crowder  case\n",
        "### No ATP"
      ]
    },
    {
      "cell_type": "code",
      "execution_count": 21,
      "metadata": {
        "colab": {
          "base_uri": "https://localhost:8080/"
        },
        "id": "85iH6QKQj95i",
        "outputId": "449a7ccb-6743-40c0-a35e-5cb790dfe36b"
      },
      "outputs": [
        {
          "output_type": "stream",
          "name": "stdout",
          "text": [
            "/content/drive/MyDrive/temp/231212\n"
          ]
        }
      ],
      "source": [
        "crowders = daVars.copy()\n",
        "crowders['outName']='crowder'\n",
        "#keys=['nCrowders','crowderRad','crowderAttr']\n",
        "keys=['crowderAttr']\n",
        "print(wi.params.path)"
      ]
    },
    {
      "cell_type": "code",
      "execution_count": 22,
      "metadata": {
        "colab": {
          "base_uri": "https://localhost:8080/"
        },
        "id": "PHlUaA1xj95i",
        "outputId": "37477248-4209-48d9-c1b4-9e922e560ed6"
      },
      "outputs": [
        {
          "output_type": "stream",
          "name": "stdout",
          "text": [
            "Generate  crowderAttr\n",
            "Wrote crowder_crowderAttr.bash\n"
          ]
        }
      ],
      "source": [
        "for daKey in keys:\n",
        "    print(\"Generate \",daKey)\n",
        "    writeFile = crowders['outName']+\"_\"+daKey+\".bash\"\n",
        "    if daKey == 'nCrowders':\n",
        "      varItersList = [1,4,9,16,18]\n",
        "    elif daKey == 'crowderRad':\n",
        "      varItersList = [0.1,1,3,5,7,9,10]\n",
        "    elif daKey == 'crowderAttr':\n",
        "      #varItersList = [0.1,1,3,5,7,9,10]\n",
        "      varItersList = [10,25,50,75,100]\n",
        "    else:\n",
        "      varItersList= varIter\n",
        "    wi.WriteIterativeYaml(crowders,daKey,varIter=varItersList, varRuns=varRuns,\n",
        "                         writeFile=writeFile)"
      ]
    },
    {
      "cell_type": "code",
      "execution_count": null,
      "metadata": {
        "id": "fhhZydTdj95i"
      },
      "outputs": [],
      "source": []
    },
    {
      "cell_type": "code",
      "execution_count": null,
      "metadata": {
        "id": "VEV6h6Q0j95i"
      },
      "outputs": [],
      "source": [
        "#bp.processYamls(crowders['outName'],yamlNamePrefix=crowders['outName'],prefixOptions=keys)"
      ]
    },
    {
      "cell_type": "markdown",
      "metadata": {
        "id": "5EjsW503j95i"
      },
      "source": [
        "### +ATP"
      ]
    },
    {
      "cell_type": "code",
      "execution_count": 26,
      "metadata": {
        "colab": {
          "base_uri": "https://localhost:8080/"
        },
        "id": "UVi0u-LVj95i",
        "outputId": "74678853-0756-4131-8132-998ae3c226a8"
      },
      "outputs": [
        {
          "output_type": "stream",
          "name": "stdout",
          "text": [
            "/content/drive/MyDrive/temp/231212\n"
          ]
        }
      ],
      "source": [
        "crowdersatp = daVars.copy()\n",
        "crowdersatp['outName']='crowder_atp'\n",
        "crowdersatp['xPotential']=True\n",
        "keys=['nCrowders','crowderRad','crowderAttr']\n",
        "keys=['crowderAttr']\n",
        "print(wi.params.path)"
      ]
    },
    {
      "cell_type": "code",
      "execution_count": 25,
      "metadata": {
        "colab": {
          "base_uri": "https://localhost:8080/"
        },
        "id": "t5CEPNbGj95i",
        "outputId": "01b058b9-dad0-4b99-939c-96a3bb59babe"
      },
      "outputs": [
        {
          "output_type": "stream",
          "name": "stdout",
          "text": [
            "Generate  nCrowders\n",
            "Wrote crowder_atp_nCrowders.bash\n",
            "Generate  crowderRad\n",
            "Wrote crowder_atp_crowderRad.bash\n",
            "Generate  crowderAttr\n",
            "Wrote crowder_atp_crowderAttr.bash\n"
          ]
        }
      ],
      "source": [
        "for daKey in keys:\n",
        "    print(\"Generate \",daKey)\n",
        "    writeFile = crowdersatp['outName']+\"_\"+daKey+\".bash\"\n",
        "    if daKey == 'nCrowders':\n",
        "      varItersList = [1,4,9,16,18]\n",
        "    elif daKey == 'crowderRad':\n",
        "      varItersList = [0.1,1,3,5,7,9,10]\n",
        "    elif daKey == 'crowderAttr':\n",
        "      #varItersList = [0.1,1,3,5,7,9,10]\n",
        "      varItersList = [10,25,50,75,100]\n",
        "    #elif \"xScale\" in daKey:\n",
        "    #  varItersList = [0,1.,2.,3.,4.,5.,6.,7.]\n",
        "    else:\n",
        "      varItersList = 7\n",
        "    wi.WriteIterativeYaml(crowdersatp,daKey,varIter=varItersList, varRuns=varRuns,\n",
        "                         writeFile=writeFile)"
      ]
    },
    {
      "cell_type": "code",
      "execution_count": null,
      "metadata": {
        "id": "6ykopKvIj95i"
      },
      "outputs": [],
      "source": [
        "# bp.processYamls(crowdersatp['outName'],yamlNamePrefix=crowdersatp['outName'],prefixOptions=keys)"
      ]
    },
    {
      "cell_type": "markdown",
      "metadata": {
        "id": "W_B2XCl3j95i"
      },
      "source": [
        "## Move bash files"
      ]
    },
    {
      "cell_type": "code",
      "execution_count": null,
      "metadata": {
        "id": "3LiAQqU8j95i"
      },
      "outputs": [],
      "source": []
    },
    {
      "cell_type": "code",
      "source": [
        "!ln -s /content/drive/MyDrive/temp/231212/ /content/231212"
      ],
      "metadata": {
        "id": "KU-01bFmxBwC"
      },
      "execution_count": 27,
      "outputs": []
    },
    {
      "cell_type": "code",
      "source": [
        "!cp *sh /content/231212/"
      ],
      "metadata": {
        "id": "xMU2E5g1NZh1"
      },
      "execution_count": 28,
      "outputs": []
    },
    {
      "cell_type": "code",
      "source": [
        "!ls -lrt"
      ],
      "metadata": {
        "id": "xvnnjF_ONjZk",
        "outputId": "51060f53-4ef5-4a6d-bed0-d01745fd687f",
        "colab": {
          "base_uri": "https://localhost:8080/"
        }
      },
      "execution_count": 29,
      "outputs": [
        {
          "output_type": "stream",
          "name": "stdout",
          "text": [
            "total 36\n",
            "drwxr-xr-x 1 root root 4096 Dec 28 14:19 sample_data\n",
            "drwxr-xr-x 7 root root 4096 Jan  2 21:35 cellmigration\n",
            "drwx------ 5 root root 4096 Jan  2 21:36 drive\n",
            "-rw-r--r-- 1 root root 1425 Jan  2 21:43 nocrowder_cellAttr.bash\n",
            "-rw-r--r-- 1 root root 1525 Jan  2 21:48 nocrowder_atp_cellAttr.bash\n",
            "-rw-r--r-- 1 root root 1505 Jan  2 21:48 nocrowder_atp_xScale.bash\n",
            "-rw-r--r-- 1 root root 1805 Jan  2 21:48 nocrowder_atp_yScale.bash\n",
            "-rw-r--r-- 1 root root 1480 Jan  2 21:50 crowder_crowderAttr.bash\n",
            "-rw-r--r-- 1 root root 1580 Jan  2 21:51 crowder_atp_crowderAttr.bash\n",
            "lrwxrwxrwx 1 root root   35 Jan  2 22:05 231212 -> /content/drive/MyDrive/temp/231212/\n"
          ]
        }
      ]
    },
    {
      "cell_type": "code",
      "source": [],
      "metadata": {
        "id": "6aiRNEdfRafb"
      },
      "execution_count": null,
      "outputs": []
    }
  ],
  "metadata": {
    "kernelspec": {
      "display_name": "Python 3",
      "language": "python",
      "name": "python3"
    },
    "language_info": {
      "codemirror_mode": {
        "name": "ipython",
        "version": 3
      },
      "file_extension": ".py",
      "mimetype": "text/x-python",
      "name": "python",
      "nbconvert_exporter": "python",
      "pygments_lexer": "ipython3",
      "version": "3.8.3"
    },
    "colab": {
      "provenance": [],
      "include_colab_link": true
    }
  },
  "nbformat": 4,
  "nbformat_minor": 0
}