{
  "cells": [
    {
      "cell_type": "markdown",
      "metadata": {
        "id": "view-in-github",
        "colab_type": "text"
      },
      "source": [
        "<a href=\"https://colab.research.google.com/github/huskeypm/cellmigration/blob/main/master.ipynb\" target=\"_parent\"><img src=\"https://colab.research.google.com/assets/colab-badge.svg\" alt=\"Open In Colab\"/></a>"
      ]
    },
    {
      "cell_type": "markdown",
      "metadata": {
        "id": "Cd3hIYm7j95e"
      },
      "source": [
        "# master\n",
        "Workhorse for generating and executing jobs in support of migration paper.\n",
        "\n",
        "Once the csv files are made from the postprocessing, use the colab notebook to plot:\n",
        "\n",
        "\n"
      ]
    },
    {
      "cell_type": "code",
      "execution_count": 30,
      "metadata": {
        "id": "t-dl66Y8j95f",
        "outputId": "09140454-aa58-48cd-c516-c28dbaa3f16c",
        "colab": {
          "base_uri": "https://localhost:8080/"
        }
      },
      "outputs": [
        {
          "output_type": "stream",
          "name": "stdout",
          "text": [
            "The autoreload extension is already loaded. To reload it, use:\n",
            "  %reload_ext autoreload\n"
          ]
        }
      ],
      "source": [
        "%load_ext autoreload\n",
        "%autoreload 2"
      ]
    },
    {
      "cell_type": "code",
      "source": [
        "!git clone https://github.com/huskeypm/cellmigration\n",
        "#!cd cellmigration; git pull"
      ],
      "metadata": {
        "colab": {
          "base_uri": "https://localhost:8080/"
        },
        "id": "UlsR7HREkE2b",
        "outputId": "ee5fbc04-088e-46cc-d377-4b5585977929"
      },
      "execution_count": 2,
      "outputs": [
        {
          "output_type": "stream",
          "name": "stdout",
          "text": [
            "Cloning into 'cellmigration'...\n",
            "remote: Enumerating objects: 693, done.\u001b[K\n",
            "remote: Counting objects: 100% (183/183), done.\u001b[K\n",
            "remote: Compressing objects: 100% (128/128), done.\u001b[K\n",
            "remote: Total 693 (delta 109), reused 103 (delta 55), pack-reused 510\u001b[K\n",
            "Receiving objects: 100% (693/693), 10.52 MiB | 12.40 MiB/s, done.\n",
            "Resolving deltas: 100% (446/446), done.\n"
          ]
        }
      ]
    },
    {
      "cell_type": "code",
      "source": [
        "import sys\n",
        "sys.path.append(\"/content/cellmigration/\")\n",
        "\n",
        "\n",
        "from google.colab import drive\n",
        "gDrive='/content/drive/'\n",
        "drive.mount(gDrive)\n",
        "gDrive += \"MyDrive/temp/231212\"\n",
        "\n",
        "\n"
      ],
      "metadata": {
        "id": "809Tt7izkLmx",
        "outputId": "c5110b9e-3199-474f-c743-cc8ddff3e029",
        "colab": {
          "base_uri": "https://localhost:8080/"
        }
      },
      "execution_count": 31,
      "outputs": [
        {
          "output_type": "stream",
          "name": "stdout",
          "text": [
            "Drive already mounted at /content/drive/; to attempt to forcibly remount, call drive.mount(\"/content/drive/\", force_remount=True).\n"
          ]
        }
      ]
    },
    {
      "cell_type": "code",
      "source": [],
      "metadata": {
        "id": "vRU0z1lGkYYO"
      },
      "execution_count": 31,
      "outputs": []
    },
    {
      "cell_type": "code",
      "execution_count": 32,
      "metadata": {
        "scrolled": true,
        "colab": {
          "base_uri": "https://localhost:8080/"
        },
        "id": "nLCebyg8j95g",
        "outputId": "3d4796cd-e0f2-4f02-ef0c-4f09c0d5db8e"
      },
      "outputs": [
        {
          "output_type": "stream",
          "name": "stdout",
          "text": [
            "ADJ PATH LATER\n",
            "$EXEC \n",
            "/content/drive/MyDrive/temp/231212\n"
          ]
        }
      ],
      "source": [
        "import yaml\n",
        "import sys\n",
        "\n",
        "sys.path.append('/content/cellmigration/paper/')\n",
        "import writeInputs as wi\n",
        "#import batchProcess as bp\n",
        "#outDir = \"/home/pkh-lab-shared/migration/231110/\"\n",
        "outDir = \"/home/pkekeneshuskey/data/231212/\"\n",
        "outDir = gDrive\n",
        "# FOR LOCAL\n",
        "cmd = \"python3 brownian_v3.py -yamlFile \" # if local\n",
        "\n",
        "# FOR FAUST/W\n",
        "cmd='$EXEC ' # if remote host\n",
        "\n",
        "wi.params = wi.Params(\n",
        "    cmd=cmd,\n",
        "    path=outDir\n",
        ")\n",
        "\n",
        "print(wi.params.cmd)\n",
        "print(wi.params.path)\n",
        "\n",
        "varIter = 7 # keys\n",
        "varRuns = 5 # replicates per run\n",
        "\n"
      ]
    },
    {
      "cell_type": "markdown",
      "metadata": {
        "id": "zK56qkX8j95g"
      },
      "source": [
        "The idea of the reference file is to have a complete system that toggled - for instance, we have a case that is tuned for ATP application, but we can set the ATP concentration to zero to emulate a ATP-free condition. Also want values that are intermediate, so when we vary them by 50%-200%, we get reasonable numbers"
      ]
    },
    {
      "cell_type": "code",
      "execution_count": 33,
      "metadata": {
        "id": "xPv_JtxQj95g"
      },
      "outputs": [],
      "source": [
        "referenceFile=\"cellmigration/paper/template_full.yaml\"\n",
        "with open(referenceFile, 'r') as file:\n",
        "     daVars = yaml.safe_load(file)"
      ]
    },
    {
      "cell_type": "markdown",
      "metadata": {
        "id": "nGKnK-LGj95g"
      },
      "source": [
        "## crowder free case\n",
        "### No ATP\n",
        "Can copy/paste into file to run\n"
      ]
    },
    {
      "cell_type": "code",
      "execution_count": 37,
      "metadata": {
        "id": "LV9Pd5H_j95h"
      },
      "outputs": [],
      "source": [
        "nocrowders = daVars.copy()\n",
        "nocrowders['nCrowders']=1\n",
        "nocrowders['crowderRad']=0.1\n",
        "nocrowders['outName']='nocrowder'\n",
        "keys=['nCells','cellRad','cellAttr']\n",
        "\n",
        "#nocrowders"
      ]
    },
    {
      "cell_type": "code",
      "source": [
        "nocrowders_nocontainment = nocrowders.copy()\n",
        "nocrowders_nocontainment['containmentPotential']=False\n",
        "nocrowders_nocontainment['nUpdates']=10000\n",
        "nocrowders_nocontainment['absorbingBoundary']=False\n",
        "nocrowders_nocontainment['xPotential']=True\n",
        "nocrowders_nocontainment['outName']= 'nocrowder_nocontainment'\n",
        "key=['xScale']\n",
        "varItersList = [0] # only one conc. makes sense ,1.,2.,3.,4.,5.,6.,7.]\n",
        "\n",
        "daKey = key[0]\n",
        "print(\"Generate \",daKey)\n",
        "writeFile = nocrowders_nocontainment['outName']+\"_\"+daKey+\".bash\"\n",
        "wi.WriteIterativeYaml(nocrowders_nocontainment,daKey,varIter=varItersList, varRuns=varRuns,\n",
        "                      writeFile=writeFile)"
      ],
      "metadata": {
        "colab": {
          "base_uri": "https://localhost:8080/"
        },
        "id": "3SBEDGHVk0A_",
        "outputId": "1e20a593-7a90-4092-a872-a040ebe21903"
      },
      "execution_count": 38,
      "outputs": [
        {
          "output_type": "stream",
          "name": "stdout",
          "text": [
            "Generate  xScale\n",
            "Wrote nocrowder_nocontainment_xScale.bash\n"
          ]
        }
      ]
    },
    {
      "cell_type": "code",
      "execution_count": 40,
      "metadata": {
        "colab": {
          "base_uri": "https://localhost:8080/"
        },
        "id": "caQdxYxYj95h",
        "outputId": "b927f90c-41f2-4164-f74f-0ec3ec2a3276"
      },
      "outputs": [
        {
          "output_type": "stream",
          "name": "stdout",
          "text": [
            "Generate  nCells\n",
            "Wrote nocrowder_nCells.bash\n",
            "Generate  cellRad\n",
            "cellRad [2.         2.5198421  3.1748021  4.         5.0396842  6.34960421\n",
            " 8.        ]\n",
            "Wrote nocrowder_cellRad.bash\n",
            "Generate  cellAttr\n",
            "cellAttr [0.05       0.06299605 0.07937005 0.1        0.1259921  0.15874011\n",
            " 0.2       ]\n",
            "Wrote nocrowder_cellAttr.bash\n"
          ]
        }
      ],
      "source": [
        "\n",
        "####### cellAttr ----> particleAttr\n",
        "for daKey in keys:\n",
        "    print(\"Generate \",daKey)\n",
        "    if \"nCells\" in daKey:\n",
        "      varItersList = [30,40,50,60,70,80,90]\n",
        "    else:\n",
        "      varItersList = varIter\n",
        "    writeFile = nocrowders['outName']+\"_\"+daKey+\".bash\"\n",
        "    wi.WriteIterativeYaml(nocrowders,daKey,varIter=varItersList, varRuns=varRuns,\n",
        "                         writeFile=writeFile)\n"
      ]
    },
    {
      "cell_type": "code",
      "execution_count": 41,
      "metadata": {
        "id": "3zGl80-6j95h"
      },
      "outputs": [],
      "source": [
        "# generally too slow to run in notebook\n",
        "#bp.processYamls(nocrowders['outName'],yamlNamePrefix=nocrowders['outName'],prefixOptions=keys,\n",
        "#               display=False)"
      ]
    },
    {
      "cell_type": "markdown",
      "metadata": {
        "id": "RdeHpAqfj95h"
      },
      "source": [
        "### + ATP\n",
        "\n"
      ]
    },
    {
      "cell_type": "code",
      "execution_count": 42,
      "metadata": {
        "colab": {
          "base_uri": "https://localhost:8080/"
        },
        "id": "unA80tJYj95h",
        "outputId": "b1953a55-942b-4006-ea6d-99dd657b6cc0"
      },
      "outputs": [
        {
          "output_type": "stream",
          "name": "stdout",
          "text": [
            "/content/drive/MyDrive/temp/231212\n"
          ]
        }
      ],
      "source": [
        "nocrowdersatp = daVars.copy()\n",
        "nocrowdersatp['nCrowders']=1\n",
        "nocrowdersatp['crowderRad']=0.1\n",
        "nocrowdersatp['outName']='nocrowder_atp'\n",
        "nocrowdersatp['xPotential']=True\n",
        "keys=['nCells','cellRad','cellAttr','xScale','yScale']\n",
        "print(wi.params.path)"
      ]
    },
    {
      "cell_type": "code",
      "execution_count": 43,
      "metadata": {
        "colab": {
          "base_uri": "https://localhost:8080/"
        },
        "id": "-6n8O9evj95h",
        "outputId": "4fc73bb3-e829-4892-f95e-984cc4f628c8"
      },
      "outputs": [
        {
          "output_type": "stream",
          "name": "stdout",
          "text": [
            "Generate  nCells\n",
            "Wrote nocrowder_atp_nCells.bash\n",
            "Generate  cellRad\n",
            "cellRad [2.         2.5198421  3.1748021  4.         5.0396842  6.34960421\n",
            " 8.        ]\n",
            "Wrote nocrowder_atp_cellRad.bash\n",
            "Generate  cellAttr\n",
            "cellAttr [0.05       0.06299605 0.07937005 0.1        0.1259921  0.15874011\n",
            " 0.2       ]\n",
            "Wrote nocrowder_atp_cellAttr.bash\n",
            "Generate  xScale\n",
            "Wrote nocrowder_atp_xScale.bash\n",
            "Generate  yScale\n",
            "Wrote nocrowder_atp_yScale.bash\n"
          ]
        }
      ],
      "source": [
        "\n",
        "\n",
        "for daKey in keys:\n",
        "    print(\"Generate \",daKey)\n",
        "    if \"nCells\" in daKey:\n",
        "      varItersList = [30,40,50,60,70,80,90]\n",
        "    elif \"xScale\" in daKey:\n",
        "      varItersList = [0,1.,2.,3.,4.,5.,6.,7.]\n",
        "    elif \"yScale\" in daKey:\n",
        "      varItersList = [0,1.,2.,3.,4.,5.,6.,7.]\n",
        "    else:\n",
        "      varItersList = varIter\n",
        "    writeFile = nocrowdersatp['outName']+\"_\"+daKey+\".bash\"\n",
        "    wi.WriteIterativeYaml(nocrowdersatp,daKey,varIter=varItersList, varRuns=varRuns,\n",
        "                         writeFile=writeFile)\n",
        "\n"
      ]
    },
    {
      "cell_type": "code",
      "execution_count": 44,
      "metadata": {
        "id": "aLUe3QMHj95h"
      },
      "outputs": [],
      "source": [
        "#bp.processYamls(nocrowdersatp['outName'],\n",
        "#                yamlNamePrefix=nocrowdersatp['outName'],prefixOptions=keys,\n",
        "#                display=False\n",
        "#               )"
      ]
    },
    {
      "cell_type": "markdown",
      "metadata": {
        "id": "8cZXE3hTj95i"
      },
      "source": [
        "## crowder  case\n",
        "### No ATP"
      ]
    },
    {
      "cell_type": "code",
      "execution_count": 45,
      "metadata": {
        "colab": {
          "base_uri": "https://localhost:8080/"
        },
        "id": "85iH6QKQj95i",
        "outputId": "827d6695-df82-4e91-cdd1-60d49d817c8c"
      },
      "outputs": [
        {
          "output_type": "stream",
          "name": "stdout",
          "text": [
            "/content/drive/MyDrive/temp/231212\n"
          ]
        }
      ],
      "source": [
        "crowders = daVars.copy()\n",
        "crowders['outName']='crowder'\n",
        "keys=['nCrowders','crowderRad','crowderAttr']\n",
        "print(wi.params.path)"
      ]
    },
    {
      "cell_type": "code",
      "execution_count": 46,
      "metadata": {
        "colab": {
          "base_uri": "https://localhost:8080/"
        },
        "id": "PHlUaA1xj95i",
        "outputId": "55fd642f-8301-4752-e92f-a02b6e9ac4ef"
      },
      "outputs": [
        {
          "output_type": "stream",
          "name": "stdout",
          "text": [
            "Generate  nCrowders\n",
            "Wrote crowder_nCrowders.bash\n",
            "Generate  crowderRad\n",
            "Wrote crowder_crowderRad.bash\n",
            "Generate  crowderAttr\n",
            "crowderAttr [0.05       0.06299605 0.07937005 0.1        0.1259921  0.15874011\n",
            " 0.2       ]\n",
            "Wrote crowder_crowderAttr.bash\n"
          ]
        }
      ],
      "source": [
        "for daKey in keys:\n",
        "    print(\"Generate \",daKey)\n",
        "    writeFile = crowders['outName']+\"_\"+daKey+\".bash\"\n",
        "    if daKey == 'nCrowders':\n",
        "      varItersList = [1,4,9,16,18]\n",
        "    elif daKey == 'crowderRad':\n",
        "      varItersList = [0.1,1,3,5,7,9,10]\n",
        "    else:\n",
        "      varItersList= varIter\n",
        "    wi.WriteIterativeYaml(crowders,daKey,varIter=varItersList, varRuns=varRuns,\n",
        "                         writeFile=writeFile)"
      ]
    },
    {
      "cell_type": "code",
      "execution_count": 46,
      "metadata": {
        "id": "fhhZydTdj95i"
      },
      "outputs": [],
      "source": []
    },
    {
      "cell_type": "code",
      "execution_count": 47,
      "metadata": {
        "id": "VEV6h6Q0j95i"
      },
      "outputs": [],
      "source": [
        "#bp.processYamls(crowders['outName'],yamlNamePrefix=crowders['outName'],prefixOptions=keys)"
      ]
    },
    {
      "cell_type": "markdown",
      "metadata": {
        "id": "5EjsW503j95i"
      },
      "source": [
        "### +ATP"
      ]
    },
    {
      "cell_type": "code",
      "execution_count": 48,
      "metadata": {
        "colab": {
          "base_uri": "https://localhost:8080/"
        },
        "id": "UVi0u-LVj95i",
        "outputId": "7c67fc8c-a03d-43f7-b2c6-b2687a468854"
      },
      "outputs": [
        {
          "output_type": "stream",
          "name": "stdout",
          "text": [
            "/content/drive/MyDrive/temp/231212\n"
          ]
        }
      ],
      "source": [
        "crowdersatp = daVars.copy()\n",
        "crowdersatp['outName']='crowder_atp'\n",
        "crowdersatp['xPotential']=True\n",
        "keys=['nCrowders','crowderRad','crowderAttr']\n",
        "print(wi.params.path)"
      ]
    },
    {
      "cell_type": "code",
      "execution_count": 49,
      "metadata": {
        "colab": {
          "base_uri": "https://localhost:8080/"
        },
        "id": "t5CEPNbGj95i",
        "outputId": "722ab3f6-4c46-4fe3-e41c-e9acb641c745"
      },
      "outputs": [
        {
          "output_type": "stream",
          "name": "stdout",
          "text": [
            "Generate  nCrowders\n",
            "Wrote crowder_atp_nCrowders.bash\n",
            "Generate  crowderRad\n",
            "Wrote crowder_atp_crowderRad.bash\n",
            "Generate  crowderAttr\n",
            "crowderAttr [0.05       0.06299605 0.07937005 0.1        0.1259921  0.15874011\n",
            " 0.2       ]\n",
            "Wrote crowder_atp_crowderAttr.bash\n"
          ]
        }
      ],
      "source": [
        "for daKey in keys:\n",
        "    print(\"Generate \",daKey)\n",
        "    writeFile = crowdersatp['outName']+\"_\"+daKey+\".bash\"\n",
        "    if daKey == 'nCrowders':\n",
        "      varItersList = [1,4,9,16,18]\n",
        "    elif daKey == 'crowderRad':\n",
        "      varItersList = [0.1,1,3,5,7,9,10]\n",
        "    #elif \"xScale\" in daKey:\n",
        "    #  varItersList = [0,1.,2.,3.,4.,5.,6.,7.]\n",
        "    else:\n",
        "      varItersList = 7\n",
        "    wi.WriteIterativeYaml(crowdersatp,daKey,varIter=varItersList, varRuns=varRuns,\n",
        "                         writeFile=writeFile)"
      ]
    },
    {
      "cell_type": "code",
      "execution_count": 29,
      "metadata": {
        "id": "6ykopKvIj95i"
      },
      "outputs": [],
      "source": [
        "# bp.processYamls(crowdersatp['outName'],yamlNamePrefix=crowdersatp['outName'],prefixOptions=keys)"
      ]
    },
    {
      "cell_type": "markdown",
      "metadata": {
        "id": "W_B2XCl3j95i"
      },
      "source": [
        "## Move bash files"
      ]
    },
    {
      "cell_type": "code",
      "execution_count": 53,
      "metadata": {
        "id": "3LiAQqU8j95i"
      },
      "outputs": [],
      "source": [
        "mv *sh /content/drive/MyDrive/temp/231212/"
      ]
    },
    {
      "cell_type": "code",
      "source": [],
      "metadata": {
        "id": "KU-01bFmxBwC"
      },
      "execution_count": null,
      "outputs": []
    }
  ],
  "metadata": {
    "kernelspec": {
      "display_name": "Python 3",
      "language": "python",
      "name": "python3"
    },
    "language_info": {
      "codemirror_mode": {
        "name": "ipython",
        "version": 3
      },
      "file_extension": ".py",
      "mimetype": "text/x-python",
      "name": "python",
      "nbconvert_exporter": "python",
      "pygments_lexer": "ipython3",
      "version": "3.8.3"
    },
    "colab": {
      "provenance": [],
      "include_colab_link": true
    }
  },
  "nbformat": 4,
  "nbformat_minor": 0
}
